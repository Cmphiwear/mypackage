{
  "nbformat": 4,
  "nbformat_minor": 0,
  "metadata": {
    "kernelspec": {
      "display_name": "Python 3",
      "language": "python",
      "name": "python3"
    },
    "language_info": {
      "codemirror_mode": {
        "name": "ipython",
        "version": 3
      },
      "file_extension": ".py",
      "mimetype": "text/x-python",
      "name": "python",
      "nbconvert_exporter": "python",
      "pygments_lexer": "ipython3",
      "version": "3.7.0"
    },
    "colab": {
      "name": "Loan Prediction.ipynb",
      "provenance": [],
      "include_colab_link": true
    }
  },
  "cells": [
    {
      "cell_type": "markdown",
      "metadata": {
        "id": "view-in-github",
        "colab_type": "text"
      },
      "source": [
        "<a href=\"https://colab.research.google.com/github/simied/mypackage/blob/master/Loan_Prediction.ipynb\" target=\"_parent\"><img src=\"https://colab.research.google.com/assets/colab-badge.svg\" alt=\"Open In Colab\"/></a>"
      ]
    },
    {
      "cell_type": "markdown",
      "metadata": {
        "id": "JsUwm9mSMZo8",
        "colab_type": "text"
      },
      "source": [
        "# Loan Prediction"
      ]
    },
    {
      "cell_type": "markdown",
      "metadata": {
        "id": "VHdnY_wTMZpH",
        "colab_type": "text"
      },
      "source": [
        "I will be constructing a model to predict whose likely to have loan /Granted Loan"
      ]
    },
    {
      "cell_type": "markdown",
      "metadata": {
        "id": "SOgLWkJDMZpL",
        "colab_type": "text"
      },
      "source": [
        "### Hypothesis"
      ]
    },
    {
      "cell_type": "markdown",
      "metadata": {
        "id": "ZBIsdX_RMZpO",
        "colab_type": "text"
      },
      "source": [
        "People with a good credit history are mostly likely to be granted Loan."
      ]
    },
    {
      "cell_type": "code",
      "metadata": {
        "id": "4jwEkMOiMZpR",
        "colab_type": "code",
        "colab": {}
      },
      "source": [
        "import numpy as np\n",
        "import pandas as pd\n",
        "from matplotlib import pyplot as plt\n",
        "import seaborn as sns\n",
        "\n",
        "from sklearn import preprocessing\n",
        "from sklearn.model_selection import train_test_split\n",
        "from sklearn.metrics import accuracy_score\n",
        "from sklearn.metrics import confusion_matrix\n",
        "\n",
        "from sklearn.model_selection import GridSearchCV\n",
        "\n",
        "%matplotlib inline\n",
        "\n",
        "#to do some plotting\n",
        "plt.style.use(style='ggplot')\n",
        "plt.rcParams['figure.figsize'] = (10, 6)\n",
        "\n",
        "#warning disabler\n",
        "import warnings\n",
        "warnings.filterwarnings(\"ignore\")"
      ],
      "execution_count": 0,
      "outputs": []
    },
    {
      "cell_type": "code",
      "metadata": {
        "id": "ty2w9_pKMZp-",
        "colab_type": "code",
        "colab": {}
      },
      "source": [
        "train = pd.read_csv('train_ctrUa4K.csv')\n",
        "test = pd.read_csv('test_lAUu6dG.csv')\n",
        "sample = pd.read_csv('sample_submission_49d68Cx.csv')"
      ],
      "execution_count": 0,
      "outputs": []
    },
    {
      "cell_type": "code",
      "metadata": {
        "id": "PQVgB5WbMZq2",
        "colab_type": "code",
        "colab": {}
      },
      "source": [
        "def head_view():\n",
        "    display(test.head())\n",
        "    display(train.head())\n",
        "    pass \n",
        "    "
      ],
      "execution_count": 0,
      "outputs": []
    },
    {
      "cell_type": "code",
      "metadata": {
        "id": "tTJTUqxbMZrR",
        "colab_type": "code",
        "colab": {},
        "outputId": "3726e719-b2ce-44e3-ef5e-bf130b875215"
      },
      "source": [
        "head_view()"
      ],
      "execution_count": 0,
      "outputs": [
        {
          "output_type": "display_data",
          "data": {
            "text/html": [
              "<div>\n",
              "<style scoped>\n",
              "    .dataframe tbody tr th:only-of-type {\n",
              "        vertical-align: middle;\n",
              "    }\n",
              "\n",
              "    .dataframe tbody tr th {\n",
              "        vertical-align: top;\n",
              "    }\n",
              "\n",
              "    .dataframe thead th {\n",
              "        text-align: right;\n",
              "    }\n",
              "</style>\n",
              "<table border=\"1\" class=\"dataframe\">\n",
              "  <thead>\n",
              "    <tr style=\"text-align: right;\">\n",
              "      <th></th>\n",
              "      <th>Loan_ID</th>\n",
              "      <th>Gender</th>\n",
              "      <th>Married</th>\n",
              "      <th>Dependents</th>\n",
              "      <th>Education</th>\n",
              "      <th>Self_Employed</th>\n",
              "      <th>ApplicantIncome</th>\n",
              "      <th>CoapplicantIncome</th>\n",
              "      <th>LoanAmount</th>\n",
              "      <th>Loan_Amount_Term</th>\n",
              "      <th>Credit_History</th>\n",
              "      <th>Property_Area</th>\n",
              "    </tr>\n",
              "  </thead>\n",
              "  <tbody>\n",
              "    <tr>\n",
              "      <th>0</th>\n",
              "      <td>LP001015</td>\n",
              "      <td>Male</td>\n",
              "      <td>Yes</td>\n",
              "      <td>0</td>\n",
              "      <td>Graduate</td>\n",
              "      <td>No</td>\n",
              "      <td>5720</td>\n",
              "      <td>0</td>\n",
              "      <td>110.0</td>\n",
              "      <td>360.0</td>\n",
              "      <td>1.0</td>\n",
              "      <td>Urban</td>\n",
              "    </tr>\n",
              "    <tr>\n",
              "      <th>1</th>\n",
              "      <td>LP001022</td>\n",
              "      <td>Male</td>\n",
              "      <td>Yes</td>\n",
              "      <td>1</td>\n",
              "      <td>Graduate</td>\n",
              "      <td>No</td>\n",
              "      <td>3076</td>\n",
              "      <td>1500</td>\n",
              "      <td>126.0</td>\n",
              "      <td>360.0</td>\n",
              "      <td>1.0</td>\n",
              "      <td>Urban</td>\n",
              "    </tr>\n",
              "    <tr>\n",
              "      <th>2</th>\n",
              "      <td>LP001031</td>\n",
              "      <td>Male</td>\n",
              "      <td>Yes</td>\n",
              "      <td>2</td>\n",
              "      <td>Graduate</td>\n",
              "      <td>No</td>\n",
              "      <td>5000</td>\n",
              "      <td>1800</td>\n",
              "      <td>208.0</td>\n",
              "      <td>360.0</td>\n",
              "      <td>1.0</td>\n",
              "      <td>Urban</td>\n",
              "    </tr>\n",
              "    <tr>\n",
              "      <th>3</th>\n",
              "      <td>LP001035</td>\n",
              "      <td>Male</td>\n",
              "      <td>Yes</td>\n",
              "      <td>2</td>\n",
              "      <td>Graduate</td>\n",
              "      <td>No</td>\n",
              "      <td>2340</td>\n",
              "      <td>2546</td>\n",
              "      <td>100.0</td>\n",
              "      <td>360.0</td>\n",
              "      <td>NaN</td>\n",
              "      <td>Urban</td>\n",
              "    </tr>\n",
              "    <tr>\n",
              "      <th>4</th>\n",
              "      <td>LP001051</td>\n",
              "      <td>Male</td>\n",
              "      <td>No</td>\n",
              "      <td>0</td>\n",
              "      <td>Not Graduate</td>\n",
              "      <td>No</td>\n",
              "      <td>3276</td>\n",
              "      <td>0</td>\n",
              "      <td>78.0</td>\n",
              "      <td>360.0</td>\n",
              "      <td>1.0</td>\n",
              "      <td>Urban</td>\n",
              "    </tr>\n",
              "  </tbody>\n",
              "</table>\n",
              "</div>"
            ],
            "text/plain": [
              "    Loan_ID Gender Married Dependents     Education Self_Employed  \\\n",
              "0  LP001015   Male     Yes          0      Graduate            No   \n",
              "1  LP001022   Male     Yes          1      Graduate            No   \n",
              "2  LP001031   Male     Yes          2      Graduate            No   \n",
              "3  LP001035   Male     Yes          2      Graduate            No   \n",
              "4  LP001051   Male      No          0  Not Graduate            No   \n",
              "\n",
              "   ApplicantIncome  CoapplicantIncome  LoanAmount  Loan_Amount_Term  \\\n",
              "0             5720                  0       110.0             360.0   \n",
              "1             3076               1500       126.0             360.0   \n",
              "2             5000               1800       208.0             360.0   \n",
              "3             2340               2546       100.0             360.0   \n",
              "4             3276                  0        78.0             360.0   \n",
              "\n",
              "   Credit_History Property_Area  \n",
              "0             1.0         Urban  \n",
              "1             1.0         Urban  \n",
              "2             1.0         Urban  \n",
              "3             NaN         Urban  \n",
              "4             1.0         Urban  "
            ]
          },
          "metadata": {
            "tags": []
          }
        },
        {
          "output_type": "display_data",
          "data": {
            "text/html": [
              "<div>\n",
              "<style scoped>\n",
              "    .dataframe tbody tr th:only-of-type {\n",
              "        vertical-align: middle;\n",
              "    }\n",
              "\n",
              "    .dataframe tbody tr th {\n",
              "        vertical-align: top;\n",
              "    }\n",
              "\n",
              "    .dataframe thead th {\n",
              "        text-align: right;\n",
              "    }\n",
              "</style>\n",
              "<table border=\"1\" class=\"dataframe\">\n",
              "  <thead>\n",
              "    <tr style=\"text-align: right;\">\n",
              "      <th></th>\n",
              "      <th>Loan_ID</th>\n",
              "      <th>Gender</th>\n",
              "      <th>Married</th>\n",
              "      <th>Dependents</th>\n",
              "      <th>Education</th>\n",
              "      <th>Self_Employed</th>\n",
              "      <th>ApplicantIncome</th>\n",
              "      <th>CoapplicantIncome</th>\n",
              "      <th>LoanAmount</th>\n",
              "      <th>Loan_Amount_Term</th>\n",
              "      <th>Credit_History</th>\n",
              "      <th>Property_Area</th>\n",
              "      <th>Loan_Status</th>\n",
              "    </tr>\n",
              "  </thead>\n",
              "  <tbody>\n",
              "    <tr>\n",
              "      <th>0</th>\n",
              "      <td>LP001002</td>\n",
              "      <td>Male</td>\n",
              "      <td>No</td>\n",
              "      <td>0</td>\n",
              "      <td>Graduate</td>\n",
              "      <td>No</td>\n",
              "      <td>5849</td>\n",
              "      <td>0.0</td>\n",
              "      <td>NaN</td>\n",
              "      <td>360.0</td>\n",
              "      <td>1.0</td>\n",
              "      <td>Urban</td>\n",
              "      <td>Y</td>\n",
              "    </tr>\n",
              "    <tr>\n",
              "      <th>1</th>\n",
              "      <td>LP001003</td>\n",
              "      <td>Male</td>\n",
              "      <td>Yes</td>\n",
              "      <td>1</td>\n",
              "      <td>Graduate</td>\n",
              "      <td>No</td>\n",
              "      <td>4583</td>\n",
              "      <td>1508.0</td>\n",
              "      <td>128.0</td>\n",
              "      <td>360.0</td>\n",
              "      <td>1.0</td>\n",
              "      <td>Rural</td>\n",
              "      <td>N</td>\n",
              "    </tr>\n",
              "    <tr>\n",
              "      <th>2</th>\n",
              "      <td>LP001005</td>\n",
              "      <td>Male</td>\n",
              "      <td>Yes</td>\n",
              "      <td>0</td>\n",
              "      <td>Graduate</td>\n",
              "      <td>Yes</td>\n",
              "      <td>3000</td>\n",
              "      <td>0.0</td>\n",
              "      <td>66.0</td>\n",
              "      <td>360.0</td>\n",
              "      <td>1.0</td>\n",
              "      <td>Urban</td>\n",
              "      <td>Y</td>\n",
              "    </tr>\n",
              "    <tr>\n",
              "      <th>3</th>\n",
              "      <td>LP001006</td>\n",
              "      <td>Male</td>\n",
              "      <td>Yes</td>\n",
              "      <td>0</td>\n",
              "      <td>Not Graduate</td>\n",
              "      <td>No</td>\n",
              "      <td>2583</td>\n",
              "      <td>2358.0</td>\n",
              "      <td>120.0</td>\n",
              "      <td>360.0</td>\n",
              "      <td>1.0</td>\n",
              "      <td>Urban</td>\n",
              "      <td>Y</td>\n",
              "    </tr>\n",
              "    <tr>\n",
              "      <th>4</th>\n",
              "      <td>LP001008</td>\n",
              "      <td>Male</td>\n",
              "      <td>No</td>\n",
              "      <td>0</td>\n",
              "      <td>Graduate</td>\n",
              "      <td>No</td>\n",
              "      <td>6000</td>\n",
              "      <td>0.0</td>\n",
              "      <td>141.0</td>\n",
              "      <td>360.0</td>\n",
              "      <td>1.0</td>\n",
              "      <td>Urban</td>\n",
              "      <td>Y</td>\n",
              "    </tr>\n",
              "  </tbody>\n",
              "</table>\n",
              "</div>"
            ],
            "text/plain": [
              "    Loan_ID Gender Married Dependents     Education Self_Employed  \\\n",
              "0  LP001002   Male      No          0      Graduate            No   \n",
              "1  LP001003   Male     Yes          1      Graduate            No   \n",
              "2  LP001005   Male     Yes          0      Graduate           Yes   \n",
              "3  LP001006   Male     Yes          0  Not Graduate            No   \n",
              "4  LP001008   Male      No          0      Graduate            No   \n",
              "\n",
              "   ApplicantIncome  CoapplicantIncome  LoanAmount  Loan_Amount_Term  \\\n",
              "0             5849                0.0         NaN             360.0   \n",
              "1             4583             1508.0       128.0             360.0   \n",
              "2             3000                0.0        66.0             360.0   \n",
              "3             2583             2358.0       120.0             360.0   \n",
              "4             6000                0.0       141.0             360.0   \n",
              "\n",
              "   Credit_History Property_Area Loan_Status  \n",
              "0             1.0         Urban           Y  \n",
              "1             1.0         Rural           N  \n",
              "2             1.0         Urban           Y  \n",
              "3             1.0         Urban           Y  \n",
              "4             1.0         Urban           Y  "
            ]
          },
          "metadata": {
            "tags": []
          }
        }
      ]
    },
    {
      "cell_type": "code",
      "metadata": {
        "id": "6JeAgzvfMZr0",
        "colab_type": "code",
        "colab": {}
      },
      "source": [
        "def shape(x,y1):\n",
        "    display(x.shape)\n",
        "    display(y1.shape)\n",
        "    pass"
      ],
      "execution_count": 0,
      "outputs": []
    },
    {
      "cell_type": "code",
      "metadata": {
        "id": "4n_VMFl-MZsC",
        "colab_type": "code",
        "colab": {},
        "outputId": "e1a464c8-7c73-45e3-f683-1920a6c3793d"
      },
      "source": [
        "shape(train,test)"
      ],
      "execution_count": 0,
      "outputs": [
        {
          "output_type": "display_data",
          "data": {
            "text/plain": [
              "(614, 13)"
            ]
          },
          "metadata": {
            "tags": []
          }
        },
        {
          "output_type": "display_data",
          "data": {
            "text/plain": [
              "(367, 12)"
            ]
          },
          "metadata": {
            "tags": []
          }
        }
      ]
    },
    {
      "cell_type": "code",
      "metadata": {
        "id": "pBoxNzCrMZsN",
        "colab_type": "code",
        "colab": {}
      },
      "source": [
        "#Creating Labels\n",
        "def value_counts(name):\n",
        "    return train[name].value_counts(normalize=True)"
      ],
      "execution_count": 0,
      "outputs": []
    },
    {
      "cell_type": "code",
      "metadata": {
        "id": "ZL6SEAcIMZsb",
        "colab_type": "code",
        "colab": {},
        "outputId": "c74b15a6-22ad-4838-b055-4610ab3a9e4b"
      },
      "source": [
        "value_counts('Loan_Status')"
      ],
      "execution_count": 0,
      "outputs": [
        {
          "output_type": "execute_result",
          "data": {
            "text/plain": [
              "Y    0.687296\n",
              "N    0.312704\n",
              "Name: Loan_Status, dtype: float64"
            ]
          },
          "metadata": {
            "tags": []
          },
          "execution_count": 8
        }
      ]
    },
    {
      "cell_type": "code",
      "metadata": {
        "id": "XhzKlqSmMZsk",
        "colab_type": "code",
        "colab": {}
      },
      "source": [
        "def labels():\n",
        "    \n",
        "    labels=['No_Loan','Loan']\n",
        "    label = pd.DataFrame(columns=labels,index=labels)\n",
        "    label['No_Loan'],label['Loan'] = (train['Loan_Status']=='Y').sum(),(train['Loan_Status']=='N').sum()\n",
        "    \n",
        "    return label"
      ],
      "execution_count": 0,
      "outputs": []
    },
    {
      "cell_type": "code",
      "metadata": {
        "id": "OK7fNGWZMZss",
        "colab_type": "code",
        "colab": {},
        "outputId": "714d9862-f2ce-4da3-92e5-d749734f04af"
      },
      "source": [
        "target = labels()\n",
        "target"
      ],
      "execution_count": 0,
      "outputs": [
        {
          "output_type": "execute_result",
          "data": {
            "text/html": [
              "<div>\n",
              "<style scoped>\n",
              "    .dataframe tbody tr th:only-of-type {\n",
              "        vertical-align: middle;\n",
              "    }\n",
              "\n",
              "    .dataframe tbody tr th {\n",
              "        vertical-align: top;\n",
              "    }\n",
              "\n",
              "    .dataframe thead th {\n",
              "        text-align: right;\n",
              "    }\n",
              "</style>\n",
              "<table border=\"1\" class=\"dataframe\">\n",
              "  <thead>\n",
              "    <tr style=\"text-align: right;\">\n",
              "      <th></th>\n",
              "      <th>No_Loan</th>\n",
              "      <th>Loan</th>\n",
              "    </tr>\n",
              "  </thead>\n",
              "  <tbody>\n",
              "    <tr>\n",
              "      <th>No_Loan</th>\n",
              "      <td>422</td>\n",
              "      <td>192</td>\n",
              "    </tr>\n",
              "    <tr>\n",
              "      <th>Loan</th>\n",
              "      <td>422</td>\n",
              "      <td>192</td>\n",
              "    </tr>\n",
              "  </tbody>\n",
              "</table>\n",
              "</div>"
            ],
            "text/plain": [
              "         No_Loan  Loan\n",
              "No_Loan      422   192\n",
              "Loan         422   192"
            ]
          },
          "metadata": {
            "tags": []
          },
          "execution_count": 10
        }
      ]
    },
    {
      "cell_type": "code",
      "metadata": {
        "id": "GK6xCVvwMZs1",
        "colab_type": "code",
        "colab": {}
      },
      "source": [
        "def labels_encod():\n",
        "    #encoding the y labels of train dataset\n",
        "    train['Enc_Loan_Status'] = train['Loan_Status'].apply(lambda x: 1 if x=='Y' else 0)\n",
        "    return train['Enc_Loan_Status']\n",
        "    "
      ],
      "execution_count": 0,
      "outputs": []
    },
    {
      "cell_type": "code",
      "metadata": {
        "id": "HHV0sYHAMZtI",
        "colab_type": "code",
        "colab": {},
        "outputId": "7d965265-8afb-4275-d330-4a162b3a3c8a"
      },
      "source": [
        "train['Enc_Loan_Status'] = labels_encod()\n",
        "train['Enc_Loan_Status'].head()"
      ],
      "execution_count": 0,
      "outputs": [
        {
          "output_type": "execute_result",
          "data": {
            "text/plain": [
              "0    1\n",
              "1    0\n",
              "2    1\n",
              "3    1\n",
              "4    1\n",
              "Name: Enc_Loan_Status, dtype: int64"
            ]
          },
          "metadata": {
            "tags": []
          },
          "execution_count": 12
        }
      ]
    },
    {
      "cell_type": "code",
      "metadata": {
        "id": "WzTdHm45MZtb",
        "colab_type": "code",
        "colab": {}
      },
      "source": [
        "train = train.drop('Loan_Status',axis=1)"
      ],
      "execution_count": 0,
      "outputs": []
    },
    {
      "cell_type": "markdown",
      "metadata": {
        "id": "Z3Fl30u0MZts",
        "colab_type": "text"
      },
      "source": [
        "## Exploratory Data Analysis"
      ]
    },
    {
      "cell_type": "code",
      "metadata": {
        "id": "RGjr0X7mMZt1",
        "colab_type": "code",
        "colab": {}
      },
      "source": [
        "def visual_labels():\n",
        "    sns.countplot(x=train['Enc_Loan_Status'],data=train,hue=train['Enc_Loan_Status'])\n",
        "    plt.ylabel('number of values')\n",
        "    plt.xlabel('No Loan and Loan')\n",
        "    plt.show\n",
        "    pass"
      ],
      "execution_count": 0,
      "outputs": []
    },
    {
      "cell_type": "code",
      "metadata": {
        "id": "f1Wyx0-1MZuG",
        "colab_type": "code",
        "colab": {},
        "outputId": "4637c502-eba5-475d-d4a5-4ad1940b6515"
      },
      "source": [
        "visual_labels()"
      ],
      "execution_count": 0,
      "outputs": [
        {
          "output_type": "display_data",
          "data": {
            "image/png": "[encoded data removed]",
            "text/plain": [
              "<Figure size 432x288 with 1 Axes>"
            ]
          },
          "metadata": {
            "tags": [],
            "needs_background": "light"
          }
        }
      ]
    },
    {
      "cell_type": "code",
      "metadata": {
        "id": "WtSv565xMZuV",
        "colab_type": "code",
        "colab": {}
      },
      "source": [
        "def correlat():\n",
        "    \n",
        "# return a subset of columns matching the specified data types\n",
        "    numeric_features = train.select_dtypes(include=[np.number])\n",
        "    categorical_columns=train.select_dtypes(exclude=[np.number])\n",
        "\n",
        "# displays the correlation between the columns and examine the correlations between the features and the target.\n",
        "    corr = numeric_features.corr()\n",
        "\n",
        "# The first five features are the most positively correlated with SalePrice, while the next five are the most negatively correlated.\n",
        "    return (corr['Enc_Loan_Status'].sort_values(ascending=False))"
      ],
      "execution_count": 0,
      "outputs": []
    },
    {
      "cell_type": "code",
      "metadata": {
        "id": "J-wmyFfxMZuk",
        "colab_type": "code",
        "colab": {},
        "outputId": "ec47dbb8-8d8e-4442-e5b1-8623ee2a2dac"
      },
      "source": [
        "corr = correlat()\n",
        "corr"
      ],
      "execution_count": 0,
      "outputs": [
        {
          "output_type": "execute_result",
          "data": {
            "text/plain": [
              "Enc_Loan_Status      1.000000\n",
              "Credit_History       0.561678\n",
              "ApplicantIncome     -0.004710\n",
              "Loan_Amount_Term    -0.021268\n",
              "LoanAmount          -0.037318\n",
              "CoapplicantIncome   -0.059187\n",
              "Name: Enc_Loan_Status, dtype: float64"
            ]
          },
          "metadata": {
            "tags": []
          },
          "execution_count": 17
        }
      ]
    },
    {
      "cell_type": "markdown",
      "metadata": {
        "id": "hyQAp4MGMZu3",
        "colab_type": "text"
      },
      "source": [
        "### combining data sets"
      ]
    },
    {
      "cell_type": "code",
      "metadata": {
        "id": "0IFPIfkYMZvH",
        "colab_type": "code",
        "colab": {}
      },
      "source": [
        "def concat():\n",
        "    data = pd.concat([train.iloc[:,1:],test.iloc[:,1:]],axis=0)\n",
        "    return data"
      ],
      "execution_count": 0,
      "outputs": []
    },
    {
      "cell_type": "code",
      "metadata": {
        "id": "7BhsfkWJMZvh",
        "colab_type": "code",
        "colab": {}
      },
      "source": [
        "df = concat()"
      ],
      "execution_count": 0,
      "outputs": []
    },
    {
      "cell_type": "code",
      "metadata": {
        "id": "s4r9xlnkMZwJ",
        "colab_type": "code",
        "colab": {},
        "outputId": "fa0088d2-ea50-454e-da45-790786af1039"
      },
      "source": [
        "df.head()"
      ],
      "execution_count": 0,
      "outputs": [
        {
          "output_type": "execute_result",
          "data": {
            "text/html": [
              "<div>\n",
              "<style scoped>\n",
              "    .dataframe tbody tr th:only-of-type {\n",
              "        vertical-align: middle;\n",
              "    }\n",
              "\n",
              "    .dataframe tbody tr th {\n",
              "        vertical-align: top;\n",
              "    }\n",
              "\n",
              "    .dataframe thead th {\n",
              "        text-align: right;\n",
              "    }\n",
              "</style>\n",
              "<table border=\"1\" class=\"dataframe\">\n",
              "  <thead>\n",
              "    <tr style=\"text-align: right;\">\n",
              "      <th></th>\n",
              "      <th>ApplicantIncome</th>\n",
              "      <th>CoapplicantIncome</th>\n",
              "      <th>Credit_History</th>\n",
              "      <th>Dependents</th>\n",
              "      <th>Education</th>\n",
              "      <th>Enc_Loan_Status</th>\n",
              "      <th>Gender</th>\n",
              "      <th>LoanAmount</th>\n",
              "      <th>Loan_Amount_Term</th>\n",
              "      <th>Married</th>\n",
              "      <th>Property_Area</th>\n",
              "      <th>Self_Employed</th>\n",
              "    </tr>\n",
              "  </thead>\n",
              "  <tbody>\n",
              "    <tr>\n",
              "      <th>0</th>\n",
              "      <td>5849</td>\n",
              "      <td>0.0</td>\n",
              "      <td>1.0</td>\n",
              "      <td>0</td>\n",
              "      <td>Graduate</td>\n",
              "      <td>1.0</td>\n",
              "      <td>Male</td>\n",
              "      <td>NaN</td>\n",
              "      <td>360.0</td>\n",
              "      <td>No</td>\n",
              "      <td>Urban</td>\n",
              "      <td>No</td>\n",
              "    </tr>\n",
              "    <tr>\n",
              "      <th>1</th>\n",
              "      <td>4583</td>\n",
              "      <td>1508.0</td>\n",
              "      <td>1.0</td>\n",
              "      <td>1</td>\n",
              "      <td>Graduate</td>\n",
              "      <td>0.0</td>\n",
              "      <td>Male</td>\n",
              "      <td>128.0</td>\n",
              "      <td>360.0</td>\n",
              "      <td>Yes</td>\n",
              "      <td>Rural</td>\n",
              "      <td>No</td>\n",
              "    </tr>\n",
              "    <tr>\n",
              "      <th>2</th>\n",
              "      <td>3000</td>\n",
              "      <td>0.0</td>\n",
              "      <td>1.0</td>\n",
              "      <td>0</td>\n",
              "      <td>Graduate</td>\n",
              "      <td>1.0</td>\n",
              "      <td>Male</td>\n",
              "      <td>66.0</td>\n",
              "      <td>360.0</td>\n",
              "      <td>Yes</td>\n",
              "      <td>Urban</td>\n",
              "      <td>Yes</td>\n",
              "    </tr>\n",
              "    <tr>\n",
              "      <th>3</th>\n",
              "      <td>2583</td>\n",
              "      <td>2358.0</td>\n",
              "      <td>1.0</td>\n",
              "      <td>0</td>\n",
              "      <td>Not Graduate</td>\n",
              "      <td>1.0</td>\n",
              "      <td>Male</td>\n",
              "      <td>120.0</td>\n",
              "      <td>360.0</td>\n",
              "      <td>Yes</td>\n",
              "      <td>Urban</td>\n",
              "      <td>No</td>\n",
              "    </tr>\n",
              "    <tr>\n",
              "      <th>4</th>\n",
              "      <td>6000</td>\n",
              "      <td>0.0</td>\n",
              "      <td>1.0</td>\n",
              "      <td>0</td>\n",
              "      <td>Graduate</td>\n",
              "      <td>1.0</td>\n",
              "      <td>Male</td>\n",
              "      <td>141.0</td>\n",
              "      <td>360.0</td>\n",
              "      <td>No</td>\n",
              "      <td>Urban</td>\n",
              "      <td>No</td>\n",
              "    </tr>\n",
              "  </tbody>\n",
              "</table>\n",
              "</div>"
            ],
            "text/plain": [
              "   ApplicantIncome  CoapplicantIncome  Credit_History Dependents  \\\n",
              "0             5849                0.0             1.0          0   \n",
              "1             4583             1508.0             1.0          1   \n",
              "2             3000                0.0             1.0          0   \n",
              "3             2583             2358.0             1.0          0   \n",
              "4             6000                0.0             1.0          0   \n",
              "\n",
              "      Education  Enc_Loan_Status Gender  LoanAmount  Loan_Amount_Term Married  \\\n",
              "0      Graduate              1.0   Male         NaN             360.0      No   \n",
              "1      Graduate              0.0   Male       128.0             360.0     Yes   \n",
              "2      Graduate              1.0   Male        66.0             360.0     Yes   \n",
              "3  Not Graduate              1.0   Male       120.0             360.0     Yes   \n",
              "4      Graduate              1.0   Male       141.0             360.0      No   \n",
              "\n",
              "  Property_Area Self_Employed  \n",
              "0         Urban            No  \n",
              "1         Rural            No  \n",
              "2         Urban           Yes  \n",
              "3         Urban            No  \n",
              "4         Urban            No  "
            ]
          },
          "metadata": {
            "tags": []
          },
          "execution_count": 20
        }
      ]
    },
    {
      "cell_type": "code",
      "metadata": {
        "id": "YnZRzyzWMZwb",
        "colab_type": "code",
        "colab": {},
        "outputId": "5a1b79d7-6f87-476a-a1e3-3181b53e58d1"
      },
      "source": [
        "df.shape"
      ],
      "execution_count": 0,
      "outputs": [
        {
          "output_type": "execute_result",
          "data": {
            "text/plain": [
              "(981, 12)"
            ]
          },
          "metadata": {
            "tags": []
          },
          "execution_count": 21
        }
      ]
    },
    {
      "cell_type": "code",
      "metadata": {
        "id": "gp5C2VKuMZws",
        "colab_type": "code",
        "colab": {}
      },
      "source": [
        "#Features sepaareting by categorical and numerical values\n",
        "numeric_features = df.select_dtypes(include=[np.number])\n",
        "\n",
        "#objects variables\n",
        "cat_features = df.select_dtypes(exclude=[np.number])"
      ],
      "execution_count": 0,
      "outputs": []
    },
    {
      "cell_type": "code",
      "metadata": {
        "id": "9KNrztp6MZw8",
        "colab_type": "code",
        "colab": {}
      },
      "source": [
        "def hist_graph(df):\n",
        "    df.hist(figsize=(10,10))\n",
        "    return plt.show()"
      ],
      "execution_count": 0,
      "outputs": []
    },
    {
      "cell_type": "code",
      "metadata": {
        "id": "vxU37gk9MZxc",
        "colab_type": "code",
        "colab": {},
        "outputId": "79df7526-c9e5-4e85-c295-549cce793236"
      },
      "source": [
        "hist_graph(df)"
      ],
      "execution_count": 0,
      "outputs": [
        {
          "output_type": "display_data",
          "data": {
            "image/png": "[encoded data removed]",
            "text/plain": [
              "<Figure size 720x720 with 6 Axes>"
            ]
          },
          "metadata": {
            "tags": [],
            "needs_background": "light"
          }
        }
      ]
    },
    {
      "cell_type": "markdown",
      "metadata": {
        "id": "Mq8R-JKJMZxu",
        "colab_type": "text"
      },
      "source": [
        "* As you can see AppicantIncome ,CoapplicantIncome and Loan Amount are not normal distributed\n",
        "this many be caused by outliers\n",
        "* People with good credit history are mostly liked to be granted a loan"
      ]
    },
    {
      "cell_type": "code",
      "metadata": {
        "id": "XROJ2co-MZxz",
        "colab_type": "code",
        "colab": {}
      },
      "source": [
        "##Handling Outliers\n",
        "def outliers(name):\n",
        "    norm = np.log(df[name])\n",
        "    return norm"
      ],
      "execution_count": 0,
      "outputs": []
    },
    {
      "cell_type": "code",
      "metadata": {
        "id": "Evyq7nKnMZx-",
        "colab_type": "code",
        "colab": {}
      },
      "source": [
        "df['LoanAmount'] = outliers('LoanAmount')"
      ],
      "execution_count": 0,
      "outputs": []
    },
    {
      "cell_type": "code",
      "metadata": {
        "id": "TXEkEKIWMZyH",
        "colab_type": "code",
        "colab": {},
        "outputId": "101ef3ec-5862-4add-c98b-a47c3c02f575"
      },
      "source": [
        "df['LoanAmount'].hist(figsize=(10,5))\n",
        "plt.show()"
      ],
      "execution_count": 0,
      "outputs": [
        {
          "output_type": "display_data",
          "data": {
            "image/png": "[encoded data removed]",
            "text/plain": [
              "<Figure size 720x360 with 1 Axes>"
            ]
          },
          "metadata": {
            "tags": [],
            "needs_background": "light"
          }
        }
      ]
    },
    {
      "cell_type": "code",
      "metadata": {
        "id": "TMI7VavYMZyd",
        "colab_type": "code",
        "colab": {},
        "outputId": "918559eb-1aca-4b22-91f5-9dfaa04d83b2"
      },
      "source": [
        "#combined income because coapplicant has income of 0\n",
        "df['TotalIncome'] = df['ApplicantIncome']+df['CoapplicantIncome']\n",
        "df['TotalIncome'] = outliers('TotalIncome')\n",
        "sns.distplot(df['TotalIncome'])"
      ],
      "execution_count": 0,
      "outputs": [
        {
          "output_type": "execute_result",
          "data": {
            "text/plain": [
              "<matplotlib.axes._subplots.AxesSubplot at 0x1f2144234a8>"
            ]
          },
          "metadata": {
            "tags": []
          },
          "execution_count": 28
        },
        {
          "output_type": "display_data",
          "data": {
            "image/png": "[encoded data removed]",
            "text/plain": [
              "<Figure size 432x288 with 1 Axes>"
            ]
          },
          "metadata": {
            "tags": [],
            "needs_background": "light"
          }
        }
      ]
    },
    {
      "cell_type": "code",
      "metadata": {
        "id": "tqXuGhwzMZzF",
        "colab_type": "code",
        "colab": {}
      },
      "source": [
        "### Data Visualization\n",
        "def Visualize_data(data):\n",
        "    fig,axes = plt.subplots(4,2,figsize=(12,15))\n",
        "    for idx,cat_col in enumerate(data):\n",
        "        row,col = idx//2,idx%2\n",
        "        sns.countplot(x=cat_col,data=df,hue='Enc_Loan_Status',ax=axes[row,col])\n",
        "\n",
        "\n",
        "    return plt.subplots_adjust(hspace=1)"
      ],
      "execution_count": 0,
      "outputs": []
    },
    {
      "cell_type": "code",
      "metadata": {
        "id": "XDcrZ6AfMZzV",
        "colab_type": "code",
        "colab": {},
        "outputId": "f6963260-8f6b-4c06-d1b0-9e0142a5a616"
      },
      "source": [
        "Visualize_data(cat_features)"
      ],
      "execution_count": 0,
      "outputs": [
        {
          "output_type": "display_data",
          "data": {
            "image/png": "[encoded data removed]",
            "text/plain": [
              "<Figure size 864x1080 with 8 Axes>"
            ]
          },
          "metadata": {
            "tags": [],
            "needs_background": "light"
          }
        }
      ]
    },
    {
      "cell_type": "markdown",
      "metadata": {
        "id": "B5MMdXwfMZ0K",
        "colab_type": "text"
      },
      "source": [
        "* from the above we can say that people with Dependents of 0,Graduates,Married and Males are likely to get the Loan and who live in Semiurban area and not self employed"
      ]
    },
    {
      "cell_type": "code",
      "metadata": {
        "id": "N4DQPnnPMZ0X",
        "colab_type": "code",
        "colab": {},
        "outputId": "8848cb13-5610-458b-9db3-6446f4c7d603"
      },
      "source": [
        "numeric = numeric_features.drop(['ApplicantIncome','CoapplicantIncome','LoanAmount'],axis=1)\n",
        "Visualize_data(numeric)"
      ],
      "execution_count": 0,
      "outputs": [
        {
          "output_type": "display_data",
          "data": {
            "image/png": "[encoded data removed]",
            "text/plain": [
              "<Figure size 864x1080 with 8 Axes>"
            ]
          },
          "metadata": {
            "tags": [],
            "needs_background": "light"
          }
        }
      ]
    },
    {
      "cell_type": "markdown",
      "metadata": {
        "id": "yU4YSWpHMZ0u",
        "colab_type": "text"
      },
      "source": [
        "* It clearly now that people with a good credit history are mostly likely to be granted Loan"
      ]
    },
    {
      "cell_type": "markdown",
      "metadata": {
        "id": "MXYPSLVGMZ01",
        "colab_type": "text"
      },
      "source": [
        "#### replacing/Handling Missing values"
      ]
    },
    {
      "cell_type": "code",
      "metadata": {
        "id": "Vrgp1sqqMZ04",
        "colab_type": "code",
        "colab": {},
        "outputId": "8c8e57d0-a78f-4e90-89e4-de45164ed83e"
      },
      "source": [
        "#Missing Values in terms of percentage\n",
        "nul = ((df.isnull().sum()/len(df))*100).sort_values(ascending=False)\n",
        "nul"
      ],
      "execution_count": 0,
      "outputs": [
        {
          "output_type": "execute_result",
          "data": {
            "text/plain": [
              "Enc_Loan_Status      37.410805\n",
              "Credit_History        8.053007\n",
              "Self_Employed         5.606524\n",
              "LoanAmount            2.752294\n",
              "Dependents            2.548420\n",
              "Gender                2.446483\n",
              "Loan_Amount_Term      2.038736\n",
              "Married               0.305810\n",
              "TotalIncome           0.000000\n",
              "Property_Area         0.000000\n",
              "Education             0.000000\n",
              "CoapplicantIncome     0.000000\n",
              "ApplicantIncome       0.000000\n",
              "dtype: float64"
            ]
          },
          "metadata": {
            "tags": []
          },
          "execution_count": 32
        }
      ]
    },
    {
      "cell_type": "code",
      "metadata": {
        "id": "XeRYn-AuMZ1L",
        "colab_type": "code",
        "colab": {}
      },
      "source": [
        "df['Dependents'] = df['Dependents'].replace({'3+':3})"
      ],
      "execution_count": 0,
      "outputs": []
    },
    {
      "cell_type": "code",
      "metadata": {
        "id": "CL9ZYN16MZ1W",
        "colab_type": "code",
        "colab": {}
      },
      "source": [
        "df['Gender'].fillna(df['Gender'].mode()[0],inplace=True)\n",
        "df['Married'].fillna(df['Married'].mode()[0],inplace=True)\n",
        "df['Dependents'].fillna(df['Dependents'].mode()[0],inplace=True)\n",
        "df['LoanAmount'].fillna(df['LoanAmount'].median(),inplace=True)\n",
        "df['Self_Employed'].fillna(df['Self_Employed'].mode()[0],inplace=True)\n",
        "df['Loan_Amount_Term'].fillna(df['Loan_Amount_Term'].mode()[0],inplace=True)"
      ],
      "execution_count": 0,
      "outputs": []
    },
    {
      "cell_type": "code",
      "metadata": {
        "id": "97d25WRTMZ1j",
        "colab_type": "code",
        "colab": {}
      },
      "source": [
        "#df['Credit_History'].fillna(df['Enc_Loan_Status'],inplace=True)\n",
        "df['Credit_History'].fillna(method='bfill',inplace=True)"
      ],
      "execution_count": 0,
      "outputs": []
    },
    {
      "cell_type": "code",
      "metadata": {
        "id": "v-pGmBojMZ2J",
        "colab_type": "code",
        "colab": {},
        "outputId": "7b69b3f0-8b24-46fa-e597-205dfae25758"
      },
      "source": [
        "df['EMI']=df['LoanAmount']/df['Loan_Amount_Term']\n",
        "df['EMI'] = outliers('EMI')\n",
        "sns.distplot(df['EMI'])"
      ],
      "execution_count": 0,
      "outputs": [
        {
          "output_type": "execute_result",
          "data": {
            "text/plain": [
              "<matplotlib.axes._subplots.AxesSubplot at 0x1f213ffc940>"
            ]
          },
          "metadata": {
            "tags": []
          },
          "execution_count": 36
        },
        {
          "output_type": "display_data",
          "data": {
            "image/png": "[encoded data removed]",
            "text/plain": [
              "<Figure size 432x288 with 1 Axes>"
            ]
          },
          "metadata": {
            "tags": [],
            "needs_background": "light"
          }
        }
      ]
    },
    {
      "cell_type": "code",
      "metadata": {
        "id": "tFCEgTZ5MZ2m",
        "colab_type": "code",
        "colab": {}
      },
      "source": [
        "#multiply to make it unit equals\n",
        "df['Balance Income']=df['TotalIncome']-(df['EMI']*1000)"
      ],
      "execution_count": 0,
      "outputs": []
    },
    {
      "cell_type": "code",
      "metadata": {
        "id": "DAgmBhJ5MZ2u",
        "colab_type": "code",
        "colab": {}
      },
      "source": [
        "df=df.drop(['ApplicantIncome','CoapplicantIncome','LoanAmount','Loan_Amount_Term'],axis=1)"
      ],
      "execution_count": 0,
      "outputs": []
    },
    {
      "cell_type": "code",
      "metadata": {
        "id": "EBdjCHBxMZ3L",
        "colab_type": "code",
        "colab": {}
      },
      "source": [
        "from sklearn.preprocessing import LabelEncoder"
      ],
      "execution_count": 0,
      "outputs": []
    },
    {
      "cell_type": "code",
      "metadata": {
        "id": "txpif3MNMZ3U",
        "colab_type": "code",
        "colab": {}
      },
      "source": [
        "le = LabelEncoder()\n",
        "\n",
        "df.Education = le.fit_transform(df.Education)\n",
        "df['Property_Area'] =le.fit_transform(df['Property_Area'])\n",
        "df['Married'] =le.fit_transform(df['Married'])\n",
        "df['Gender'] =le.fit_transform(df['Gender'])\n",
        "df['Self_Employed'] =le.fit_transform(df['Self_Employed'])"
      ],
      "execution_count": 0,
      "outputs": []
    },
    {
      "cell_type": "code",
      "metadata": {
        "id": "EbQrUrLRMZ3f",
        "colab_type": "code",
        "colab": {}
      },
      "source": [
        "df = pd.get_dummies(df)\n",
        "df = df.interpolate()"
      ],
      "execution_count": 0,
      "outputs": []
    },
    {
      "cell_type": "code",
      "metadata": {
        "id": "brrQN_3TMZ3v",
        "colab_type": "code",
        "colab": {},
        "outputId": "ae338dcf-ed89-4b46-c418-cf4c5ddea5d2"
      },
      "source": [
        "df.head()"
      ],
      "execution_count": 0,
      "outputs": [
        {
          "output_type": "execute_result",
          "data": {
            "text/html": [
              "<div>\n",
              "<style scoped>\n",
              "    .dataframe tbody tr th:only-of-type {\n",
              "        vertical-align: middle;\n",
              "    }\n",
              "\n",
              "    .dataframe tbody tr th {\n",
              "        vertical-align: top;\n",
              "    }\n",
              "\n",
              "    .dataframe thead th {\n",
              "        text-align: right;\n",
              "    }\n",
              "</style>\n",
              "<table border=\"1\" class=\"dataframe\">\n",
              "  <thead>\n",
              "    <tr style=\"text-align: right;\">\n",
              "      <th></th>\n",
              "      <th>Credit_History</th>\n",
              "      <th>Education</th>\n",
              "      <th>Enc_Loan_Status</th>\n",
              "      <th>Gender</th>\n",
              "      <th>Married</th>\n",
              "      <th>Property_Area</th>\n",
              "      <th>Self_Employed</th>\n",
              "      <th>TotalIncome</th>\n",
              "      <th>EMI</th>\n",
              "      <th>Balance Income</th>\n",
              "      <th>Dependents_3</th>\n",
              "      <th>Dependents_0</th>\n",
              "      <th>Dependents_1</th>\n",
              "      <th>Dependents_2</th>\n",
              "    </tr>\n",
              "  </thead>\n",
              "  <tbody>\n",
              "    <tr>\n",
              "      <th>0</th>\n",
              "      <td>1.0</td>\n",
              "      <td>0</td>\n",
              "      <td>1.0</td>\n",
              "      <td>1</td>\n",
              "      <td>0</td>\n",
              "      <td>2</td>\n",
              "      <td>0</td>\n",
              "      <td>8.674026</td>\n",
              "      <td>-4.309958</td>\n",
              "      <td>4318.631833</td>\n",
              "      <td>0</td>\n",
              "      <td>1</td>\n",
              "      <td>0</td>\n",
              "      <td>0</td>\n",
              "    </tr>\n",
              "    <tr>\n",
              "      <th>1</th>\n",
              "      <td>1.0</td>\n",
              "      <td>0</td>\n",
              "      <td>0.0</td>\n",
              "      <td>1</td>\n",
              "      <td>1</td>\n",
              "      <td>0</td>\n",
              "      <td>0</td>\n",
              "      <td>8.714568</td>\n",
              "      <td>-4.306707</td>\n",
              "      <td>4315.421371</td>\n",
              "      <td>0</td>\n",
              "      <td>0</td>\n",
              "      <td>1</td>\n",
              "      <td>0</td>\n",
              "    </tr>\n",
              "    <tr>\n",
              "      <th>2</th>\n",
              "      <td>1.0</td>\n",
              "      <td>0</td>\n",
              "      <td>1.0</td>\n",
              "      <td>1</td>\n",
              "      <td>1</td>\n",
              "      <td>2</td>\n",
              "      <td>1</td>\n",
              "      <td>8.006368</td>\n",
              "      <td>-4.453486</td>\n",
              "      <td>4461.492069</td>\n",
              "      <td>0</td>\n",
              "      <td>1</td>\n",
              "      <td>0</td>\n",
              "      <td>0</td>\n",
              "    </tr>\n",
              "    <tr>\n",
              "      <th>3</th>\n",
              "      <td>1.0</td>\n",
              "      <td>1</td>\n",
              "      <td>1.0</td>\n",
              "      <td>1</td>\n",
              "      <td>1</td>\n",
              "      <td>2</td>\n",
              "      <td>0</td>\n",
              "      <td>8.505323</td>\n",
              "      <td>-4.320097</td>\n",
              "      <td>4328.602725</td>\n",
              "      <td>0</td>\n",
              "      <td>1</td>\n",
              "      <td>0</td>\n",
              "      <td>0</td>\n",
              "    </tr>\n",
              "    <tr>\n",
              "      <th>4</th>\n",
              "      <td>1.0</td>\n",
              "      <td>0</td>\n",
              "      <td>1.0</td>\n",
              "      <td>1</td>\n",
              "      <td>0</td>\n",
              "      <td>2</td>\n",
              "      <td>0</td>\n",
              "      <td>8.699515</td>\n",
              "      <td>-4.286967</td>\n",
              "      <td>4295.666528</td>\n",
              "      <td>0</td>\n",
              "      <td>1</td>\n",
              "      <td>0</td>\n",
              "      <td>0</td>\n",
              "    </tr>\n",
              "  </tbody>\n",
              "</table>\n",
              "</div>"
            ],
            "text/plain": [
              "   Credit_History  Education  Enc_Loan_Status  Gender  Married  Property_Area  \\\n",
              "0             1.0          0              1.0       1        0              2   \n",
              "1             1.0          0              0.0       1        1              0   \n",
              "2             1.0          0              1.0       1        1              2   \n",
              "3             1.0          1              1.0       1        1              2   \n",
              "4             1.0          0              1.0       1        0              2   \n",
              "\n",
              "   Self_Employed  TotalIncome       EMI  Balance Income  Dependents_3  \\\n",
              "0              0     8.674026 -4.309958     4318.631833             0   \n",
              "1              0     8.714568 -4.306707     4315.421371             0   \n",
              "2              1     8.006368 -4.453486     4461.492069             0   \n",
              "3              0     8.505323 -4.320097     4328.602725             0   \n",
              "4              0     8.699515 -4.286967     4295.666528             0   \n",
              "\n",
              "   Dependents_0  Dependents_1  Dependents_2  \n",
              "0             1             0             0  \n",
              "1             0             1             0  \n",
              "2             1             0             0  \n",
              "3             1             0             0  \n",
              "4             1             0             0  "
            ]
          },
          "metadata": {
            "tags": []
          },
          "execution_count": 42
        }
      ]
    },
    {
      "cell_type": "code",
      "metadata": {
        "id": "NGJQRat7MZ5Y",
        "colab_type": "code",
        "colab": {},
        "outputId": "88cc92d6-39d5-4ca4-9ed3-daccc0107f7d"
      },
      "source": [
        "def heat_map():\n",
        "    #heatmap\n",
        "    corr = df.corr()\n",
        "    plt.figure(figsize=(7,5))\n",
        "    heat = sns.heatmap(data=corr)\n",
        "    return plt.title('Heatmap of Correlation')\n",
        "heat_map()"
      ],
      "execution_count": 0,
      "outputs": [
        {
          "output_type": "execute_result",
          "data": {
            "text/plain": [
              "Text(0.5,1,'Heatmap of Correlation')"
            ]
          },
          "metadata": {
            "tags": []
          },
          "execution_count": 43
        },
        {
          "output_type": "display_data",
          "data": {
            "image/png": "[encoded data removed]",
            "text/plain": [
              "<Figure size 504x360 with 2 Axes>"
            ]
          },
          "metadata": {
            "tags": [],
            "needs_background": "light"
          }
        }
      ]
    },
    {
      "cell_type": "code",
      "metadata": {
        "id": "pWqxF6VjMZ5i",
        "colab_type": "code",
        "colab": {},
        "outputId": "d9390779-f84b-4d51-da9a-8a476cd0ce7f"
      },
      "source": [
        "df.var()"
      ],
      "execution_count": 0,
      "outputs": [
        {
          "output_type": "execute_result",
          "data": {
            "text/plain": [
              "Credit_History          0.136637\n",
              "Education               0.173016\n",
              "Enc_Loan_Status         0.245374\n",
              "Gender                  0.151260\n",
              "Married                 0.228836\n",
              "Property_Area           0.642085\n",
              "Self_Employed           0.106699\n",
              "TotalIncome             0.271017\n",
              "EMI                     0.119517\n",
              "Balance Income     119448.355080\n",
              "Dependents_3            0.084243\n",
              "Dependents_0            0.243681\n",
              "Dependents_1            0.136637\n",
              "Dependents_2            0.136637\n",
              "dtype: float64"
            ]
          },
          "metadata": {
            "tags": []
          },
          "execution_count": 44
        }
      ]
    },
    {
      "cell_type": "code",
      "metadata": {
        "id": "2X6PQTAoMZ6b",
        "colab_type": "code",
        "colab": {}
      },
      "source": [
        "df = df.drop(['Enc_Loan_Status','Gender','Married','Education','Property_Area','TotalIncome','EMI'],axis=1)"
      ],
      "execution_count": 0,
      "outputs": []
    },
    {
      "cell_type": "markdown",
      "metadata": {
        "id": "Ih3k5x54MZ6q",
        "colab_type": "text"
      },
      "source": [
        "### Modeling Fitting and Training (Partitioning)"
      ]
    },
    {
      "cell_type": "code",
      "metadata": {
        "id": "0LUprRBQMZ7N",
        "colab_type": "code",
        "colab": {}
      },
      "source": [
        "from sklearn.linear_model import LogisticRegression\n",
        "# Covered in sprint 3\n",
        "from sklearn.ensemble import RandomForestClassifier\n",
        "from sklearn.naive_bayes import GaussianNB\n",
        "\n",
        "# Neural Network!!\n",
        "from sklearn.neural_network import MLPClassifier\n",
        "\n",
        "\n",
        "from sklearn import metrics\n",
        "from sklearn.preprocessing import StandardScaler,RobustScaler\n",
        "from sklearn.decomposition import PCA"
      ],
      "execution_count": 0,
      "outputs": []
    },
    {
      "cell_type": "code",
      "metadata": {
        "id": "BUK4tJ9LMZ7X",
        "colab_type": "code",
        "colab": {}
      },
      "source": [
        "sc = StandardScaler()\n",
        "rub = RobustScaler()\n",
        "pca = PCA()\n",
        "\n",
        "df1 = rub.fit_transform(df)\n",
        "\n",
        "df2 = sc.fit_transform(df)\n",
        "\n",
        "df3 = pca.fit_transform(df1)"
      ],
      "execution_count": 0,
      "outputs": []
    },
    {
      "cell_type": "code",
      "metadata": {
        "id": "mcRvdJ0mMZ71",
        "colab_type": "code",
        "colab": {}
      },
      "source": [
        "X = df1[:len(train)]\n",
        "test_data = df1[len(train):]\n"
      ],
      "execution_count": 0,
      "outputs": []
    },
    {
      "cell_type": "code",
      "metadata": {
        "id": "Q5imWThWMZ8T",
        "colab_type": "code",
        "colab": {}
      },
      "source": [
        "y = train['Enc_Loan_Status']"
      ],
      "execution_count": 0,
      "outputs": []
    },
    {
      "cell_type": "code",
      "metadata": {
        "id": "ctkV93M8MZ8f",
        "colab_type": "code",
        "colab": {}
      },
      "source": [
        "# plt.figure(figsize=(15, 5))\n",
        "\n",
        "# plt.subplot(1,2,1)\n",
        "# plt.scatter(X[:,2], X[:,4], c=y)\n",
        "# plt.xlabel('X labels')\n",
        "# plt.ylabel('y targets values')"
      ],
      "execution_count": 0,
      "outputs": []
    },
    {
      "cell_type": "code",
      "metadata": {
        "id": "OorGOLIOMZ8n",
        "colab_type": "code",
        "colab": {},
        "outputId": "4150265d-122e-4130-936a-8f6dc64f54b2"
      },
      "source": [
        "display(X.shape)\n",
        "display(y.shape)\n",
        "display(test_data.shape)"
      ],
      "execution_count": 0,
      "outputs": [
        {
          "output_type": "display_data",
          "data": {
            "text/plain": [
              "(614, 7)"
            ]
          },
          "metadata": {
            "tags": []
          }
        },
        {
          "output_type": "display_data",
          "data": {
            "text/plain": [
              "(614,)"
            ]
          },
          "metadata": {
            "tags": []
          }
        },
        {
          "output_type": "display_data",
          "data": {
            "text/plain": [
              "(367, 7)"
            ]
          },
          "metadata": {
            "tags": []
          }
        }
      ]
    },
    {
      "cell_type": "code",
      "metadata": {
        "id": "AotvGnrbMZ85",
        "colab_type": "code",
        "colab": {}
      },
      "source": [
        "X_train,X_test ,y_train,y_test = train_test_split(X,y,random_state=42,test_size=0.2)"
      ],
      "execution_count": 0,
      "outputs": []
    },
    {
      "cell_type": "code",
      "metadata": {
        "id": "X5O321l8MZ9I",
        "colab_type": "code",
        "colab": {}
      },
      "source": [
        "def train_model(X_train,y_train,lm):\n",
        "    # your code here\n",
        "    model1 = lm\n",
        "    return model1.fit(X_train,y_train)"
      ],
      "execution_count": 0,
      "outputs": []
    },
    {
      "cell_type": "code",
      "metadata": {
        "id": "_QicvgeHMZ9P",
        "colab_type": "code",
        "colab": {},
        "outputId": "47a141b8-d8d4-4b44-f58d-3d06345d7676"
      },
      "source": [
        "model = train_model(X_train,y_train, MLPClassifier(hidden_layer_sizes=(150,),max_iter=150,warm_start=True))\n",
        "model"
      ],
      "execution_count": 0,
      "outputs": [
        {
          "output_type": "execute_result",
          "data": {
            "text/plain": [
              "MLPClassifier(activation='relu', alpha=0.0001, batch_size='auto', beta_1=0.9,\n",
              "              beta_2=0.999, early_stopping=False, epsilon=1e-08,\n",
              "              hidden_layer_sizes=(150,), learning_rate='constant',\n",
              "              learning_rate_init=0.001, max_iter=150, momentum=0.9,\n",
              "              n_iter_no_change=10, nesterovs_momentum=True, power_t=0.5,\n",
              "              random_state=None, shuffle=True, solver='adam', tol=0.0001,\n",
              "              validation_fraction=0.1, verbose=False, warm_start=True)"
            ]
          },
          "metadata": {
            "tags": []
          },
          "execution_count": 72
        }
      ]
    },
    {
      "cell_type": "code",
      "metadata": {
        "id": "iKzx03IcMZ93",
        "colab_type": "code",
        "colab": {},
        "outputId": "c23baf5b-2726-43b0-ac3c-43c7a924eb27"
      },
      "source": [
        "def accuracy(X_test,y_test,model):\n",
        "    pred = model.predict(X_test)\n",
        "    acc = metrics.accuracy_score(y_test,pred)\n",
        "    return acc\n",
        "accuracy(X_test,y_test,model)    "
      ],
      "execution_count": 0,
      "outputs": [
        {
          "output_type": "execute_result",
          "data": {
            "text/plain": [
              "0.8048780487804879"
            ]
          },
          "metadata": {
            "tags": []
          },
          "execution_count": 73
        }
      ]
    },
    {
      "cell_type": "markdown",
      "metadata": {
        "id": "PVlAFxx9MZ_C",
        "colab_type": "text"
      },
      "source": [
        "#### Model tuning"
      ]
    },
    {
      "cell_type": "code",
      "metadata": {
        "id": "NAaFbbU1MZ_E",
        "colab_type": "code",
        "colab": {}
      },
      "source": [
        "from sklearn.model_selection import StratifiedKFold\n",
        "def svc_param_selection(X_train, y_train,kfold):\n",
        "    \n",
        "    Cs = [0.001,0.1, 0.25,0.5,1,3.5]\n",
        "    penalty = ['l1','l2']\n",
        "    class_weight = ['balanced',None]\n",
        "    \n",
        "    param_grid = {'C': Cs, 'penalty': penalty ,'class_weight':class_weight }\n",
        "    \n",
        "    grid_search = GridSearchCV(LogisticRegression(), param_grid,cv=kfold)\n",
        "    return grid_search.fit(X_train, y_train)"
      ],
      "execution_count": 0,
      "outputs": []
    },
    {
      "cell_type": "code",
      "metadata": {
        "id": "M1JE41U5MZ_K",
        "colab_type": "code",
        "colab": {},
        "outputId": "ddbdccd0-ce6b-46a6-ea0e-3f20eb706699"
      },
      "source": [
        "clf1 = svc_param_selection(X_train, y_train,StratifiedKFold(n_splits=3))\n",
        "\n",
        "pred = clf1.predict(X_test)\n",
        "\n",
        "print(clf1.best_params_)\n",
        "\n",
        "print(metrics.accuracy_score(y_test,pred))\n",
        "\n",
        "print(metrics.classification_report(y_test,pred))\n",
        "print(metrics.confusion_matrix(y_test,pred))"
      ],
      "execution_count": 0,
      "outputs": [
        {
          "output_type": "stream",
          "text": [
            "{'C': 0.1, 'class_weight': None, 'penalty': 'l1'}\n",
            "0.7967479674796748\n",
            "              precision    recall  f1-score   support\n",
            "\n",
            "           0       0.95      0.44      0.60        43\n",
            "           1       0.77      0.99      0.86        80\n",
            "\n",
            "    accuracy                           0.80       123\n",
            "   macro avg       0.86      0.71      0.73       123\n",
            "weighted avg       0.83      0.80      0.77       123\n",
            "\n",
            "[[19 24]\n",
            " [ 1 79]]\n"
          ],
          "name": "stdout"
        }
      ]
    },
    {
      "cell_type": "markdown",
      "metadata": {
        "id": "u-TucO2GMZ_T",
        "colab_type": "text"
      },
      "source": [
        "#### Neural Net"
      ]
    },
    {
      "cell_type": "code",
      "metadata": {
        "id": "4XFULi2-MZ_U",
        "colab_type": "code",
        "colab": {}
      },
      "source": [
        "from sklearn.model_selection import StratifiedKFold\n",
        "def svc_param_selection(X_train, y_train,kfold):\n",
        "    param_grid={\n",
        "    'learning_rate': [\"constant\", \"invscaling\", \"adaptive\"],\n",
        "    'hidden_layer_sizes': [x for x in itertools.product((10,20,30,40,50,100),repeat=3)],\n",
        "    'activation': ['relu','identity', 'logistic', 'tanh'],\n",
        "    'max_iter': [1,3],\n",
        "    'warm_start':[True,False]\n",
        "    \n",
        "    }\n",
        "    \n",
        "    grid_search = GridSearchCV( MLPClassifier(), param_grid,cv=kfold)\n",
        "    return grid_search.fit(X_train, y_train)\n",
        "# 'hidden_layer_sizes': [x for x in itertools.product((10,20,30,40,50,100),repeat=3)]\n",
        "#'hidden_layer_sizes':np.arange(3, 150)"
      ],
      "execution_count": 0,
      "outputs": []
    },
    {
      "cell_type": "code",
      "metadata": {
        "id": "b_gOwRuyMZ_c",
        "colab_type": "code",
        "colab": {}
      },
      "source": [
        "# clf2 = svc_param_selection(X_train, y_train,StratifiedKFold(n_splits=5))\n",
        "\n",
        "# pred = clf2.predict(X_test)\n",
        "\n",
        "# print(clf2.best_params_)\n",
        "\n",
        "# print(metrics.accuracy_score(y_test,pred))\n",
        "\n",
        "# print(metrics.classification_report(y_test,pred))\n",
        "# print(metrics.confusion_matrix(y_test,pred))"
      ],
      "execution_count": 0,
      "outputs": []
    },
    {
      "cell_type": "markdown",
      "metadata": {
        "id": "nUQRdcC1MaAH",
        "colab_type": "text"
      },
      "source": [
        "### Submission"
      ]
    },
    {
      "cell_type": "code",
      "metadata": {
        "id": "qS0GfhV8MaAP",
        "colab_type": "code",
        "colab": {}
      },
      "source": [
        "prediction = model.predict(test_data)"
      ],
      "execution_count": 0,
      "outputs": []
    },
    {
      "cell_type": "code",
      "metadata": {
        "id": "YeqVoeE9MaAY",
        "colab_type": "code",
        "colab": {}
      },
      "source": [
        "def predicted():\n",
        "    \n",
        "    sub = pd.DataFrame()\n",
        "    sub['Loan_ID'] = test['Loan_ID']\n",
        "    sub['Loan_Status'] = prediction\n",
        "    sub['Loan_Status'] = sub['Loan_Status'].map({0:'N',1:'Y'})\n",
        "    return sub"
      ],
      "execution_count": 0,
      "outputs": []
    },
    {
      "cell_type": "code",
      "metadata": {
        "id": "l61HpaSkMaAf",
        "colab_type": "code",
        "colab": {}
      },
      "source": [
        "sub=predicted()"
      ],
      "execution_count": 0,
      "outputs": []
    },
    {
      "cell_type": "code",
      "metadata": {
        "id": "lOyyZFUKMaAr",
        "colab_type": "code",
        "colab": {},
        "outputId": "6be26bdb-5b38-4a8d-e63e-202f5d033dd4"
      },
      "source": [
        "sub.head()"
      ],
      "execution_count": 0,
      "outputs": [
        {
          "output_type": "execute_result",
          "data": {
            "text/html": [
              "<div>\n",
              "<style scoped>\n",
              "    .dataframe tbody tr th:only-of-type {\n",
              "        vertical-align: middle;\n",
              "    }\n",
              "\n",
              "    .dataframe tbody tr th {\n",
              "        vertical-align: top;\n",
              "    }\n",
              "\n",
              "    .dataframe thead th {\n",
              "        text-align: right;\n",
              "    }\n",
              "</style>\n",
              "<table border=\"1\" class=\"dataframe\">\n",
              "  <thead>\n",
              "    <tr style=\"text-align: right;\">\n",
              "      <th></th>\n",
              "      <th>Loan_ID</th>\n",
              "      <th>Loan_Status</th>\n",
              "    </tr>\n",
              "  </thead>\n",
              "  <tbody>\n",
              "    <tr>\n",
              "      <th>0</th>\n",
              "      <td>LP001015</td>\n",
              "      <td>Y</td>\n",
              "    </tr>\n",
              "    <tr>\n",
              "      <th>1</th>\n",
              "      <td>LP001022</td>\n",
              "      <td>Y</td>\n",
              "    </tr>\n",
              "    <tr>\n",
              "      <th>2</th>\n",
              "      <td>LP001031</td>\n",
              "      <td>Y</td>\n",
              "    </tr>\n",
              "    <tr>\n",
              "      <th>3</th>\n",
              "      <td>LP001035</td>\n",
              "      <td>Y</td>\n",
              "    </tr>\n",
              "    <tr>\n",
              "      <th>4</th>\n",
              "      <td>LP001051</td>\n",
              "      <td>Y</td>\n",
              "    </tr>\n",
              "  </tbody>\n",
              "</table>\n",
              "</div>"
            ],
            "text/plain": [
              "    Loan_ID Loan_Status\n",
              "0  LP001015           Y\n",
              "1  LP001022           Y\n",
              "2  LP001031           Y\n",
              "3  LP001035           Y\n",
              "4  LP001051           Y"
            ]
          },
          "metadata": {
            "tags": []
          },
          "execution_count": 86
        }
      ]
    },
    {
      "cell_type": "code",
      "metadata": {
        "id": "Du8EXtYRMaBP",
        "colab_type": "code",
        "colab": {},
        "outputId": "77fca915-5843-46b1-9a6a-5e30fb0569c1"
      },
      "source": [
        "sub['Loan_Status'].value_counts()"
      ],
      "execution_count": 0,
      "outputs": [
        {
          "output_type": "execute_result",
          "data": {
            "text/plain": [
              "Y    303\n",
              "N     64\n",
              "Name: Loan_Status, dtype: int64"
            ]
          },
          "metadata": {
            "tags": []
          },
          "execution_count": 87
        }
      ]
    },
    {
      "cell_type": "code",
      "metadata": {
        "id": "OJEsDysBMaBY",
        "colab_type": "code",
        "colab": {}
      },
      "source": [
        "sub.to_csv('submission1.csv',index=False)"
      ],
      "execution_count": 0,
      "outputs": []
    },
    {
      "cell_type": "code",
      "metadata": {
        "id": "bq8rPQHPMaB0",
        "colab_type": "code",
        "colab": {}
      },
      "source": [
        ""
      ],
      "execution_count": 0,
      "outputs": []
    }
  ]
}