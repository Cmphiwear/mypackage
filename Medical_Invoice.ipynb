{
  "nbformat": 4,
  "nbformat_minor": 0,
  "metadata": {
    "kernelspec": {
      "display_name": "Python 3",
      "language": "python",
      "name": "python3"
    },
    "language_info": {
      "codemirror_mode": {
        "name": "ipython",
        "version": 3
      },
      "file_extension": ".py",
      "mimetype": "text/x-python",
      "name": "python",
      "nbconvert_exporter": "python",
      "pygments_lexer": "ipython3",
      "version": "3.7.0"
    },
    "colab": {
      "name": "Medical Invoice.ipynb",
      "provenance": [],
      "include_colab_link": true
    }
  },
  "cells": [
    {
      "cell_type": "markdown",
      "metadata": {
        "id": "view-in-github",
        "colab_type": "text"
      },
      "source": [
        "<a href=\"https://colab.research.google.com/github/simied/mypackage/blob/master/Medical_Invoice.ipynb\" target=\"_parent\"><img src=\"https://colab.research.google.com/assets/colab-badge.svg\" alt=\"Open In Colab\"/></a>"
      ]
    },
    {
      "cell_type": "markdown",
      "metadata": {
        "id": "USfSLEnMMec_",
        "colab_type": "text"
      },
      "source": [
        "# EDSA Medical Invoice Classification"
      ]
    },
    {
      "cell_type": "markdown",
      "metadata": {
        "id": "vIBy1NS3MedF",
        "colab_type": "text"
      },
      "source": [
        "#### In this notebook we will be classifying Medical Invoice NLP problem"
      ]
    },
    {
      "cell_type": "code",
      "metadata": {
        "id": "LCpaO9XcMedx",
        "colab_type": "code",
        "colab": {}
      },
      "source": [
        "#Data Libraries\n",
        "import numpy as np\n",
        "import pandas as pd \n",
        "\n",
        "#Visuales Libraries\n",
        "import matplotlib.pyplot as plt \n",
        "import seaborn as sns\n",
        "%matplotlib inline\n",
        "\n",
        "# Scikit libraries \n",
        "import sklearn\n",
        "from sklearn import preprocessing\n",
        "from sklearn.linear_model import LogisticRegression\n",
        "from sklearn.model_selection import train_test_split\n",
        "from sklearn import metrics \n",
        "from sklearn.metrics import classification_report\n",
        "\n",
        "from sklearn.model_selection import GridSearchCV\n",
        "from sklearn.metrics import log_loss\n",
        "from sklearn.metrics import accuracy_score\n",
        "from sklearn.feature_extraction.text import CountVectorizer,TfidfVectorizer,TfidfTransformer\n",
        "\n",
        "import nltk\n",
        "\n",
        "import warnings\n",
        "warnings.filterwarnings(\"ignore\")\n",
        "\n",
        "pd.options.display.max_columns=None"
      ],
      "execution_count": 0,
      "outputs": []
    },
    {
      "cell_type": "code",
      "metadata": {
        "id": "8zPKRXHgMeeU",
        "colab_type": "code",
        "colab": {}
      },
      "source": [
        "#Load data in pandas dataframes\n",
        "test = pd.read_csv('test.csv')\n",
        "train = pd.read_csv('train.csv')\n",
        "sample = pd.read_csv('sample_solution.csv')"
      ],
      "execution_count": 0,
      "outputs": []
    },
    {
      "cell_type": "code",
      "metadata": {
        "id": "SO5A5_NgMeeu",
        "colab_type": "code",
        "colab": {},
        "outputId": "9113e2f1-9c93-4c82-f895-7cd6ce50f082"
      },
      "source": [
        "#Display The first 5 rows of dataframes\n",
        "display(sample.head())\n",
        "display(train.head())\n",
        "display(test.head())"
      ],
      "execution_count": 0,
      "outputs": [
        {
          "output_type": "display_data",
          "data": {
            "text/html": [
              "<div>\n",
              "<style scoped>\n",
              "    .dataframe tbody tr th:only-of-type {\n",
              "        vertical-align: middle;\n",
              "    }\n",
              "\n",
              "    .dataframe tbody tr th {\n",
              "        vertical-align: top;\n",
              "    }\n",
              "\n",
              "    .dataframe thead th {\n",
              "        text-align: right;\n",
              "    }\n",
              "</style>\n",
              "<table border=\"1\" class=\"dataframe\">\n",
              "  <thead>\n",
              "    <tr style=\"text-align: right;\">\n",
              "      <th></th>\n",
              "      <th>ID</th>\n",
              "      <th>ItemCategory_New</th>\n",
              "    </tr>\n",
              "  </thead>\n",
              "  <tbody>\n",
              "    <tr>\n",
              "      <th>0</th>\n",
              "      <td>84485</td>\n",
              "      <td>x-rays</td>\n",
              "    </tr>\n",
              "    <tr>\n",
              "      <th>1</th>\n",
              "      <td>84486</td>\n",
              "      <td>anti-inflammatory tablets</td>\n",
              "    </tr>\n",
              "    <tr>\n",
              "      <th>2</th>\n",
              "      <td>84487</td>\n",
              "      <td>catheterisation</td>\n",
              "    </tr>\n",
              "    <tr>\n",
              "      <th>3</th>\n",
              "      <td>84488</td>\n",
              "      <td>gowns</td>\n",
              "    </tr>\n",
              "    <tr>\n",
              "      <th>4</th>\n",
              "      <td>84489</td>\n",
              "      <td>gastro-intestinal treatments</td>\n",
              "    </tr>\n",
              "  </tbody>\n",
              "</table>\n",
              "</div>"
            ],
            "text/plain": [
              "      ID              ItemCategory_New\n",
              "0  84485                        x-rays\n",
              "1  84486     anti-inflammatory tablets\n",
              "2  84487               catheterisation\n",
              "3  84488                         gowns\n",
              "4  84489  gastro-intestinal treatments"
            ]
          },
          "metadata": {
            "tags": []
          }
        },
        {
          "output_type": "display_data",
          "data": {
            "text/html": [
              "<div>\n",
              "<style scoped>\n",
              "    .dataframe tbody tr th:only-of-type {\n",
              "        vertical-align: middle;\n",
              "    }\n",
              "\n",
              "    .dataframe tbody tr th {\n",
              "        vertical-align: top;\n",
              "    }\n",
              "\n",
              "    .dataframe thead th {\n",
              "        text-align: right;\n",
              "    }\n",
              "</style>\n",
              "<table border=\"1\" class=\"dataframe\">\n",
              "  <thead>\n",
              "    <tr style=\"text-align: right;\">\n",
              "      <th></th>\n",
              "      <th>ID</th>\n",
              "      <th>ItemCategory</th>\n",
              "      <th>ItemCategory_New</th>\n",
              "    </tr>\n",
              "  </thead>\n",
              "  <tbody>\n",
              "    <tr>\n",
              "      <th>0</th>\n",
              "      <td>0</td>\n",
              "      <td>Inj 1.50 x Metacam 5mg/ml Injection for Dogs a...</td>\n",
              "      <td>anti-inflammatory injection</td>\n",
              "    </tr>\n",
              "    <tr>\n",
              "      <th>1</th>\n",
              "      <td>1</td>\n",
              "      <td>Mini metabolic profile</td>\n",
              "      <td>blood test</td>\n",
              "    </tr>\n",
              "    <tr>\n",
              "      <th>2</th>\n",
              "      <td>2</td>\n",
              "      <td>Biochemistry profile A</td>\n",
              "      <td>blood test</td>\n",
              "    </tr>\n",
              "    <tr>\n",
              "      <th>3</th>\n",
              "      <td>3</td>\n",
              "      <td>Comfortan Injection (CD Sch2) 4.35pm dose</td>\n",
              "      <td>analgesic injections</td>\n",
              "    </tr>\n",
              "    <tr>\n",
              "      <th>4</th>\n",
              "      <td>4</td>\n",
              "      <td>Micralax Enema 5ml</td>\n",
              "      <td>non specific medications</td>\n",
              "    </tr>\n",
              "  </tbody>\n",
              "</table>\n",
              "</div>"
            ],
            "text/plain": [
              "   ID                                       ItemCategory  \\\n",
              "0   0  Inj 1.50 x Metacam 5mg/ml Injection for Dogs a...   \n",
              "1   1                             Mini metabolic profile   \n",
              "2   2                             Biochemistry profile A   \n",
              "3   3          Comfortan Injection (CD Sch2) 4.35pm dose   \n",
              "4   4                                 Micralax Enema 5ml   \n",
              "\n",
              "              ItemCategory_New  \n",
              "0  anti-inflammatory injection  \n",
              "1                   blood test  \n",
              "2                   blood test  \n",
              "3         analgesic injections  \n",
              "4     non specific medications  "
            ]
          },
          "metadata": {
            "tags": []
          }
        },
        {
          "output_type": "display_data",
          "data": {
            "text/html": [
              "<div>\n",
              "<style scoped>\n",
              "    .dataframe tbody tr th:only-of-type {\n",
              "        vertical-align: middle;\n",
              "    }\n",
              "\n",
              "    .dataframe tbody tr th {\n",
              "        vertical-align: top;\n",
              "    }\n",
              "\n",
              "    .dataframe thead th {\n",
              "        text-align: right;\n",
              "    }\n",
              "</style>\n",
              "<table border=\"1\" class=\"dataframe\">\n",
              "  <thead>\n",
              "    <tr style=\"text-align: right;\">\n",
              "      <th></th>\n",
              "      <th>ID</th>\n",
              "      <th>ItemCategory</th>\n",
              "    </tr>\n",
              "  </thead>\n",
              "  <tbody>\n",
              "    <tr>\n",
              "      <th>0</th>\n",
              "      <td>84485</td>\n",
              "      <td>Consultation - Repeat (HPC 10% Sales Discount)</td>\n",
              "    </tr>\n",
              "    <tr>\n",
              "      <th>1</th>\n",
              "      <td>84486</td>\n",
              "      <td>1 x Lab Lasercyte Haematology</td>\n",
              "    </tr>\n",
              "    <tr>\n",
              "      <th>2</th>\n",
              "      <td>84487</td>\n",
              "      <td>5x Metronidazole 200mg Tablets</td>\n",
              "    </tr>\n",
              "    <tr>\n",
              "      <th>3</th>\n",
              "      <td>84488</td>\n",
              "      <td>Subsequent Extra Large Radiograph</td>\n",
              "    </tr>\n",
              "    <tr>\n",
              "      <th>4</th>\n",
              "      <td>84489</td>\n",
              "      <td>30X SYNOQUIN MEDIUM TASTY TABLETS</td>\n",
              "    </tr>\n",
              "  </tbody>\n",
              "</table>\n",
              "</div>"
            ],
            "text/plain": [
              "      ID                                    ItemCategory\n",
              "0  84485  Consultation - Repeat (HPC 10% Sales Discount)\n",
              "1  84486                   1 x Lab Lasercyte Haematology\n",
              "2  84487                  5x Metronidazole 200mg Tablets\n",
              "3  84488               Subsequent Extra Large Radiograph\n",
              "4  84489               30X SYNOQUIN MEDIUM TASTY TABLETS"
            ]
          },
          "metadata": {
            "tags": []
          }
        }
      ]
    },
    {
      "cell_type": "code",
      "metadata": {
        "id": "51B7PlROMegq",
        "colab_type": "code",
        "colab": {},
        "outputId": "48931ee3-526e-4bc0-c934-50854a361f2a"
      },
      "source": [
        "#Dimesion dipsplay\n",
        "train.shape"
      ],
      "execution_count": 0,
      "outputs": [
        {
          "output_type": "execute_result",
          "data": {
            "text/plain": [
              "(84485, 3)"
            ]
          },
          "metadata": {
            "tags": []
          },
          "execution_count": 4
        }
      ]
    },
    {
      "cell_type": "code",
      "metadata": {
        "id": "6lYlxbGaMehL",
        "colab_type": "code",
        "colab": {},
        "outputId": "759f75ed-8252-4f5d-81b4-92ea806e8fcb"
      },
      "source": [
        "test.shape"
      ],
      "execution_count": 0,
      "outputs": [
        {
          "output_type": "execute_result",
          "data": {
            "text/plain": [
              "(14909, 2)"
            ]
          },
          "metadata": {
            "tags": []
          },
          "execution_count": 5
        }
      ]
    },
    {
      "cell_type": "markdown",
      "metadata": {
        "id": "YtOqdU8TMeh2",
        "colab_type": "text"
      },
      "source": [
        "## Exploratory Data Analysis"
      ]
    },
    {
      "cell_type": "code",
      "metadata": {
        "id": "6NAYexT8Meh5",
        "colab_type": "code",
        "colab": {},
        "outputId": "e3017ca0-a96b-4e30-b5e0-6f678cee40b8"
      },
      "source": [
        "# finding missing values\n",
        "train.isnull().sum()"
      ],
      "execution_count": 0,
      "outputs": [
        {
          "output_type": "execute_result",
          "data": {
            "text/plain": [
              "ID                  0\n",
              "ItemCategory        1\n",
              "ItemCategory_New    0\n",
              "dtype: int64"
            ]
          },
          "metadata": {
            "tags": []
          },
          "execution_count": 6
        }
      ]
    },
    {
      "cell_type": "code",
      "metadata": {
        "id": "FCOt4px1Meia",
        "colab_type": "code",
        "colab": {}
      },
      "source": [
        "#fill in missing values using built in method\n",
        "train=train.fillna(method ='bfill') "
      ],
      "execution_count": 0,
      "outputs": []
    },
    {
      "cell_type": "code",
      "metadata": {
        "id": "P7FSA4YWMek-",
        "colab_type": "code",
        "colab": {},
        "outputId": "0a23d86a-b593-4823-8a85-e279d258cef6"
      },
      "source": [
        "train.isnull().sum()"
      ],
      "execution_count": 0,
      "outputs": [
        {
          "output_type": "execute_result",
          "data": {
            "text/plain": [
              "ID                  0\n",
              "ItemCategory        0\n",
              "ItemCategory_New    0\n",
              "dtype: int64"
            ]
          },
          "metadata": {
            "tags": []
          },
          "execution_count": 8
        }
      ]
    },
    {
      "cell_type": "code",
      "metadata": {
        "id": "KCFtrPN8MelH",
        "colab_type": "code",
        "colab": {},
        "outputId": "256506c5-f653-482a-a232-674eb4b95f2d"
      },
      "source": [
        "null = train[train.ItemCategory.isnull()]['ItemCategory']\n",
        "null"
      ],
      "execution_count": 0,
      "outputs": [
        {
          "output_type": "execute_result",
          "data": {
            "text/plain": [
              "Series([], Name: ItemCategory, dtype: object)"
            ]
          },
          "metadata": {
            "tags": []
          },
          "execution_count": 9
        }
      ]
    },
    {
      "cell_type": "code",
      "metadata": {
        "id": "wflaKaVTMelT",
        "colab_type": "code",
        "colab": {},
        "outputId": "1c6345ba-34f4-4bb7-8793-51250348a0dd"
      },
      "source": [
        "test.isnull().sum()"
      ],
      "execution_count": 0,
      "outputs": [
        {
          "output_type": "execute_result",
          "data": {
            "text/plain": [
              "ID              0\n",
              "ItemCategory    0\n",
              "dtype: int64"
            ]
          },
          "metadata": {
            "tags": []
          },
          "execution_count": 10
        }
      ]
    },
    {
      "cell_type": "code",
      "metadata": {
        "id": "HTiB8DRCMelf",
        "colab_type": "code",
        "colab": {}
      },
      "source": [
        "df = pd.concat((train[['ItemCategory']] ,test[['ItemCategory']]),axis=0)"
      ],
      "execution_count": 0,
      "outputs": []
    },
    {
      "cell_type": "code",
      "metadata": {
        "id": "hwdkXdz5Meln",
        "colab_type": "code",
        "colab": {}
      },
      "source": [
        "#df['ItemCategory'] = df['ItemCategory'].apply(lambda x: ' '.join(x.split(\"|||\")))"
      ],
      "execution_count": 0,
      "outputs": []
    },
    {
      "cell_type": "code",
      "metadata": {
        "id": "AW_fxKoNMelw",
        "colab_type": "code",
        "colab": {},
        "outputId": "b9f53200-236b-4a02-93a7-f3e31b2759a2"
      },
      "source": [
        "display(df.head())\n",
        "display(df.shape)"
      ],
      "execution_count": 0,
      "outputs": [
        {
          "output_type": "display_data",
          "data": {
            "text/html": [
              "<div>\n",
              "<style scoped>\n",
              "    .dataframe tbody tr th:only-of-type {\n",
              "        vertical-align: middle;\n",
              "    }\n",
              "\n",
              "    .dataframe tbody tr th {\n",
              "        vertical-align: top;\n",
              "    }\n",
              "\n",
              "    .dataframe thead th {\n",
              "        text-align: right;\n",
              "    }\n",
              "</style>\n",
              "<table border=\"1\" class=\"dataframe\">\n",
              "  <thead>\n",
              "    <tr style=\"text-align: right;\">\n",
              "      <th></th>\n",
              "      <th>ItemCategory</th>\n",
              "    </tr>\n",
              "  </thead>\n",
              "  <tbody>\n",
              "    <tr>\n",
              "      <th>0</th>\n",
              "      <td>Inj 1.50 x Metacam 5mg/ml Injection for Dogs a...</td>\n",
              "    </tr>\n",
              "    <tr>\n",
              "      <th>1</th>\n",
              "      <td>Mini metabolic profile</td>\n",
              "    </tr>\n",
              "    <tr>\n",
              "      <th>2</th>\n",
              "      <td>Biochemistry profile A</td>\n",
              "    </tr>\n",
              "    <tr>\n",
              "      <th>3</th>\n",
              "      <td>Comfortan Injection (CD Sch2) 4.35pm dose</td>\n",
              "    </tr>\n",
              "    <tr>\n",
              "      <th>4</th>\n",
              "      <td>Micralax Enema 5ml</td>\n",
              "    </tr>\n",
              "  </tbody>\n",
              "</table>\n",
              "</div>"
            ],
            "text/plain": [
              "                                        ItemCategory\n",
              "0  Inj 1.50 x Metacam 5mg/ml Injection for Dogs a...\n",
              "1                             Mini metabolic profile\n",
              "2                             Biochemistry profile A\n",
              "3          Comfortan Injection (CD Sch2) 4.35pm dose\n",
              "4                                 Micralax Enema 5ml"
            ]
          },
          "metadata": {
            "tags": []
          }
        },
        {
          "output_type": "display_data",
          "data": {
            "text/plain": [
              "(99394, 1)"
            ]
          },
          "metadata": {
            "tags": []
          }
        }
      ]
    },
    {
      "cell_type": "markdown",
      "metadata": {
        "id": "pFxb4r44Mel6",
        "colab_type": "text"
      },
      "source": [
        "## Remove Noise"
      ]
    },
    {
      "cell_type": "code",
      "metadata": {
        "id": "9QnUqdVoMel8",
        "colab_type": "code",
        "colab": {}
      },
      "source": [
        "df['ItemCategory'] = df['ItemCategory'].str.replace(' mg','mg')\n",
        "df['ItemCategory'] = df['ItemCategory'].str.replace(' x','x')\n",
        "df['ItemCategory'] = df['ItemCategory'].str.replace(' ml','ml')\n",
        "df['ItemCategory'] = df['ItemCategory'].str.replace(' :','')\n",
        "#df['ItemCategory'] = df['ItemCategory'].str.replace(' percent','percent')"
      ],
      "execution_count": 0,
      "outputs": []
    },
    {
      "cell_type": "code",
      "metadata": {
        "id": "QntIHO2WMemE",
        "colab_type": "code",
        "colab": {}
      },
      "source": [
        "# make lower case\n",
        "df['ItemCategory'] = df['ItemCategory'].str.lower()"
      ],
      "execution_count": 0,
      "outputs": []
    },
    {
      "cell_type": "code",
      "metadata": {
        "id": "0gFArRYNMemN",
        "colab_type": "code",
        "colab": {}
      },
      "source": [
        "# import string\n",
        "# def remove_punctuation_numbers(post):\n",
        "#     punc_numbers = string.punctuation + '1234567890'\n",
        "#     return ''.join([l for l in post if l not in punc_numbers])\n",
        "# df['ItemCategory']= df['ItemCategory'].apply(remove_punctuation_numbers)"
      ],
      "execution_count": 0,
      "outputs": []
    },
    {
      "cell_type": "code",
      "metadata": {
        "id": "CK2QbM1XMemV",
        "colab_type": "code",
        "colab": {},
        "outputId": "60bd7cf0-bfae-4f19-83ae-16d1748e40ea"
      },
      "source": [
        "df.head()"
      ],
      "execution_count": 0,
      "outputs": [
        {
          "output_type": "execute_result",
          "data": {
            "text/html": [
              "<div>\n",
              "<style scoped>\n",
              "    .dataframe tbody tr th:only-of-type {\n",
              "        vertical-align: middle;\n",
              "    }\n",
              "\n",
              "    .dataframe tbody tr th {\n",
              "        vertical-align: top;\n",
              "    }\n",
              "\n",
              "    .dataframe thead th {\n",
              "        text-align: right;\n",
              "    }\n",
              "</style>\n",
              "<table border=\"1\" class=\"dataframe\">\n",
              "  <thead>\n",
              "    <tr style=\"text-align: right;\">\n",
              "      <th></th>\n",
              "      <th>ItemCategory</th>\n",
              "    </tr>\n",
              "  </thead>\n",
              "  <tbody>\n",
              "    <tr>\n",
              "      <th>0</th>\n",
              "      <td>inj 1.50x metacam 5mg/ml injection for dogs an...</td>\n",
              "    </tr>\n",
              "    <tr>\n",
              "      <th>1</th>\n",
              "      <td>mini metabolic profile</td>\n",
              "    </tr>\n",
              "    <tr>\n",
              "      <th>2</th>\n",
              "      <td>biochemistry profile a</td>\n",
              "    </tr>\n",
              "    <tr>\n",
              "      <th>3</th>\n",
              "      <td>comfortan injection (cd sch2) 4.35pm dose</td>\n",
              "    </tr>\n",
              "    <tr>\n",
              "      <th>4</th>\n",
              "      <td>micralax enema 5ml</td>\n",
              "    </tr>\n",
              "  </tbody>\n",
              "</table>\n",
              "</div>"
            ],
            "text/plain": [
              "                                        ItemCategory\n",
              "0  inj 1.50x metacam 5mg/ml injection for dogs an...\n",
              "1                             mini metabolic profile\n",
              "2                             biochemistry profile a\n",
              "3          comfortan injection (cd sch2) 4.35pm dose\n",
              "4                                 micralax enema 5ml"
            ]
          },
          "metadata": {
            "tags": []
          },
          "execution_count": 17
        }
      ]
    },
    {
      "cell_type": "code",
      "metadata": {
        "id": "wE-R-hZYMemg",
        "colab_type": "code",
        "colab": {},
        "outputId": "3107aab5-e080-49ee-8d2b-504d91c44874"
      },
      "source": [
        "df.describe()"
      ],
      "execution_count": 0,
      "outputs": [
        {
          "output_type": "execute_result",
          "data": {
            "text/html": [
              "<div>\n",
              "<style scoped>\n",
              "    .dataframe tbody tr th:only-of-type {\n",
              "        vertical-align: middle;\n",
              "    }\n",
              "\n",
              "    .dataframe tbody tr th {\n",
              "        vertical-align: top;\n",
              "    }\n",
              "\n",
              "    .dataframe thead th {\n",
              "        text-align: right;\n",
              "    }\n",
              "</style>\n",
              "<table border=\"1\" class=\"dataframe\">\n",
              "  <thead>\n",
              "    <tr style=\"text-align: right;\">\n",
              "      <th></th>\n",
              "      <th>ItemCategory</th>\n",
              "    </tr>\n",
              "  </thead>\n",
              "  <tbody>\n",
              "    <tr>\n",
              "      <th>count</th>\n",
              "      <td>99394</td>\n",
              "    </tr>\n",
              "    <tr>\n",
              "      <th>unique</th>\n",
              "      <td>97173</td>\n",
              "    </tr>\n",
              "    <tr>\n",
              "      <th>top</th>\n",
              "      <td>consultation</td>\n",
              "    </tr>\n",
              "    <tr>\n",
              "      <th>freq</th>\n",
              "      <td>9</td>\n",
              "    </tr>\n",
              "  </tbody>\n",
              "</table>\n",
              "</div>"
            ],
            "text/plain": [
              "        ItemCategory\n",
              "count          99394\n",
              "unique         97173\n",
              "top     consultation\n",
              "freq               9"
            ]
          },
          "metadata": {
            "tags": []
          },
          "execution_count": 18
        }
      ]
    },
    {
      "cell_type": "code",
      "metadata": {
        "id": "_QuIjhRjMemo",
        "colab_type": "code",
        "colab": {}
      },
      "source": [
        "df['post_len'] = df['ItemCategory'].apply(len)"
      ],
      "execution_count": 0,
      "outputs": []
    },
    {
      "cell_type": "markdown",
      "metadata": {
        "id": "oW4RNwq5Mem_",
        "colab_type": "text"
      },
      "source": [
        "## Tokenizing"
      ]
    },
    {
      "cell_type": "code",
      "metadata": {
        "id": "yxpHMeN0MenG",
        "colab_type": "code",
        "colab": {}
      },
      "source": [
        "from nltk.tokenize import word_tokenize, TreebankWordTokenizer"
      ],
      "execution_count": 0,
      "outputs": []
    },
    {
      "cell_type": "code",
      "metadata": {
        "id": "xoOKtDTkMenT",
        "colab_type": "code",
        "colab": {}
      },
      "source": [
        "# we will use the TreeBankWordTokenizer since it is MUCH quicker than the word_tokenise function\n",
        "tokeniser = TreebankWordTokenizer()\n",
        "df['tokens'] = df['ItemCategory'].apply(tokeniser.tokenize)"
      ],
      "execution_count": 0,
      "outputs": []
    },
    {
      "cell_type": "code",
      "metadata": {
        "id": "UOVE-5SAMena",
        "colab_type": "code",
        "colab": {},
        "outputId": "64ace49c-7f29-40ff-fa2c-71971727f53f"
      },
      "source": [
        "df.head()"
      ],
      "execution_count": 0,
      "outputs": [
        {
          "output_type": "execute_result",
          "data": {
            "text/html": [
              "<div>\n",
              "<style scoped>\n",
              "    .dataframe tbody tr th:only-of-type {\n",
              "        vertical-align: middle;\n",
              "    }\n",
              "\n",
              "    .dataframe tbody tr th {\n",
              "        vertical-align: top;\n",
              "    }\n",
              "\n",
              "    .dataframe thead th {\n",
              "        text-align: right;\n",
              "    }\n",
              "</style>\n",
              "<table border=\"1\" class=\"dataframe\">\n",
              "  <thead>\n",
              "    <tr style=\"text-align: right;\">\n",
              "      <th></th>\n",
              "      <th>ItemCategory</th>\n",
              "      <th>post_len</th>\n",
              "      <th>tokens</th>\n",
              "    </tr>\n",
              "  </thead>\n",
              "  <tbody>\n",
              "    <tr>\n",
              "      <th>0</th>\n",
              "      <td>inj 1.50x metacam 5mg/ml injection for dogs an...</td>\n",
              "      <td>80</td>\n",
              "      <td>[inj, 1.50x, metacam, 5mg/ml, injection, for, ...</td>\n",
              "    </tr>\n",
              "    <tr>\n",
              "      <th>1</th>\n",
              "      <td>mini metabolic profile</td>\n",
              "      <td>22</td>\n",
              "      <td>[mini, metabolic, profile]</td>\n",
              "    </tr>\n",
              "    <tr>\n",
              "      <th>2</th>\n",
              "      <td>biochemistry profile a</td>\n",
              "      <td>22</td>\n",
              "      <td>[biochemistry, profile, a]</td>\n",
              "    </tr>\n",
              "    <tr>\n",
              "      <th>3</th>\n",
              "      <td>comfortan injection (cd sch2) 4.35pm dose</td>\n",
              "      <td>41</td>\n",
              "      <td>[comfortan, injection, (, cd, sch2, ), 4.35pm,...</td>\n",
              "    </tr>\n",
              "    <tr>\n",
              "      <th>4</th>\n",
              "      <td>micralax enema 5ml</td>\n",
              "      <td>18</td>\n",
              "      <td>[micralax, enema, 5ml]</td>\n",
              "    </tr>\n",
              "  </tbody>\n",
              "</table>\n",
              "</div>"
            ],
            "text/plain": [
              "                                        ItemCategory  post_len  \\\n",
              "0  inj 1.50x metacam 5mg/ml injection for dogs an...        80   \n",
              "1                             mini metabolic profile        22   \n",
              "2                             biochemistry profile a        22   \n",
              "3          comfortan injection (cd sch2) 4.35pm dose        41   \n",
              "4                                 micralax enema 5ml        18   \n",
              "\n",
              "                                              tokens  \n",
              "0  [inj, 1.50x, metacam, 5mg/ml, injection, for, ...  \n",
              "1                         [mini, metabolic, profile]  \n",
              "2                         [biochemistry, profile, a]  \n",
              "3  [comfortan, injection, (, cd, sch2, ), 4.35pm,...  \n",
              "4                             [micralax, enema, 5ml]  "
            ]
          },
          "metadata": {
            "tags": []
          },
          "execution_count": 22
        }
      ]
    },
    {
      "cell_type": "markdown",
      "metadata": {
        "id": "beOHSQNDMenk",
        "colab_type": "text"
      },
      "source": [
        "## Lemmatizing"
      ]
    },
    {
      "cell_type": "code",
      "metadata": {
        "id": "_5M0Z82AMenm",
        "colab_type": "code",
        "colab": {}
      },
      "source": [
        "from nltk.stem import WordNetLemmatizer\n",
        "lemmatizer = WordNetLemmatizer()\n",
        "\n",
        "def Item_lemma(words, lemmatizer):\n",
        "    return [lemmatizer.lemmatize(word) for word in words] "
      ],
      "execution_count": 0,
      "outputs": []
    },
    {
      "cell_type": "code",
      "metadata": {
        "id": "h6lBlw3nMen4",
        "colab_type": "code",
        "colab": {}
      },
      "source": [
        "# lemmatize all words in dataframe\n",
        "df['lemma'] = df['tokens'].apply(Item_lemma, args=(lemmatizer, ))"
      ],
      "execution_count": 0,
      "outputs": []
    },
    {
      "cell_type": "markdown",
      "metadata": {
        "id": "xOB1T6ZGMeoB",
        "colab_type": "text"
      },
      "source": [
        "## StopWords"
      ]
    },
    {
      "cell_type": "code",
      "metadata": {
        "id": "BC-za8TWMeoD",
        "colab_type": "code",
        "colab": {}
      },
      "source": [
        "# Update stopwords with class names and other stop words without punctuation\n",
        "from nltk.corpus import stopwords\n",
        "\n",
        "stopset = set(stopwords.words('english'))\n",
        "stopset.update(['^'])\n"
      ],
      "execution_count": 0,
      "outputs": []
    },
    {
      "cell_type": "code",
      "metadata": {
        "id": "JHQyd2XNMeoK",
        "colab_type": "code",
        "colab": {}
      },
      "source": [
        "def remove_stop_words(tokens):\n",
        "    return [t for t in tokens if t not in stopset]\n",
        "\n",
        "df['new_lemma'] = df['lemma'].apply(remove_stop_words)"
      ],
      "execution_count": 0,
      "outputs": []
    },
    {
      "cell_type": "code",
      "metadata": {
        "id": "3LGJpvJaMeoT",
        "colab_type": "code",
        "colab": {},
        "outputId": "3f2901db-b740-4acb-bdf2-48620c6390cd"
      },
      "source": [
        "df.shape"
      ],
      "execution_count": 0,
      "outputs": [
        {
          "output_type": "execute_result",
          "data": {
            "text/plain": [
              "(99394, 5)"
            ]
          },
          "metadata": {
            "tags": []
          },
          "execution_count": 27
        }
      ]
    },
    {
      "cell_type": "code",
      "metadata": {
        "id": "YXaiq7ZDMeob",
        "colab_type": "code",
        "colab": {},
        "outputId": "55f5980b-ea27-4d9d-bdf7-b27f07de9161"
      },
      "source": [
        "df.head()"
      ],
      "execution_count": 0,
      "outputs": [
        {
          "output_type": "execute_result",
          "data": {
            "text/html": [
              "<div>\n",
              "<style scoped>\n",
              "    .dataframe tbody tr th:only-of-type {\n",
              "        vertical-align: middle;\n",
              "    }\n",
              "\n",
              "    .dataframe tbody tr th {\n",
              "        vertical-align: top;\n",
              "    }\n",
              "\n",
              "    .dataframe thead th {\n",
              "        text-align: right;\n",
              "    }\n",
              "</style>\n",
              "<table border=\"1\" class=\"dataframe\">\n",
              "  <thead>\n",
              "    <tr style=\"text-align: right;\">\n",
              "      <th></th>\n",
              "      <th>ItemCategory</th>\n",
              "      <th>post_len</th>\n",
              "      <th>tokens</th>\n",
              "      <th>lemma</th>\n",
              "      <th>new_lemma</th>\n",
              "    </tr>\n",
              "  </thead>\n",
              "  <tbody>\n",
              "    <tr>\n",
              "      <th>0</th>\n",
              "      <td>inj 1.50x metacam 5mg/ml injection for dogs an...</td>\n",
              "      <td>80</td>\n",
              "      <td>[inj, 1.50x, metacam, 5mg/ml, injection, for, ...</td>\n",
              "      <td>[inj, 1.50x, metacam, 5mg/ml, injection, for, ...</td>\n",
              "      <td>[inj, 1.50x, metacam, 5mg/ml, injection, dog, ...</td>\n",
              "    </tr>\n",
              "    <tr>\n",
              "      <th>1</th>\n",
              "      <td>mini metabolic profile</td>\n",
              "      <td>22</td>\n",
              "      <td>[mini, metabolic, profile]</td>\n",
              "      <td>[mini, metabolic, profile]</td>\n",
              "      <td>[mini, metabolic, profile]</td>\n",
              "    </tr>\n",
              "    <tr>\n",
              "      <th>2</th>\n",
              "      <td>biochemistry profile a</td>\n",
              "      <td>22</td>\n",
              "      <td>[biochemistry, profile, a]</td>\n",
              "      <td>[biochemistry, profile, a]</td>\n",
              "      <td>[biochemistry, profile]</td>\n",
              "    </tr>\n",
              "    <tr>\n",
              "      <th>3</th>\n",
              "      <td>comfortan injection (cd sch2) 4.35pm dose</td>\n",
              "      <td>41</td>\n",
              "      <td>[comfortan, injection, (, cd, sch2, ), 4.35pm,...</td>\n",
              "      <td>[comfortan, injection, (, cd, sch2, ), 4.35pm,...</td>\n",
              "      <td>[comfortan, injection, (, cd, sch2, ), 4.35pm,...</td>\n",
              "    </tr>\n",
              "    <tr>\n",
              "      <th>4</th>\n",
              "      <td>micralax enema 5ml</td>\n",
              "      <td>18</td>\n",
              "      <td>[micralax, enema, 5ml]</td>\n",
              "      <td>[micralax, enema, 5ml]</td>\n",
              "      <td>[micralax, enema, 5ml]</td>\n",
              "    </tr>\n",
              "  </tbody>\n",
              "</table>\n",
              "</div>"
            ],
            "text/plain": [
              "                                        ItemCategory  post_len  \\\n",
              "0  inj 1.50x metacam 5mg/ml injection for dogs an...        80   \n",
              "1                             mini metabolic profile        22   \n",
              "2                             biochemistry profile a        22   \n",
              "3          comfortan injection (cd sch2) 4.35pm dose        41   \n",
              "4                                 micralax enema 5ml        18   \n",
              "\n",
              "                                              tokens  \\\n",
              "0  [inj, 1.50x, metacam, 5mg/ml, injection, for, ...   \n",
              "1                         [mini, metabolic, profile]   \n",
              "2                         [biochemistry, profile, a]   \n",
              "3  [comfortan, injection, (, cd, sch2, ), 4.35pm,...   \n",
              "4                             [micralax, enema, 5ml]   \n",
              "\n",
              "                                               lemma  \\\n",
              "0  [inj, 1.50x, metacam, 5mg/ml, injection, for, ...   \n",
              "1                         [mini, metabolic, profile]   \n",
              "2                         [biochemistry, profile, a]   \n",
              "3  [comfortan, injection, (, cd, sch2, ), 4.35pm,...   \n",
              "4                             [micralax, enema, 5ml]   \n",
              "\n",
              "                                           new_lemma  \n",
              "0  [inj, 1.50x, metacam, 5mg/ml, injection, dog, ...  \n",
              "1                         [mini, metabolic, profile]  \n",
              "2                            [biochemistry, profile]  \n",
              "3  [comfortan, injection, (, cd, sch2, ), 4.35pm,...  \n",
              "4                             [micralax, enema, 5ml]  "
            ]
          },
          "metadata": {
            "tags": []
          },
          "execution_count": 28
        }
      ]
    },
    {
      "cell_type": "code",
      "metadata": {
        "id": "1zpokag_Meol",
        "colab_type": "code",
        "colab": {},
        "outputId": "6c6fe7a4-72a3-4cf4-832b-928857b4ff11"
      },
      "source": [
        "df['lemmatizing'] = [' '.join(line) for line in df['new_lemma']]\n",
        "df.head()"
      ],
      "execution_count": 0,
      "outputs": [
        {
          "output_type": "execute_result",
          "data": {
            "text/html": [
              "<div>\n",
              "<style scoped>\n",
              "    .dataframe tbody tr th:only-of-type {\n",
              "        vertical-align: middle;\n",
              "    }\n",
              "\n",
              "    .dataframe tbody tr th {\n",
              "        vertical-align: top;\n",
              "    }\n",
              "\n",
              "    .dataframe thead th {\n",
              "        text-align: right;\n",
              "    }\n",
              "</style>\n",
              "<table border=\"1\" class=\"dataframe\">\n",
              "  <thead>\n",
              "    <tr style=\"text-align: right;\">\n",
              "      <th></th>\n",
              "      <th>ItemCategory</th>\n",
              "      <th>post_len</th>\n",
              "      <th>tokens</th>\n",
              "      <th>lemma</th>\n",
              "      <th>new_lemma</th>\n",
              "      <th>lemmatizing</th>\n",
              "    </tr>\n",
              "  </thead>\n",
              "  <tbody>\n",
              "    <tr>\n",
              "      <th>0</th>\n",
              "      <td>inj 1.50x metacam 5mg/ml injection for dogs an...</td>\n",
              "      <td>80</td>\n",
              "      <td>[inj, 1.50x, metacam, 5mg/ml, injection, for, ...</td>\n",
              "      <td>[inj, 1.50x, metacam, 5mg/ml, injection, for, ...</td>\n",
              "      <td>[inj, 1.50x, metacam, 5mg/ml, injection, dog, ...</td>\n",
              "      <td>inj 1.50x metacam 5mg/ml injection dog cat 10m...</td>\n",
              "    </tr>\n",
              "    <tr>\n",
              "      <th>1</th>\n",
              "      <td>mini metabolic profile</td>\n",
              "      <td>22</td>\n",
              "      <td>[mini, metabolic, profile]</td>\n",
              "      <td>[mini, metabolic, profile]</td>\n",
              "      <td>[mini, metabolic, profile]</td>\n",
              "      <td>mini metabolic profile</td>\n",
              "    </tr>\n",
              "    <tr>\n",
              "      <th>2</th>\n",
              "      <td>biochemistry profile a</td>\n",
              "      <td>22</td>\n",
              "      <td>[biochemistry, profile, a]</td>\n",
              "      <td>[biochemistry, profile, a]</td>\n",
              "      <td>[biochemistry, profile]</td>\n",
              "      <td>biochemistry profile</td>\n",
              "    </tr>\n",
              "    <tr>\n",
              "      <th>3</th>\n",
              "      <td>comfortan injection (cd sch2) 4.35pm dose</td>\n",
              "      <td>41</td>\n",
              "      <td>[comfortan, injection, (, cd, sch2, ), 4.35pm,...</td>\n",
              "      <td>[comfortan, injection, (, cd, sch2, ), 4.35pm,...</td>\n",
              "      <td>[comfortan, injection, (, cd, sch2, ), 4.35pm,...</td>\n",
              "      <td>comfortan injection ( cd sch2 ) 4.35pm dose</td>\n",
              "    </tr>\n",
              "    <tr>\n",
              "      <th>4</th>\n",
              "      <td>micralax enema 5ml</td>\n",
              "      <td>18</td>\n",
              "      <td>[micralax, enema, 5ml]</td>\n",
              "      <td>[micralax, enema, 5ml]</td>\n",
              "      <td>[micralax, enema, 5ml]</td>\n",
              "      <td>micralax enema 5ml</td>\n",
              "    </tr>\n",
              "  </tbody>\n",
              "</table>\n",
              "</div>"
            ],
            "text/plain": [
              "                                        ItemCategory  post_len  \\\n",
              "0  inj 1.50x metacam 5mg/ml injection for dogs an...        80   \n",
              "1                             mini metabolic profile        22   \n",
              "2                             biochemistry profile a        22   \n",
              "3          comfortan injection (cd sch2) 4.35pm dose        41   \n",
              "4                                 micralax enema 5ml        18   \n",
              "\n",
              "                                              tokens  \\\n",
              "0  [inj, 1.50x, metacam, 5mg/ml, injection, for, ...   \n",
              "1                         [mini, metabolic, profile]   \n",
              "2                         [biochemistry, profile, a]   \n",
              "3  [comfortan, injection, (, cd, sch2, ), 4.35pm,...   \n",
              "4                             [micralax, enema, 5ml]   \n",
              "\n",
              "                                               lemma  \\\n",
              "0  [inj, 1.50x, metacam, 5mg/ml, injection, for, ...   \n",
              "1                         [mini, metabolic, profile]   \n",
              "2                         [biochemistry, profile, a]   \n",
              "3  [comfortan, injection, (, cd, sch2, ), 4.35pm,...   \n",
              "4                             [micralax, enema, 5ml]   \n",
              "\n",
              "                                           new_lemma  \\\n",
              "0  [inj, 1.50x, metacam, 5mg/ml, injection, dog, ...   \n",
              "1                         [mini, metabolic, profile]   \n",
              "2                            [biochemistry, profile]   \n",
              "3  [comfortan, injection, (, cd, sch2, ), 4.35pm,...   \n",
              "4                             [micralax, enema, 5ml]   \n",
              "\n",
              "                                         lemmatizing  \n",
              "0  inj 1.50x metacam 5mg/ml injection dog cat 10m...  \n",
              "1                             mini metabolic profile  \n",
              "2                               biochemistry profile  \n",
              "3        comfortan injection ( cd sch2 ) 4.35pm dose  \n",
              "4                                 micralax enema 5ml  "
            ]
          },
          "metadata": {
            "tags": []
          },
          "execution_count": 29
        }
      ]
    },
    {
      "cell_type": "markdown",
      "metadata": {
        "id": "CE2kbomkMeoy",
        "colab_type": "text"
      },
      "source": [
        "## Vectorization"
      ]
    },
    {
      "cell_type": "code",
      "metadata": {
        "id": "uh99rSIyMepH",
        "colab_type": "code",
        "colab": {}
      },
      "source": [
        "vect = CountVectorizer(lowercase=True,stop_words=stopset,max_features=6500)\n",
        "X_count = vect.fit_transform(df.lemmatizing)\n",
        "\n",
        "tfizer = TfidfTransformer()\n",
        "\n",
        "tfizer.fit(X_count)\n",
        "X_tfidfV = tfizer.fit_transform(X_count)"
      ],
      "execution_count": 0,
      "outputs": []
    },
    {
      "cell_type": "code",
      "metadata": {
        "id": "nSLaIMRHMepP",
        "colab_type": "code",
        "colab": {}
      },
      "source": [
        "# tfidf = TfidfVectorizer(stop_words='english',max_features=7000)\n",
        "# X_tfidfV = tfidf.fit_transform(df.lemmatizing)"
      ],
      "execution_count": 0,
      "outputs": []
    },
    {
      "cell_type": "markdown",
      "metadata": {
        "id": "P4lNKuBOMepr",
        "colab_type": "text"
      },
      "source": [
        "## Trianing and Fitting"
      ]
    },
    {
      "cell_type": "code",
      "metadata": {
        "id": "wdegLWxHMept",
        "colab_type": "code",
        "colab": {}
      },
      "source": [
        "y = train.ItemCategory_New\n",
        "X_tfidfV = X_tfidfV"
      ],
      "execution_count": 0,
      "outputs": []
    },
    {
      "cell_type": "code",
      "metadata": {
        "id": "Re71lESbMep1",
        "colab_type": "code",
        "colab": {}
      },
      "source": [
        "X = X_tfidfV[:len(train)]\n",
        "Test_data = X_tfidfV[len(train):]"
      ],
      "execution_count": 0,
      "outputs": []
    },
    {
      "cell_type": "code",
      "metadata": {
        "id": "AMi_OjHJMep9",
        "colab_type": "code",
        "colab": {},
        "outputId": "f31749a5-a731-4e0d-8102-c738e183d2eb"
      },
      "source": [
        "display(X.shape)\n",
        "display(y.shape)"
      ],
      "execution_count": 0,
      "outputs": [
        {
          "output_type": "display_data",
          "data": {
            "text/plain": [
              "(84485, 6500)"
            ]
          },
          "metadata": {
            "tags": []
          }
        },
        {
          "output_type": "display_data",
          "data": {
            "text/plain": [
              "(84485,)"
            ]
          },
          "metadata": {
            "tags": []
          }
        }
      ]
    },
    {
      "cell_type": "code",
      "metadata": {
        "id": "zZb_fS8FMezq",
        "colab_type": "code",
        "colab": {}
      },
      "source": [
        "X_train,X_test,y_train,y_test = train_test_split(X,y,test_size=0.2,random_state=42)"
      ],
      "execution_count": 0,
      "outputs": []
    },
    {
      "cell_type": "markdown",
      "metadata": {
        "id": "tuj6jTVqMe0v",
        "colab_type": "text"
      },
      "source": [
        "## Modelling"
      ]
    },
    {
      "cell_type": "code",
      "metadata": {
        "id": "QuxuwlBDMe0x",
        "colab_type": "code",
        "colab": {}
      },
      "source": [
        "# Cross_val_score is the new class for today...\n",
        "from sklearn.model_selection import cross_val_score\n",
        "from sklearn.model_selection import train_test_split\n",
        "from sklearn import metrics\n",
        "\n",
        "from sklearn.preprocessing import StandardScaler\n",
        "from sklearn.datasets import make_moons, make_circles, make_classification\n",
        "\n",
        "# main ones to focus on for this sprint\n",
        "from sklearn.linear_model import LogisticRegression\n",
        "from sklearn.neighbors import KNeighborsClassifier\n",
        "from sklearn.naive_bayes import GaussianNB\n",
        "from sklearn.discriminant_analysis import LinearDiscriminantAnalysis\n",
        "from sklearn.discriminant_analysis import QuadraticDiscriminantAnalysis\n",
        "\n",
        "# Covered in sprint 3\n",
        "from sklearn.tree import DecisionTreeClassifier\n",
        "from sklearn.ensemble import RandomForestClassifier, AdaBoostClassifier\n",
        "\n",
        "# Covered in sprint 4\n",
        "from sklearn.gaussian_process import GaussianProcessClassifier\n",
        "from sklearn.gaussian_process.kernels import RBF\n",
        "\n",
        "# Neural Network!!\n",
        "from sklearn.neural_network import MLPClassifier\n",
        "from sklearn.ensemble import GradientBoostingClassifier\n",
        "import xgboost as xgb\n",
        "from xgboost.sklearn import XGBClassifier\n",
        "from xgboost.sklearn import XGBRegressor\n",
        "from sklearn.ensemble import GradientBoostingClassifier\n",
        "\n",
        "from sklearn.svm import SVC \n",
        "\n",
        "from sklearn.model_selection import GridSearchCV \n",
        "\n",
        "from sklearn.metrics import f1_score\n",
        "from sklearn.metrics import log_loss"
      ],
      "execution_count": 0,
      "outputs": []
    },
    {
      "cell_type": "code",
      "metadata": {
        "id": "Wh0nituDMe0_",
        "colab_type": "code",
        "colab": {}
      },
      "source": [
        "#clf = LogisticRegression(C=7.5,n_jobs= -1,penalty='l2')\n",
        "clf = MLPClassifier(hidden_layer_sizes=(50),max_iter=1, warm_start=True)"
      ],
      "execution_count": 0,
      "outputs": []
    },
    {
      "cell_type": "code",
      "metadata": {
        "id": "2cqoBkE9Me1S",
        "colab_type": "code",
        "colab": {}
      },
      "source": [
        "# parameters = {'activation': [\"relu\", \"Tanh\"],'max_iter': [1000,1100,1200,1300,1400,1500,1600,1700,1800,1900,2000 ],'hidden_layer_sizes':np.arange(5, 15),'learning_rate': [\"constant\", \"invscaling\", \"adaptive\"], 'random_state':[0,1,2,3,4,5,6,7,8,9],'warm_start':(True,False)}\n",
        "# clf = GridSearchCV(lm, parameters, n_jobs=-1)\n",
        "\n",
        "# clf.fit(X_train, y_train)\n",
        "# print(clf.best_params_)"
      ],
      "execution_count": 0,
      "outputs": []
    },
    {
      "cell_type": "code",
      "metadata": {
        "id": "GSwwkXXhMe1h",
        "colab_type": "code",
        "colab": {},
        "outputId": "908cdeae-a072-41bc-9599-4bf21588db0c"
      },
      "source": [
        "#parameters = {'C':(0.5,1,2,3,4,5,6,6.5,7.5,10)}\n",
        "#clf = GridSearchCV(lm, parameters)\n",
        "clf.fit(X_train,y_train)"
      ],
      "execution_count": 0,
      "outputs": [
        {
          "output_type": "execute_result",
          "data": {
            "text/plain": [
              "MLPClassifier(activation='relu', alpha=0.0001, batch_size='auto', beta_1=0.9,\n",
              "              beta_2=0.999, early_stopping=False, epsilon=1e-08,\n",
              "              hidden_layer_sizes=(50, 3), learning_rate='constant',\n",
              "              learning_rate_init=0.001, max_iter=1, momentum=0.9,\n",
              "              n_iter_no_change=10, nesterovs_momentum=True, power_t=0.5,\n",
              "              random_state=None, shuffle=True, solver='adam', tol=0.0001,\n",
              "              validation_fraction=0.1, verbose=False, warm_start=True)"
            ]
          },
          "metadata": {
            "tags": []
          },
          "execution_count": 56
        }
      ]
    },
    {
      "cell_type": "code",
      "metadata": {
        "scrolled": false,
        "id": "Y9-uKBn4Me1o",
        "colab_type": "code",
        "colab": {},
        "outputId": "d1cd8cda-94bc-4071-cf03-f0e16a3dfc38"
      },
      "source": [
        "y_pred = clf.predict(X_test)\n",
        "print(classification_report(y_test,y_pred))"
      ],
      "execution_count": 0,
      "outputs": [
        {
          "output_type": "stream",
          "text": [
            "                                       precision    recall  f1-score   support\n",
            "\n",
            "      anaesthetic (general) induction       0.00      0.00      0.00       670\n",
            "                 analgesic injections       0.00      0.00      0.00       444\n",
            "                    analgesic tablets       0.00      0.00      0.00       233\n",
            "                    anti emetic drugs       0.00      0.00      0.00       242\n",
            "                anti-biotic injection       0.00      0.00      0.00       441\n",
            "                  anti-biotic tablets       0.00      0.00      0.00       607\n",
            "          anti-inflammatory injection       0.00      0.00      0.00       395\n",
            "            anti-inflammatory tablets       0.00      0.00      0.00       409\n",
            "                            bandaging       0.00      0.00      0.00       144\n",
            "           blood pressure measurement       0.00      0.00      0.00        22\n",
            "                   blood sampling fee       0.00      0.00      0.00       129\n",
            "                           blood test       0.00      0.00      0.00      1387\n",
            "                    blood transfusion       0.00      0.00      0.00         7\n",
            "                        buster collar       0.00      0.00      0.00       162\n",
            "                      catheterisation       0.00      0.00      0.00       133\n",
            "                         chemotherapy       0.00      0.00      0.00        46\n",
            "                     consultation fee       0.00      0.00      0.00      1093\n",
            "                              ct scan       0.00      0.00      0.00        49\n",
            "      cushings and addisons treatment       0.00      0.00      0.00        65\n",
            " diabetes medications and consumables       0.00      0.00      0.00       143\n",
            "dispensing fees and prescription fees       0.00      0.00      0.00        25\n",
            "                            diuretics       0.00      0.00      0.00        61\n",
            "                               drapes       0.00      0.00      0.00        32\n",
            "                             dressing       0.00      0.00      0.00        80\n",
            "                         emetic drugs       0.00      0.00      0.00        10\n",
            "          epilepsy/seizure medication       0.00      0.00      0.00       115\n",
            "           equine specific treatments       0.00      0.00      0.00        14\n",
            "                           euthanasia       0.00      0.00      0.00        89\n",
            "    flea and worm treatment (routine)       0.00      0.00      0.00        47\n",
            "                               fluids       0.00      0.00      0.00       709\n",
            "                                 food       0.00      0.00      0.00       171\n",
            "         gastro-intestinal treatments       0.00      0.00      0.00       263\n",
            "                               gloves       0.00      0.00      0.00        40\n",
            "                                gowns       0.00      0.00      0.00         6\n",
            "          heart condition medications       0.00      0.00      0.00       260\n",
            "      hospitalisation (cost per hour)       0.00      0.00      0.00       418\n",
            "                injection fee (sc/im)       0.00      0.00      0.00        38\n",
            "    interpretation/examination charge       0.00      0.00      0.00        48\n",
            "           intravenous (iv) injection       0.00      0.00      0.00        64\n",
            "                      laboratory fees       0.00      0.00      0.00       824\n",
            "                      laser treatment       0.00      0.00      0.00        29\n",
            "            liver condition treatment       0.00      0.00      0.00        58\n",
            "                                  mri       0.00      0.00      0.00        26\n",
            "             non specific medications       0.00      0.00      0.00       246\n",
            "              nursing (cost per hour)       0.00      0.00      0.00        33\n",
            "    observation/maintenance fees (ga)       0.00      0.00      0.00        61\n",
            "                 ooh consultation fee       0.00      0.00      0.00        71\n",
            "                                other       0.00      0.00      0.00       392\n",
            "                        physiotherapy       0.00      0.00      0.00      1488\n",
            "     pre-medications (if invoiced as)       0.00      0.00      0.00         5\n",
            "                referral consultation       0.00      0.00      0.00        40\n",
            "                         referral fee       0.00      0.00      0.00         1\n",
            "    renal/urinary condition treatment       0.00      0.00      0.00        53\n",
            "     respiratory condition treatments       0.00      0.00      0.00        23\n",
            "                             sedation       0.00      0.00      0.00       419\n",
            "                    simple procedures       0.00      0.00      0.00        71\n",
            "             skin/allergy medications       0.00      0.00      0.00       238\n",
            "      specialist tests/investigations       0.00      0.00      0.00        54\n",
            "                    steroid injection       0.00      0.00      0.00       115\n",
            "                      steroid tablets       0.00      0.00      0.00        87\n",
            "                          supplements       0.00      0.00      0.00       117\n",
            "                    surgical sundries       0.00      0.00      0.00       151\n",
            "        surgical time (cost per hour)       0.00      0.00      0.00       448\n",
            "                      suture material       0.00      0.00      0.00       243\n",
            "           syringes (non diabetes tx)       0.00      0.00      0.00        13\n",
            " thyroid (hypo and hyper) medications       0.00      0.00      0.00        66\n",
            "              topical ear medications       0.00      0.00      0.00        67\n",
            "              topical eye medications       0.00      0.00      0.00       167\n",
            "                           ultrasound       0.09      1.00      0.17      1556\n",
            "    unable to group as no description       0.00      0.00      0.00        10\n",
            "                               x-rays       0.00      0.00      0.00       414\n",
            "\n",
            "                             accuracy                           0.09     16897\n",
            "                            macro avg       0.00      0.01      0.00     16897\n",
            "                         weighted avg       0.01      0.09      0.02     16897\n",
            "\n"
          ],
          "name": "stdout"
        }
      ]
    },
    {
      "cell_type": "code",
      "metadata": {
        "id": "wJBFfSMeMe2K",
        "colab_type": "code",
        "colab": {},
        "outputId": "cbcda99e-f877-4d13-c8e2-6b6961fb8dc8"
      },
      "source": [
        "print(f1_score(y_test,y_pred,average='micro'))\n",
        "#0.8211516837308398"
      ],
      "execution_count": 0,
      "outputs": [
        {
          "output_type": "stream",
          "text": [
            "0.0854589572113393\n"
          ],
          "name": "stdout"
        }
      ]
    },
    {
      "cell_type": "code",
      "metadata": {
        "id": "DrVqT-I6Me2V",
        "colab_type": "code",
        "colab": {},
        "outputId": "e1221dc1-9067-498e-c7fe-21b9c5ad17d9"
      },
      "source": [
        "sample.head()"
      ],
      "execution_count": 0,
      "outputs": [
        {
          "output_type": "execute_result",
          "data": {
            "text/html": [
              "<div>\n",
              "<style scoped>\n",
              "    .dataframe tbody tr th:only-of-type {\n",
              "        vertical-align: middle;\n",
              "    }\n",
              "\n",
              "    .dataframe tbody tr th {\n",
              "        vertical-align: top;\n",
              "    }\n",
              "\n",
              "    .dataframe thead th {\n",
              "        text-align: right;\n",
              "    }\n",
              "</style>\n",
              "<table border=\"1\" class=\"dataframe\">\n",
              "  <thead>\n",
              "    <tr style=\"text-align: right;\">\n",
              "      <th></th>\n",
              "      <th>ID</th>\n",
              "      <th>ItemCategory_New</th>\n",
              "    </tr>\n",
              "  </thead>\n",
              "  <tbody>\n",
              "    <tr>\n",
              "      <th>0</th>\n",
              "      <td>84485</td>\n",
              "      <td>x-rays</td>\n",
              "    </tr>\n",
              "    <tr>\n",
              "      <th>1</th>\n",
              "      <td>84486</td>\n",
              "      <td>anti-inflammatory tablets</td>\n",
              "    </tr>\n",
              "    <tr>\n",
              "      <th>2</th>\n",
              "      <td>84487</td>\n",
              "      <td>catheterisation</td>\n",
              "    </tr>\n",
              "    <tr>\n",
              "      <th>3</th>\n",
              "      <td>84488</td>\n",
              "      <td>gowns</td>\n",
              "    </tr>\n",
              "    <tr>\n",
              "      <th>4</th>\n",
              "      <td>84489</td>\n",
              "      <td>gastro-intestinal treatments</td>\n",
              "    </tr>\n",
              "  </tbody>\n",
              "</table>\n",
              "</div>"
            ],
            "text/plain": [
              "      ID              ItemCategory_New\n",
              "0  84485                        x-rays\n",
              "1  84486     anti-inflammatory tablets\n",
              "2  84487               catheterisation\n",
              "3  84488                         gowns\n",
              "4  84489  gastro-intestinal treatments"
            ]
          },
          "metadata": {
            "tags": []
          },
          "execution_count": 42
        }
      ]
    },
    {
      "cell_type": "markdown",
      "metadata": {
        "id": "k3EvdJ14Me2m",
        "colab_type": "text"
      },
      "source": [
        "## Submission"
      ]
    },
    {
      "cell_type": "code",
      "metadata": {
        "id": "ASqegiNwMe2x",
        "colab_type": "code",
        "colab": {}
      },
      "source": [
        "prediction = clf.predict(Test_data)"
      ],
      "execution_count": 0,
      "outputs": []
    },
    {
      "cell_type": "code",
      "metadata": {
        "id": "s3APAgY8Me2-",
        "colab_type": "code",
        "colab": {}
      },
      "source": [
        "sub = pd.DataFrame()"
      ],
      "execution_count": 0,
      "outputs": []
    },
    {
      "cell_type": "code",
      "metadata": {
        "id": "jh90hdXQMe3k",
        "colab_type": "code",
        "colab": {}
      },
      "source": [
        "sub['ID'] = test.ID"
      ],
      "execution_count": 0,
      "outputs": []
    },
    {
      "cell_type": "code",
      "metadata": {
        "id": "2dx4iCrgMe4B",
        "colab_type": "code",
        "colab": {}
      },
      "source": [
        "sub['ItemCategory_New'] = prediction"
      ],
      "execution_count": 0,
      "outputs": []
    },
    {
      "cell_type": "code",
      "metadata": {
        "id": "lxYLRm7ZMe47",
        "colab_type": "code",
        "colab": {},
        "outputId": "19e66c88-d8e6-42d4-924c-d07d905553bf"
      },
      "source": [
        "sub.head()"
      ],
      "execution_count": 0,
      "outputs": [
        {
          "output_type": "execute_result",
          "data": {
            "text/html": [
              "<div>\n",
              "<style scoped>\n",
              "    .dataframe tbody tr th:only-of-type {\n",
              "        vertical-align: middle;\n",
              "    }\n",
              "\n",
              "    .dataframe tbody tr th {\n",
              "        vertical-align: top;\n",
              "    }\n",
              "\n",
              "    .dataframe thead th {\n",
              "        text-align: right;\n",
              "    }\n",
              "</style>\n",
              "<table border=\"1\" class=\"dataframe\">\n",
              "  <thead>\n",
              "    <tr style=\"text-align: right;\">\n",
              "      <th></th>\n",
              "      <th>ID</th>\n",
              "      <th>ItemCategory_New</th>\n",
              "    </tr>\n",
              "  </thead>\n",
              "  <tbody>\n",
              "    <tr>\n",
              "      <th>0</th>\n",
              "      <td>84485</td>\n",
              "      <td>consultation fee</td>\n",
              "    </tr>\n",
              "    <tr>\n",
              "      <th>1</th>\n",
              "      <td>84486</td>\n",
              "      <td>blood test</td>\n",
              "    </tr>\n",
              "    <tr>\n",
              "      <th>2</th>\n",
              "      <td>84487</td>\n",
              "      <td>anti-biotic tablets</td>\n",
              "    </tr>\n",
              "    <tr>\n",
              "      <th>3</th>\n",
              "      <td>84488</td>\n",
              "      <td>physiotherapy</td>\n",
              "    </tr>\n",
              "    <tr>\n",
              "      <th>4</th>\n",
              "      <td>84489</td>\n",
              "      <td>ultrasound</td>\n",
              "    </tr>\n",
              "  </tbody>\n",
              "</table>\n",
              "</div>"
            ],
            "text/plain": [
              "      ID     ItemCategory_New\n",
              "0  84485     consultation fee\n",
              "1  84486           blood test\n",
              "2  84487  anti-biotic tablets\n",
              "3  84488        physiotherapy\n",
              "4  84489           ultrasound"
            ]
          },
          "metadata": {
            "tags": []
          },
          "execution_count": 47
        }
      ]
    },
    {
      "cell_type": "code",
      "metadata": {
        "id": "P0ek2Js6Me6z",
        "colab_type": "code",
        "colab": {}
      },
      "source": [
        "sub.to_csv('submission.csv',index=False)"
      ],
      "execution_count": 0,
      "outputs": []
    },
    {
      "cell_type": "code",
      "metadata": {
        "id": "bOCNHdl-Me7i",
        "colab_type": "code",
        "colab": {}
      },
      "source": [
        ""
      ],
      "execution_count": 0,
      "outputs": []
    }
  ]
}