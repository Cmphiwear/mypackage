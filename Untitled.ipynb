{
  "nbformat": 4,
  "nbformat_minor": 0,
  "metadata": {
    "colab": {
      "name": "Untitled.ipynb",
      "version": "0.3.2",
      "provenance": [],
      "include_colab_link": true
    },
    "language_info": {
      "codemirror_mode": {
        "name": "ipython",
        "version": 3
      },
      "file_extension": ".py",
      "mimetype": "text/x-python",
      "name": "python",
      "nbconvert_exporter": "python",
      "pygments_lexer": "ipython3",
      "version": "3.6.5"
    },
    "kernelspec": {
      "display_name": "Python 3",
      "language": "python",
      "name": "python3"
    }
  },
  "cells": [
    {
      "cell_type": "markdown",
      "metadata": {
        "id": "view-in-github",
        "colab_type": "text"
      },
      "source": [
        "<a href=\"https://colab.research.google.com/github/simied/mypackage/blob/master/Untitled.ipynb\" target=\"_parent\"><img src=\"https://colab.research.google.com/assets/colab-badge.svg\" alt=\"Open In Colab\"/></a>"
      ]
    },
    {
      "cell_type": "code",
      "metadata": {
        "id": "8cwZe2Hnu7Sx",
        "colab_type": "code",
        "colab": {}
      },
      "source": [
        "import numpy as np\n",
        "import pandas as pd \n",
        "import matplotlib.pyplot as plt\n",
        "import seaborn as sns\n",
        "%matplotlib inline\n",
        "\n",
        "from sklearn.model_selection import train_test_split\n",
        "from datetime import datetime as dt\n",
        "\n",
        "#to do some plotting\n",
        "plt.style.use(style='ggplot')\n",
        "plt.rcParams['figure.figsize'] = (10, 6)\n",
        "\n",
        "#warning disabler\n",
        "import warnings\n",
        "warnings.filterwarnings(\"ignore\")"
      ],
      "execution_count": 0,
      "outputs": []
    },
    {
      "cell_type": "code",
      "metadata": {
        "id": "9i6et6U0u7TB",
        "colab_type": "code",
        "colab": {}
      },
      "source": [
        "df_train =pd.read_csv('training.csv')\n",
        "df_test = pd.read_csv('test.csv')"
      ],
      "execution_count": 0,
      "outputs": []
    },
    {
      "cell_type": "code",
      "metadata": {
        "id": "KpOnQnxpu7TL",
        "colab_type": "code",
        "colab": {},
        "outputId": "2e8def51-790f-49c4-aba5-b52ba1dcfd03"
      },
      "source": [
        "display(df_train.shape)\n",
        "display(df_test.shape)"
      ],
      "execution_count": 0,
      "outputs": [
        {
          "output_type": "display_data",
          "data": {
            "text/plain": [
              "(95662, 16)"
            ]
          },
          "metadata": {
            "tags": []
          }
        },
        {
          "output_type": "display_data",
          "data": {
            "text/plain": [
              "(45019, 15)"
            ]
          },
          "metadata": {
            "tags": []
          }
        }
      ]
    },
    {
      "cell_type": "code",
      "metadata": {
        "id": "_9ymKVZmu7Ty",
        "colab_type": "code",
        "colab": {},
        "outputId": "8b8798b1-2ed0-4e56-d805-9603763b88ba"
      },
      "source": [
        "df_train.columns"
      ],
      "execution_count": 0,
      "outputs": [
        {
          "output_type": "execute_result",
          "data": {
            "text/plain": [
              "Index(['TransactionId', 'BatchId', 'AccountId', 'SubscriptionId', 'CustomerId',\n",
              "       'CurrencyCode', 'CountryCode', 'ProviderId', 'ProductId',\n",
              "       'ProductCategory', 'ChannelId', 'Amount', 'Value',\n",
              "       'TransactionStartTime', 'PricingStrategy', 'FraudResult'],\n",
              "      dtype='object')"
            ]
          },
          "metadata": {
            "tags": []
          },
          "execution_count": 4
        }
      ]
    },
    {
      "cell_type": "code",
      "metadata": {
        "id": "Htwxf8jru7UR",
        "colab_type": "code",
        "colab": {},
        "outputId": "a3e7ab87-ea00-40f9-90e4-b44f6e132196"
      },
      "source": [
        "df_test.columns"
      ],
      "execution_count": 0,
      "outputs": [
        {
          "output_type": "execute_result",
          "data": {
            "text/plain": [
              "Index(['TransactionId', 'BatchId', 'AccountId', 'SubscriptionId', 'CustomerId',\n",
              "       'CurrencyCode', 'CountryCode', 'ProviderId', 'ProductId',\n",
              "       'ProductCategory', 'ChannelId', 'Amount', 'Value',\n",
              "       'TransactionStartTime', 'PricingStrategy'],\n",
              "      dtype='object')"
            ]
          },
          "metadata": {
            "tags": []
          },
          "execution_count": 5
        }
      ]
    },
    {
      "cell_type": "code",
      "metadata": {
        "id": "2fBm2JfYu7Uf",
        "colab_type": "code",
        "colab": {},
        "outputId": "2d0ac13c-e3d3-44f3-b000-9c1d9ab836d7"
      },
      "source": [
        "df_train.head()"
      ],
      "execution_count": 0,
      "outputs": [
        {
          "output_type": "execute_result",
          "data": {
            "text/html": [
              "<div>\n",
              "<style scoped>\n",
              "    .dataframe tbody tr th:only-of-type {\n",
              "        vertical-align: middle;\n",
              "    }\n",
              "\n",
              "    .dataframe tbody tr th {\n",
              "        vertical-align: top;\n",
              "    }\n",
              "\n",
              "    .dataframe thead th {\n",
              "        text-align: right;\n",
              "    }\n",
              "</style>\n",
              "<table border=\"1\" class=\"dataframe\">\n",
              "  <thead>\n",
              "    <tr style=\"text-align: right;\">\n",
              "      <th></th>\n",
              "      <th>TransactionId</th>\n",
              "      <th>BatchId</th>\n",
              "      <th>AccountId</th>\n",
              "      <th>SubscriptionId</th>\n",
              "      <th>CustomerId</th>\n",
              "      <th>CurrencyCode</th>\n",
              "      <th>CountryCode</th>\n",
              "      <th>ProviderId</th>\n",
              "      <th>ProductId</th>\n",
              "      <th>ProductCategory</th>\n",
              "      <th>ChannelId</th>\n",
              "      <th>Amount</th>\n",
              "      <th>Value</th>\n",
              "      <th>TransactionStartTime</th>\n",
              "      <th>PricingStrategy</th>\n",
              "      <th>FraudResult</th>\n",
              "    </tr>\n",
              "  </thead>\n",
              "  <tbody>\n",
              "    <tr>\n",
              "      <th>0</th>\n",
              "      <td>TransactionId_76871</td>\n",
              "      <td>BatchId_36123</td>\n",
              "      <td>AccountId_3957</td>\n",
              "      <td>SubscriptionId_887</td>\n",
              "      <td>CustomerId_4406</td>\n",
              "      <td>UGX</td>\n",
              "      <td>256</td>\n",
              "      <td>ProviderId_6</td>\n",
              "      <td>ProductId_10</td>\n",
              "      <td>airtime</td>\n",
              "      <td>ChannelId_3</td>\n",
              "      <td>1000.0</td>\n",
              "      <td>1000</td>\n",
              "      <td>2018-11-15T02:18:49Z</td>\n",
              "      <td>2</td>\n",
              "      <td>0</td>\n",
              "    </tr>\n",
              "    <tr>\n",
              "      <th>1</th>\n",
              "      <td>TransactionId_73770</td>\n",
              "      <td>BatchId_15642</td>\n",
              "      <td>AccountId_4841</td>\n",
              "      <td>SubscriptionId_3829</td>\n",
              "      <td>CustomerId_4406</td>\n",
              "      <td>UGX</td>\n",
              "      <td>256</td>\n",
              "      <td>ProviderId_4</td>\n",
              "      <td>ProductId_6</td>\n",
              "      <td>financial_services</td>\n",
              "      <td>ChannelId_2</td>\n",
              "      <td>-20.0</td>\n",
              "      <td>20</td>\n",
              "      <td>2018-11-15T02:19:08Z</td>\n",
              "      <td>2</td>\n",
              "      <td>0</td>\n",
              "    </tr>\n",
              "    <tr>\n",
              "      <th>2</th>\n",
              "      <td>TransactionId_26203</td>\n",
              "      <td>BatchId_53941</td>\n",
              "      <td>AccountId_4229</td>\n",
              "      <td>SubscriptionId_222</td>\n",
              "      <td>CustomerId_4683</td>\n",
              "      <td>UGX</td>\n",
              "      <td>256</td>\n",
              "      <td>ProviderId_6</td>\n",
              "      <td>ProductId_1</td>\n",
              "      <td>airtime</td>\n",
              "      <td>ChannelId_3</td>\n",
              "      <td>500.0</td>\n",
              "      <td>500</td>\n",
              "      <td>2018-11-15T02:44:21Z</td>\n",
              "      <td>2</td>\n",
              "      <td>0</td>\n",
              "    </tr>\n",
              "    <tr>\n",
              "      <th>3</th>\n",
              "      <td>TransactionId_380</td>\n",
              "      <td>BatchId_102363</td>\n",
              "      <td>AccountId_648</td>\n",
              "      <td>SubscriptionId_2185</td>\n",
              "      <td>CustomerId_988</td>\n",
              "      <td>UGX</td>\n",
              "      <td>256</td>\n",
              "      <td>ProviderId_1</td>\n",
              "      <td>ProductId_21</td>\n",
              "      <td>utility_bill</td>\n",
              "      <td>ChannelId_3</td>\n",
              "      <td>20000.0</td>\n",
              "      <td>21800</td>\n",
              "      <td>2018-11-15T03:32:55Z</td>\n",
              "      <td>2</td>\n",
              "      <td>0</td>\n",
              "    </tr>\n",
              "    <tr>\n",
              "      <th>4</th>\n",
              "      <td>TransactionId_28195</td>\n",
              "      <td>BatchId_38780</td>\n",
              "      <td>AccountId_4841</td>\n",
              "      <td>SubscriptionId_3829</td>\n",
              "      <td>CustomerId_988</td>\n",
              "      <td>UGX</td>\n",
              "      <td>256</td>\n",
              "      <td>ProviderId_4</td>\n",
              "      <td>ProductId_6</td>\n",
              "      <td>financial_services</td>\n",
              "      <td>ChannelId_2</td>\n",
              "      <td>-644.0</td>\n",
              "      <td>644</td>\n",
              "      <td>2018-11-15T03:34:21Z</td>\n",
              "      <td>2</td>\n",
              "      <td>0</td>\n",
              "    </tr>\n",
              "  </tbody>\n",
              "</table>\n",
              "</div>"
            ],
            "text/plain": [
              "         TransactionId         BatchId       AccountId       SubscriptionId  \\\n",
              "0  TransactionId_76871   BatchId_36123  AccountId_3957   SubscriptionId_887   \n",
              "1  TransactionId_73770   BatchId_15642  AccountId_4841  SubscriptionId_3829   \n",
              "2  TransactionId_26203   BatchId_53941  AccountId_4229   SubscriptionId_222   \n",
              "3    TransactionId_380  BatchId_102363   AccountId_648  SubscriptionId_2185   \n",
              "4  TransactionId_28195   BatchId_38780  AccountId_4841  SubscriptionId_3829   \n",
              "\n",
              "        CustomerId CurrencyCode  CountryCode    ProviderId     ProductId  \\\n",
              "0  CustomerId_4406          UGX          256  ProviderId_6  ProductId_10   \n",
              "1  CustomerId_4406          UGX          256  ProviderId_4   ProductId_6   \n",
              "2  CustomerId_4683          UGX          256  ProviderId_6   ProductId_1   \n",
              "3   CustomerId_988          UGX          256  ProviderId_1  ProductId_21   \n",
              "4   CustomerId_988          UGX          256  ProviderId_4   ProductId_6   \n",
              "\n",
              "      ProductCategory    ChannelId   Amount  Value  TransactionStartTime  \\\n",
              "0             airtime  ChannelId_3   1000.0   1000  2018-11-15T02:18:49Z   \n",
              "1  financial_services  ChannelId_2    -20.0     20  2018-11-15T02:19:08Z   \n",
              "2             airtime  ChannelId_3    500.0    500  2018-11-15T02:44:21Z   \n",
              "3        utility_bill  ChannelId_3  20000.0  21800  2018-11-15T03:32:55Z   \n",
              "4  financial_services  ChannelId_2   -644.0    644  2018-11-15T03:34:21Z   \n",
              "\n",
              "   PricingStrategy  FraudResult  \n",
              "0                2            0  \n",
              "1                2            0  \n",
              "2                2            0  \n",
              "3                2            0  \n",
              "4                2            0  "
            ]
          },
          "metadata": {
            "tags": []
          },
          "execution_count": 6
        }
      ]
    },
    {
      "cell_type": "code",
      "metadata": {
        "id": "vTkJ15hJu7Ut",
        "colab_type": "code",
        "colab": {},
        "outputId": "85a11602-fbbf-4249-ecae-1ac56bf694ee"
      },
      "source": [
        "df_test.head()"
      ],
      "execution_count": 0,
      "outputs": [
        {
          "output_type": "execute_result",
          "data": {
            "text/html": [
              "<div>\n",
              "<style scoped>\n",
              "    .dataframe tbody tr th:only-of-type {\n",
              "        vertical-align: middle;\n",
              "    }\n",
              "\n",
              "    .dataframe tbody tr th {\n",
              "        vertical-align: top;\n",
              "    }\n",
              "\n",
              "    .dataframe thead th {\n",
              "        text-align: right;\n",
              "    }\n",
              "</style>\n",
              "<table border=\"1\" class=\"dataframe\">\n",
              "  <thead>\n",
              "    <tr style=\"text-align: right;\">\n",
              "      <th></th>\n",
              "      <th>TransactionId</th>\n",
              "      <th>BatchId</th>\n",
              "      <th>AccountId</th>\n",
              "      <th>SubscriptionId</th>\n",
              "      <th>CustomerId</th>\n",
              "      <th>CurrencyCode</th>\n",
              "      <th>CountryCode</th>\n",
              "      <th>ProviderId</th>\n",
              "      <th>ProductId</th>\n",
              "      <th>ProductCategory</th>\n",
              "      <th>ChannelId</th>\n",
              "      <th>Amount</th>\n",
              "      <th>Value</th>\n",
              "      <th>TransactionStartTime</th>\n",
              "      <th>PricingStrategy</th>\n",
              "    </tr>\n",
              "  </thead>\n",
              "  <tbody>\n",
              "    <tr>\n",
              "      <th>0</th>\n",
              "      <td>TransactionId_50600</td>\n",
              "      <td>BatchId_35028</td>\n",
              "      <td>AccountId_2441</td>\n",
              "      <td>SubscriptionId_4426</td>\n",
              "      <td>CustomerId_2857</td>\n",
              "      <td>UGX</td>\n",
              "      <td>256</td>\n",
              "      <td>ProviderId_5</td>\n",
              "      <td>ProductId_3</td>\n",
              "      <td>airtime</td>\n",
              "      <td>ChannelId_3</td>\n",
              "      <td>1000.0</td>\n",
              "      <td>1000</td>\n",
              "      <td>2019-02-13T10:01:40Z</td>\n",
              "      <td>4</td>\n",
              "    </tr>\n",
              "    <tr>\n",
              "      <th>1</th>\n",
              "      <td>TransactionId_95109</td>\n",
              "      <td>BatchId_45139</td>\n",
              "      <td>AccountId_3439</td>\n",
              "      <td>SubscriptionId_2643</td>\n",
              "      <td>CustomerId_3874</td>\n",
              "      <td>UGX</td>\n",
              "      <td>256</td>\n",
              "      <td>ProviderId_5</td>\n",
              "      <td>ProductId_15</td>\n",
              "      <td>financial_services</td>\n",
              "      <td>ChannelId_3</td>\n",
              "      <td>2000.0</td>\n",
              "      <td>2000</td>\n",
              "      <td>2019-02-13T10:02:12Z</td>\n",
              "      <td>2</td>\n",
              "    </tr>\n",
              "    <tr>\n",
              "      <th>2</th>\n",
              "      <td>TransactionId_47357</td>\n",
              "      <td>BatchId_74887</td>\n",
              "      <td>AccountId_4841</td>\n",
              "      <td>SubscriptionId_3829</td>\n",
              "      <td>CustomerId_2857</td>\n",
              "      <td>UGX</td>\n",
              "      <td>256</td>\n",
              "      <td>ProviderId_4</td>\n",
              "      <td>ProductId_6</td>\n",
              "      <td>financial_services</td>\n",
              "      <td>ChannelId_2</td>\n",
              "      <td>-50.0</td>\n",
              "      <td>50</td>\n",
              "      <td>2019-02-13T10:02:30Z</td>\n",
              "      <td>2</td>\n",
              "    </tr>\n",
              "    <tr>\n",
              "      <th>3</th>\n",
              "      <td>TransactionId_28185</td>\n",
              "      <td>BatchId_11025</td>\n",
              "      <td>AccountId_2685</td>\n",
              "      <td>SubscriptionId_4626</td>\n",
              "      <td>CustomerId_3105</td>\n",
              "      <td>UGX</td>\n",
              "      <td>256</td>\n",
              "      <td>ProviderId_5</td>\n",
              "      <td>ProductId_10</td>\n",
              "      <td>airtime</td>\n",
              "      <td>ChannelId_3</td>\n",
              "      <td>3000.0</td>\n",
              "      <td>3000</td>\n",
              "      <td>2019-02-13T10:02:38Z</td>\n",
              "      <td>4</td>\n",
              "    </tr>\n",
              "    <tr>\n",
              "      <th>4</th>\n",
              "      <td>TransactionId_22140</td>\n",
              "      <td>BatchId_29804</td>\n",
              "      <td>AccountId_4841</td>\n",
              "      <td>SubscriptionId_3829</td>\n",
              "      <td>CustomerId_3105</td>\n",
              "      <td>UGX</td>\n",
              "      <td>256</td>\n",
              "      <td>ProviderId_4</td>\n",
              "      <td>ProductId_6</td>\n",
              "      <td>financial_services</td>\n",
              "      <td>ChannelId_2</td>\n",
              "      <td>-60.0</td>\n",
              "      <td>60</td>\n",
              "      <td>2019-02-13T10:02:58Z</td>\n",
              "      <td>2</td>\n",
              "    </tr>\n",
              "  </tbody>\n",
              "</table>\n",
              "</div>"
            ],
            "text/plain": [
              "         TransactionId        BatchId       AccountId       SubscriptionId  \\\n",
              "0  TransactionId_50600  BatchId_35028  AccountId_2441  SubscriptionId_4426   \n",
              "1  TransactionId_95109  BatchId_45139  AccountId_3439  SubscriptionId_2643   \n",
              "2  TransactionId_47357  BatchId_74887  AccountId_4841  SubscriptionId_3829   \n",
              "3  TransactionId_28185  BatchId_11025  AccountId_2685  SubscriptionId_4626   \n",
              "4  TransactionId_22140  BatchId_29804  AccountId_4841  SubscriptionId_3829   \n",
              "\n",
              "        CustomerId CurrencyCode  CountryCode    ProviderId     ProductId  \\\n",
              "0  CustomerId_2857          UGX          256  ProviderId_5   ProductId_3   \n",
              "1  CustomerId_3874          UGX          256  ProviderId_5  ProductId_15   \n",
              "2  CustomerId_2857          UGX          256  ProviderId_4   ProductId_6   \n",
              "3  CustomerId_3105          UGX          256  ProviderId_5  ProductId_10   \n",
              "4  CustomerId_3105          UGX          256  ProviderId_4   ProductId_6   \n",
              "\n",
              "      ProductCategory    ChannelId  Amount  Value  TransactionStartTime  \\\n",
              "0             airtime  ChannelId_3  1000.0   1000  2019-02-13T10:01:40Z   \n",
              "1  financial_services  ChannelId_3  2000.0   2000  2019-02-13T10:02:12Z   \n",
              "2  financial_services  ChannelId_2   -50.0     50  2019-02-13T10:02:30Z   \n",
              "3             airtime  ChannelId_3  3000.0   3000  2019-02-13T10:02:38Z   \n",
              "4  financial_services  ChannelId_2   -60.0     60  2019-02-13T10:02:58Z   \n",
              "\n",
              "   PricingStrategy  \n",
              "0                4  \n",
              "1                2  \n",
              "2                2  \n",
              "3                4  \n",
              "4                2  "
            ]
          },
          "metadata": {
            "tags": []
          },
          "execution_count": 7
        }
      ]
    },
    {
      "cell_type": "code",
      "metadata": {
        "id": "Z6DwBuGTu7U8",
        "colab_type": "code",
        "colab": {},
        "outputId": "cef1f819-4e04-41d0-e1e2-57193363b029"
      },
      "source": [
        "df_train['FraudResult'].describe()"
      ],
      "execution_count": 0,
      "outputs": [
        {
          "output_type": "execute_result",
          "data": {
            "text/plain": [
              "count    95662.000000\n",
              "mean         0.002018\n",
              "std          0.044872\n",
              "min          0.000000\n",
              "25%          0.000000\n",
              "50%          0.000000\n",
              "75%          0.000000\n",
              "max          1.000000\n",
              "Name: FraudResult, dtype: float64"
            ]
          },
          "metadata": {
            "tags": []
          },
          "execution_count": 8
        }
      ]
    },
    {
      "cell_type": "code",
      "metadata": {
        "id": "Doz1-zuau7VM",
        "colab_type": "code",
        "colab": {},
        "outputId": "941111d5-40e4-4047-8025-6bcbaf23ab3d"
      },
      "source": [
        "df_train['FraudResult'].value_counts()"
      ],
      "execution_count": 0,
      "outputs": [
        {
          "output_type": "execute_result",
          "data": {
            "text/plain": [
              "0    95469\n",
              "1      193\n",
              "Name: FraudResult, dtype: int64"
            ]
          },
          "metadata": {
            "tags": []
          },
          "execution_count": 9
        }
      ]
    },
    {
      "cell_type": "code",
      "metadata": {
        "id": "XYlUmcV6u7Vg",
        "colab_type": "code",
        "colab": {},
        "outputId": "c558fd8b-9df6-48d8-8f15-722df36e736d"
      },
      "source": [
        "df_train.describe()"
      ],
      "execution_count": 0,
      "outputs": [
        {
          "output_type": "execute_result",
          "data": {
            "text/html": [
              "<div>\n",
              "<style scoped>\n",
              "    .dataframe tbody tr th:only-of-type {\n",
              "        vertical-align: middle;\n",
              "    }\n",
              "\n",
              "    .dataframe tbody tr th {\n",
              "        vertical-align: top;\n",
              "    }\n",
              "\n",
              "    .dataframe thead th {\n",
              "        text-align: right;\n",
              "    }\n",
              "</style>\n",
              "<table border=\"1\" class=\"dataframe\">\n",
              "  <thead>\n",
              "    <tr style=\"text-align: right;\">\n",
              "      <th></th>\n",
              "      <th>CountryCode</th>\n",
              "      <th>Amount</th>\n",
              "      <th>Value</th>\n",
              "      <th>PricingStrategy</th>\n",
              "      <th>FraudResult</th>\n",
              "    </tr>\n",
              "  </thead>\n",
              "  <tbody>\n",
              "    <tr>\n",
              "      <th>count</th>\n",
              "      <td>95662.0</td>\n",
              "      <td>9.566200e+04</td>\n",
              "      <td>9.566200e+04</td>\n",
              "      <td>95662.000000</td>\n",
              "      <td>95662.000000</td>\n",
              "    </tr>\n",
              "    <tr>\n",
              "      <th>mean</th>\n",
              "      <td>256.0</td>\n",
              "      <td>6.717846e+03</td>\n",
              "      <td>9.900584e+03</td>\n",
              "      <td>2.255974</td>\n",
              "      <td>0.002018</td>\n",
              "    </tr>\n",
              "    <tr>\n",
              "      <th>std</th>\n",
              "      <td>0.0</td>\n",
              "      <td>1.233068e+05</td>\n",
              "      <td>1.231221e+05</td>\n",
              "      <td>0.732924</td>\n",
              "      <td>0.044872</td>\n",
              "    </tr>\n",
              "    <tr>\n",
              "      <th>min</th>\n",
              "      <td>256.0</td>\n",
              "      <td>-1.000000e+06</td>\n",
              "      <td>2.000000e+00</td>\n",
              "      <td>0.000000</td>\n",
              "      <td>0.000000</td>\n",
              "    </tr>\n",
              "    <tr>\n",
              "      <th>25%</th>\n",
              "      <td>256.0</td>\n",
              "      <td>-5.000000e+01</td>\n",
              "      <td>2.750000e+02</td>\n",
              "      <td>2.000000</td>\n",
              "      <td>0.000000</td>\n",
              "    </tr>\n",
              "    <tr>\n",
              "      <th>50%</th>\n",
              "      <td>256.0</td>\n",
              "      <td>1.000000e+03</td>\n",
              "      <td>1.000000e+03</td>\n",
              "      <td>2.000000</td>\n",
              "      <td>0.000000</td>\n",
              "    </tr>\n",
              "    <tr>\n",
              "      <th>75%</th>\n",
              "      <td>256.0</td>\n",
              "      <td>2.800000e+03</td>\n",
              "      <td>5.000000e+03</td>\n",
              "      <td>2.000000</td>\n",
              "      <td>0.000000</td>\n",
              "    </tr>\n",
              "    <tr>\n",
              "      <th>max</th>\n",
              "      <td>256.0</td>\n",
              "      <td>9.880000e+06</td>\n",
              "      <td>9.880000e+06</td>\n",
              "      <td>4.000000</td>\n",
              "      <td>1.000000</td>\n",
              "    </tr>\n",
              "  </tbody>\n",
              "</table>\n",
              "</div>"
            ],
            "text/plain": [
              "       CountryCode        Amount         Value  PricingStrategy   FraudResult\n",
              "count      95662.0  9.566200e+04  9.566200e+04     95662.000000  95662.000000\n",
              "mean         256.0  6.717846e+03  9.900584e+03         2.255974      0.002018\n",
              "std            0.0  1.233068e+05  1.231221e+05         0.732924      0.044872\n",
              "min          256.0 -1.000000e+06  2.000000e+00         0.000000      0.000000\n",
              "25%          256.0 -5.000000e+01  2.750000e+02         2.000000      0.000000\n",
              "50%          256.0  1.000000e+03  1.000000e+03         2.000000      0.000000\n",
              "75%          256.0  2.800000e+03  5.000000e+03         2.000000      0.000000\n",
              "max          256.0  9.880000e+06  9.880000e+06         4.000000      1.000000"
            ]
          },
          "metadata": {
            "tags": []
          },
          "execution_count": 10
        }
      ]
    },
    {
      "cell_type": "code",
      "metadata": {
        "id": "g81L5VULu7Vw",
        "colab_type": "code",
        "colab": {},
        "outputId": "14740c72-825e-45ce-e1fc-5f071d34e5ce"
      },
      "source": [
        "df_test.describe()"
      ],
      "execution_count": 0,
      "outputs": [
        {
          "output_type": "execute_result",
          "data": {
            "text/html": [
              "<div>\n",
              "<style scoped>\n",
              "    .dataframe tbody tr th:only-of-type {\n",
              "        vertical-align: middle;\n",
              "    }\n",
              "\n",
              "    .dataframe tbody tr th {\n",
              "        vertical-align: top;\n",
              "    }\n",
              "\n",
              "    .dataframe thead th {\n",
              "        text-align: right;\n",
              "    }\n",
              "</style>\n",
              "<table border=\"1\" class=\"dataframe\">\n",
              "  <thead>\n",
              "    <tr style=\"text-align: right;\">\n",
              "      <th></th>\n",
              "      <th>CountryCode</th>\n",
              "      <th>Amount</th>\n",
              "      <th>Value</th>\n",
              "      <th>PricingStrategy</th>\n",
              "    </tr>\n",
              "  </thead>\n",
              "  <tbody>\n",
              "    <tr>\n",
              "      <th>count</th>\n",
              "      <td>45019.0</td>\n",
              "      <td>4.501900e+04</td>\n",
              "      <td>4.501900e+04</td>\n",
              "      <td>45019.000000</td>\n",
              "    </tr>\n",
              "    <tr>\n",
              "      <th>mean</th>\n",
              "      <td>256.0</td>\n",
              "      <td>4.632681e+03</td>\n",
              "      <td>1.030034e+04</td>\n",
              "      <td>2.260646</td>\n",
              "    </tr>\n",
              "    <tr>\n",
              "      <th>std</th>\n",
              "      <td>0.0</td>\n",
              "      <td>9.613215e+04</td>\n",
              "      <td>9.571010e+04</td>\n",
              "      <td>0.739666</td>\n",
              "    </tr>\n",
              "    <tr>\n",
              "      <th>min</th>\n",
              "      <td>256.0</td>\n",
              "      <td>-2.500000e+06</td>\n",
              "      <td>2.000000e+00</td>\n",
              "      <td>0.000000</td>\n",
              "    </tr>\n",
              "    <tr>\n",
              "      <th>25%</th>\n",
              "      <td>256.0</td>\n",
              "      <td>-5.000000e+01</td>\n",
              "      <td>5.000000e+02</td>\n",
              "      <td>2.000000</td>\n",
              "    </tr>\n",
              "    <tr>\n",
              "      <th>50%</th>\n",
              "      <td>256.0</td>\n",
              "      <td>1.000000e+03</td>\n",
              "      <td>1.200000e+03</td>\n",
              "      <td>2.000000</td>\n",
              "    </tr>\n",
              "    <tr>\n",
              "      <th>75%</th>\n",
              "      <td>256.0</td>\n",
              "      <td>5.000000e+03</td>\n",
              "      <td>5.200000e+03</td>\n",
              "      <td>2.000000</td>\n",
              "    </tr>\n",
              "    <tr>\n",
              "      <th>max</th>\n",
              "      <td>256.0</td>\n",
              "      <td>9.500000e+06</td>\n",
              "      <td>9.500000e+06</td>\n",
              "      <td>4.000000</td>\n",
              "    </tr>\n",
              "  </tbody>\n",
              "</table>\n",
              "</div>"
            ],
            "text/plain": [
              "       CountryCode        Amount         Value  PricingStrategy\n",
              "count      45019.0  4.501900e+04  4.501900e+04     45019.000000\n",
              "mean         256.0  4.632681e+03  1.030034e+04         2.260646\n",
              "std            0.0  9.613215e+04  9.571010e+04         0.739666\n",
              "min          256.0 -2.500000e+06  2.000000e+00         0.000000\n",
              "25%          256.0 -5.000000e+01  5.000000e+02         2.000000\n",
              "50%          256.0  1.000000e+03  1.200000e+03         2.000000\n",
              "75%          256.0  5.000000e+03  5.200000e+03         2.000000\n",
              "max          256.0  9.500000e+06  9.500000e+06         4.000000"
            ]
          },
          "metadata": {
            "tags": []
          },
          "execution_count": 11
        }
      ]
    },
    {
      "cell_type": "code",
      "metadata": {
        "id": "HW3M3WC9u7V_",
        "colab_type": "code",
        "colab": {},
        "outputId": "3f4fa2b1-dfaa-4442-87f9-8d5e3b5c025b"
      },
      "source": [
        "print('skewness: ', df_train.FraudResult.skew())"
      ],
      "execution_count": 0,
      "outputs": [
        {
          "output_type": "stream",
          "text": [
            "skewness:  22.196294806589147\n"
          ],
          "name": "stdout"
        }
      ]
    },
    {
      "cell_type": "code",
      "metadata": {
        "id": "C3pwPgUOu7WK",
        "colab_type": "code",
        "colab": {},
        "outputId": "817b9b8d-cd0b-496d-c184-6c90fa07b890"
      },
      "source": [
        "plt.hist(df_train.FraudResult, color='blue')\n",
        "plt.show()"
      ],
      "execution_count": 0,
      "outputs": [
        {
          "output_type": "display_data",
          "data": {
            "image/png": "[encoded data removed]",
            "text/plain": [
              "<Figure size 432x288 with 1 Axes>"
            ]
          },
          "metadata": {
            "tags": []
          }
        }
      ]
    },
    {
      "cell_type": "code",
      "metadata": {
        "id": "pwgmnnH0u7WY",
        "colab_type": "code",
        "colab": {},
        "outputId": "0d4bcb0e-5907-465a-e9ad-7209a7cbb266"
      },
      "source": [
        "df_train.corr().head()"
      ],
      "execution_count": 0,
      "outputs": [
        {
          "output_type": "execute_result",
          "data": {
            "text/html": [
              "<div>\n",
              "<style scoped>\n",
              "    .dataframe tbody tr th:only-of-type {\n",
              "        vertical-align: middle;\n",
              "    }\n",
              "\n",
              "    .dataframe tbody tr th {\n",
              "        vertical-align: top;\n",
              "    }\n",
              "\n",
              "    .dataframe thead th {\n",
              "        text-align: right;\n",
              "    }\n",
              "</style>\n",
              "<table border=\"1\" class=\"dataframe\">\n",
              "  <thead>\n",
              "    <tr style=\"text-align: right;\">\n",
              "      <th></th>\n",
              "      <th>CountryCode</th>\n",
              "      <th>Amount</th>\n",
              "      <th>Value</th>\n",
              "      <th>PricingStrategy</th>\n",
              "      <th>FraudResult</th>\n",
              "    </tr>\n",
              "  </thead>\n",
              "  <tbody>\n",
              "    <tr>\n",
              "      <th>CountryCode</th>\n",
              "      <td>NaN</td>\n",
              "      <td>NaN</td>\n",
              "      <td>NaN</td>\n",
              "      <td>NaN</td>\n",
              "      <td>NaN</td>\n",
              "    </tr>\n",
              "    <tr>\n",
              "      <th>Amount</th>\n",
              "      <td>NaN</td>\n",
              "      <td>1.000000</td>\n",
              "      <td>0.989692</td>\n",
              "      <td>-0.061931</td>\n",
              "      <td>0.557370</td>\n",
              "    </tr>\n",
              "    <tr>\n",
              "      <th>Value</th>\n",
              "      <td>NaN</td>\n",
              "      <td>0.989692</td>\n",
              "      <td>1.000000</td>\n",
              "      <td>-0.017020</td>\n",
              "      <td>0.566739</td>\n",
              "    </tr>\n",
              "    <tr>\n",
              "      <th>PricingStrategy</th>\n",
              "      <td>NaN</td>\n",
              "      <td>-0.061931</td>\n",
              "      <td>-0.017020</td>\n",
              "      <td>1.000000</td>\n",
              "      <td>-0.033821</td>\n",
              "    </tr>\n",
              "    <tr>\n",
              "      <th>FraudResult</th>\n",
              "      <td>NaN</td>\n",
              "      <td>0.557370</td>\n",
              "      <td>0.566739</td>\n",
              "      <td>-0.033821</td>\n",
              "      <td>1.000000</td>\n",
              "    </tr>\n",
              "  </tbody>\n",
              "</table>\n",
              "</div>"
            ],
            "text/plain": [
              "                 CountryCode    Amount     Value  PricingStrategy  FraudResult\n",
              "CountryCode              NaN       NaN       NaN              NaN          NaN\n",
              "Amount                   NaN  1.000000  0.989692        -0.061931     0.557370\n",
              "Value                    NaN  0.989692  1.000000        -0.017020     0.566739\n",
              "PricingStrategy          NaN -0.061931 -0.017020         1.000000    -0.033821\n",
              "FraudResult              NaN  0.557370  0.566739        -0.033821     1.000000"
            ]
          },
          "metadata": {
            "tags": []
          },
          "execution_count": 14
        }
      ]
    },
    {
      "cell_type": "code",
      "metadata": {
        "id": "0OyNdGnYu7Wy",
        "colab_type": "code",
        "colab": {},
        "outputId": "676f2a2a-8ca3-4440-f0b1-76d4c4003fe5"
      },
      "source": [
        "# return a subset of columns matching the specified data types\n",
        "numeric_features = df_train.select_dtypes(include=[np.number])\n",
        "\n",
        "# displays the correlation between the columns and examine the correlations between the features and the target.\n",
        "corr = numeric_features.corr()\n",
        "\n",
        "# The first five features are the most positively correlated with SalePrice, while the next five are the most negatively correlated.\n",
        "print (corr['FraudResult'].sort_values(ascending=False))"
      ],
      "execution_count": 0,
      "outputs": [
        {
          "output_type": "stream",
          "text": [
            "FraudResult        1.000000\n",
            "Value              0.566739\n",
            "Amount             0.557370\n",
            "PricingStrategy   -0.033821\n",
            "CountryCode             NaN\n",
            "Name: FraudResult, dtype: float64\n"
          ],
          "name": "stdout"
        }
      ]
    },
    {
      "cell_type": "markdown",
      "metadata": {
        "id": "uNDmKF1Au7Xd",
        "colab_type": "text"
      },
      "source": [
        "## Combined"
      ]
    },
    {
      "cell_type": "code",
      "metadata": {
        "id": "SszOJ1B2u7Xm",
        "colab_type": "code",
        "colab": {}
      },
      "source": [
        "df = pd.concat([df_train,df_test],axis=0)"
      ],
      "execution_count": 0,
      "outputs": []
    },
    {
      "cell_type": "code",
      "metadata": {
        "id": "-sOqcD9su7Xz",
        "colab_type": "code",
        "colab": {}
      },
      "source": [
        "df['Enc_TransactionId']=df.TransactionId.str.extract('(\\d+)').apply(pd.to_numeric)\n",
        "df['Enc_BatchId']=df.BatchId.str.extract('(\\d+)').apply(pd.to_numeric)\n",
        "df['Enc_AccountId']=df.AccountId.str.extract('(\\d+)').apply(pd.to_numeric)\n",
        "df['Enc_SubscriptionId']=df.SubscriptionId.str.extract('(\\d+)').apply(pd.to_numeric)\n",
        "df['Enc_CustomerId']=df.CustomerId.str.extract('(\\d+)').apply(pd.to_numeric)\n",
        "df['Enc_ProviderId']=df.ProviderId.str.extract('(\\d+)').apply(pd.to_numeric)\n",
        "df['Enc_ProductId']=df.ProductId.str.extract('(\\d+)').apply(pd.to_numeric)"
      ],
      "execution_count": 0,
      "outputs": []
    },
    {
      "cell_type": "code",
      "metadata": {
        "id": "EodT2_AMu7YK",
        "colab_type": "code",
        "colab": {}
      },
      "source": [
        "## date encoding\n",
        "df['TransactionStartTime'] = pd.to_datetime(df['TransactionStartTime'])\n",
        "df['Enc_TransactionStartTime']= df['TransactionStartTime'].apply(lambda x:x.strftime('%Y%m'))"
      ],
      "execution_count": 0,
      "outputs": []
    },
    {
      "cell_type": "code",
      "metadata": {
        "id": "mNhzj3YAu7YX",
        "colab_type": "code",
        "colab": {}
      },
      "source": [
        "df = df.drop(['TransactionId','BatchId','AccountId','SubscriptionId','CustomerId','ProviderId','ProductId','TransactionStartTime'],axis=1)"
      ],
      "execution_count": 0,
      "outputs": []
    },
    {
      "cell_type": "code",
      "metadata": {
        "id": "DcvXvRHIu7ZL",
        "colab_type": "code",
        "colab": {},
        "outputId": "8b714440-4149-4e31-d4b9-4e428f8f1f01"
      },
      "source": [
        "df.head()"
      ],
      "execution_count": 0,
      "outputs": [
        {
          "output_type": "execute_result",
          "data": {
            "text/html": [
              "<div>\n",
              "<style scoped>\n",
              "    .dataframe tbody tr th:only-of-type {\n",
              "        vertical-align: middle;\n",
              "    }\n",
              "\n",
              "    .dataframe tbody tr th {\n",
              "        vertical-align: top;\n",
              "    }\n",
              "\n",
              "    .dataframe thead th {\n",
              "        text-align: right;\n",
              "    }\n",
              "</style>\n",
              "<table border=\"1\" class=\"dataframe\">\n",
              "  <thead>\n",
              "    <tr style=\"text-align: right;\">\n",
              "      <th></th>\n",
              "      <th>Amount</th>\n",
              "      <th>ChannelId</th>\n",
              "      <th>CountryCode</th>\n",
              "      <th>CurrencyCode</th>\n",
              "      <th>FraudResult</th>\n",
              "      <th>PricingStrategy</th>\n",
              "      <th>ProductCategory</th>\n",
              "      <th>Value</th>\n",
              "      <th>Enc_TransactionId</th>\n",
              "      <th>Enc_BatchId</th>\n",
              "      <th>Enc_AccountId</th>\n",
              "      <th>Enc_SubscriptionId</th>\n",
              "      <th>Enc_CustomerId</th>\n",
              "      <th>Enc_ProviderId</th>\n",
              "      <th>Enc_ProductId</th>\n",
              "      <th>Enc_TransactionStartTime</th>\n",
              "    </tr>\n",
              "  </thead>\n",
              "  <tbody>\n",
              "    <tr>\n",
              "      <th>0</th>\n",
              "      <td>1000.0</td>\n",
              "      <td>ChannelId_3</td>\n",
              "      <td>256</td>\n",
              "      <td>UGX</td>\n",
              "      <td>0.0</td>\n",
              "      <td>2</td>\n",
              "      <td>airtime</td>\n",
              "      <td>1000</td>\n",
              "      <td>76871</td>\n",
              "      <td>36123</td>\n",
              "      <td>3957</td>\n",
              "      <td>887</td>\n",
              "      <td>4406</td>\n",
              "      <td>6</td>\n",
              "      <td>10</td>\n",
              "      <td>201811</td>\n",
              "    </tr>\n",
              "    <tr>\n",
              "      <th>1</th>\n",
              "      <td>-20.0</td>\n",
              "      <td>ChannelId_2</td>\n",
              "      <td>256</td>\n",
              "      <td>UGX</td>\n",
              "      <td>0.0</td>\n",
              "      <td>2</td>\n",
              "      <td>financial_services</td>\n",
              "      <td>20</td>\n",
              "      <td>73770</td>\n",
              "      <td>15642</td>\n",
              "      <td>4841</td>\n",
              "      <td>3829</td>\n",
              "      <td>4406</td>\n",
              "      <td>4</td>\n",
              "      <td>6</td>\n",
              "      <td>201811</td>\n",
              "    </tr>\n",
              "    <tr>\n",
              "      <th>2</th>\n",
              "      <td>500.0</td>\n",
              "      <td>ChannelId_3</td>\n",
              "      <td>256</td>\n",
              "      <td>UGX</td>\n",
              "      <td>0.0</td>\n",
              "      <td>2</td>\n",
              "      <td>airtime</td>\n",
              "      <td>500</td>\n",
              "      <td>26203</td>\n",
              "      <td>53941</td>\n",
              "      <td>4229</td>\n",
              "      <td>222</td>\n",
              "      <td>4683</td>\n",
              "      <td>6</td>\n",
              "      <td>1</td>\n",
              "      <td>201811</td>\n",
              "    </tr>\n",
              "    <tr>\n",
              "      <th>3</th>\n",
              "      <td>20000.0</td>\n",
              "      <td>ChannelId_3</td>\n",
              "      <td>256</td>\n",
              "      <td>UGX</td>\n",
              "      <td>0.0</td>\n",
              "      <td>2</td>\n",
              "      <td>utility_bill</td>\n",
              "      <td>21800</td>\n",
              "      <td>380</td>\n",
              "      <td>102363</td>\n",
              "      <td>648</td>\n",
              "      <td>2185</td>\n",
              "      <td>988</td>\n",
              "      <td>1</td>\n",
              "      <td>21</td>\n",
              "      <td>201811</td>\n",
              "    </tr>\n",
              "    <tr>\n",
              "      <th>4</th>\n",
              "      <td>-644.0</td>\n",
              "      <td>ChannelId_2</td>\n",
              "      <td>256</td>\n",
              "      <td>UGX</td>\n",
              "      <td>0.0</td>\n",
              "      <td>2</td>\n",
              "      <td>financial_services</td>\n",
              "      <td>644</td>\n",
              "      <td>28195</td>\n",
              "      <td>38780</td>\n",
              "      <td>4841</td>\n",
              "      <td>3829</td>\n",
              "      <td>988</td>\n",
              "      <td>4</td>\n",
              "      <td>6</td>\n",
              "      <td>201811</td>\n",
              "    </tr>\n",
              "  </tbody>\n",
              "</table>\n",
              "</div>"
            ],
            "text/plain": [
              "    Amount    ChannelId  CountryCode CurrencyCode  FraudResult  \\\n",
              "0   1000.0  ChannelId_3          256          UGX          0.0   \n",
              "1    -20.0  ChannelId_2          256          UGX          0.0   \n",
              "2    500.0  ChannelId_3          256          UGX          0.0   \n",
              "3  20000.0  ChannelId_3          256          UGX          0.0   \n",
              "4   -644.0  ChannelId_2          256          UGX          0.0   \n",
              "\n",
              "   PricingStrategy     ProductCategory  Value  Enc_TransactionId  Enc_BatchId  \\\n",
              "0                2             airtime   1000              76871        36123   \n",
              "1                2  financial_services     20              73770        15642   \n",
              "2                2             airtime    500              26203        53941   \n",
              "3                2        utility_bill  21800                380       102363   \n",
              "4                2  financial_services    644              28195        38780   \n",
              "\n",
              "   Enc_AccountId  Enc_SubscriptionId  Enc_CustomerId  Enc_ProviderId  \\\n",
              "0           3957                 887            4406               6   \n",
              "1           4841                3829            4406               4   \n",
              "2           4229                 222            4683               6   \n",
              "3            648                2185             988               1   \n",
              "4           4841                3829             988               4   \n",
              "\n",
              "   Enc_ProductId Enc_TransactionStartTime  \n",
              "0             10                   201811  \n",
              "1              6                   201811  \n",
              "2              1                   201811  \n",
              "3             21                   201811  \n",
              "4              6                   201811  "
            ]
          },
          "metadata": {
            "tags": []
          },
          "execution_count": 20
        }
      ]
    },
    {
      "cell_type": "code",
      "metadata": {
        "id": "I9l1LTQXu7ZZ",
        "colab_type": "code",
        "colab": {},
        "outputId": "d6875d4a-eaac-4d76-baad-f20f44d35266"
      },
      "source": [
        "df.shape"
      ],
      "execution_count": 0,
      "outputs": [
        {
          "output_type": "execute_result",
          "data": {
            "text/plain": [
              "(140681, 16)"
            ]
          },
          "metadata": {
            "tags": []
          },
          "execution_count": 21
        }
      ]
    },
    {
      "cell_type": "code",
      "metadata": {
        "id": "SNVLxcrnu7Zk",
        "colab_type": "code",
        "colab": {},
        "outputId": "32b74c74-7d05-4aa0-e424-51c7ff0e9810"
      },
      "source": [
        "categoricals = df.select_dtypes(exclude=[np.number])\n",
        "categoricals.columns"
      ],
      "execution_count": 0,
      "outputs": [
        {
          "output_type": "execute_result",
          "data": {
            "text/plain": [
              "Index(['ChannelId', 'CurrencyCode', 'ProductCategory',\n",
              "       'Enc_TransactionStartTime'],\n",
              "      dtype='object')"
            ]
          },
          "metadata": {
            "tags": []
          },
          "execution_count": 22
        }
      ]
    },
    {
      "cell_type": "code",
      "metadata": {
        "id": "Ghu7CZD3u7Z3",
        "colab_type": "code",
        "colab": {},
        "outputId": "51a22c73-a7d1-4617-9a0f-476b152976c0"
      },
      "source": [
        "numeric_feat = df.select_dtypes(include=[np.number])\n",
        "numeric_feat .columns"
      ],
      "execution_count": 0,
      "outputs": [
        {
          "output_type": "execute_result",
          "data": {
            "text/plain": [
              "Index(['Amount', 'CountryCode', 'FraudResult', 'PricingStrategy', 'Value',\n",
              "       'Enc_TransactionId', 'Enc_BatchId', 'Enc_AccountId',\n",
              "       'Enc_SubscriptionId', 'Enc_CustomerId', 'Enc_ProviderId',\n",
              "       'Enc_ProductId'],\n",
              "      dtype='object')"
            ]
          },
          "metadata": {
            "tags": []
          },
          "execution_count": 23
        }
      ]
    },
    {
      "cell_type": "code",
      "metadata": {
        "id": "GKbnHbWuu7aE",
        "colab_type": "code",
        "colab": {}
      },
      "source": [
        " from sklearn.preprocessing import LabelEncoder\n",
        "\n",
        "#Auto encodes any dataframe column of type category or object.\n",
        "def dummyEncode(df):\n",
        "        columnsToEncode = list(df.select_dtypes(include=['category','object']))\n",
        "        le = LabelEncoder()\n",
        "        for feature in columnsToEncode:\n",
        "            try:\n",
        "                df[feature] = le.fit_transform(df[feature])\n",
        "            except:\n",
        "                print('Error encoding '+feature)\n",
        "        return df"
      ],
      "execution_count": 0,
      "outputs": []
    },
    {
      "cell_type": "code",
      "metadata": {
        "scrolled": true,
        "id": "6Tv3KJKLu7aM",
        "colab_type": "code",
        "colab": {}
      },
      "source": [
        "df = dummyEncode(df)"
      ],
      "execution_count": 0,
      "outputs": []
    },
    {
      "cell_type": "code",
      "metadata": {
        "id": "x9Gc1tlCu7aY",
        "colab_type": "code",
        "colab": {},
        "outputId": "6d85fcb2-3cbe-4e1f-f426-b7bf43f52e37"
      },
      "source": [
        "df.head()"
      ],
      "execution_count": 0,
      "outputs": [
        {
          "output_type": "execute_result",
          "data": {
            "text/html": [
              "<div>\n",
              "<style scoped>\n",
              "    .dataframe tbody tr th:only-of-type {\n",
              "        vertical-align: middle;\n",
              "    }\n",
              "\n",
              "    .dataframe tbody tr th {\n",
              "        vertical-align: top;\n",
              "    }\n",
              "\n",
              "    .dataframe thead th {\n",
              "        text-align: right;\n",
              "    }\n",
              "</style>\n",
              "<table border=\"1\" class=\"dataframe\">\n",
              "  <thead>\n",
              "    <tr style=\"text-align: right;\">\n",
              "      <th></th>\n",
              "      <th>Amount</th>\n",
              "      <th>ChannelId</th>\n",
              "      <th>CountryCode</th>\n",
              "      <th>CurrencyCode</th>\n",
              "      <th>FraudResult</th>\n",
              "      <th>PricingStrategy</th>\n",
              "      <th>ProductCategory</th>\n",
              "      <th>Value</th>\n",
              "      <th>Enc_TransactionId</th>\n",
              "      <th>Enc_BatchId</th>\n",
              "      <th>Enc_AccountId</th>\n",
              "      <th>Enc_SubscriptionId</th>\n",
              "      <th>Enc_CustomerId</th>\n",
              "      <th>Enc_ProviderId</th>\n",
              "      <th>Enc_ProductId</th>\n",
              "      <th>Enc_TransactionStartTime</th>\n",
              "    </tr>\n",
              "  </thead>\n",
              "  <tbody>\n",
              "    <tr>\n",
              "      <th>0</th>\n",
              "      <td>1000.0</td>\n",
              "      <td>2</td>\n",
              "      <td>256</td>\n",
              "      <td>0</td>\n",
              "      <td>0.0</td>\n",
              "      <td>2</td>\n",
              "      <td>0</td>\n",
              "      <td>1000</td>\n",
              "      <td>76871</td>\n",
              "      <td>36123</td>\n",
              "      <td>3957</td>\n",
              "      <td>887</td>\n",
              "      <td>4406</td>\n",
              "      <td>6</td>\n",
              "      <td>10</td>\n",
              "      <td>0</td>\n",
              "    </tr>\n",
              "    <tr>\n",
              "      <th>1</th>\n",
              "      <td>-20.0</td>\n",
              "      <td>1</td>\n",
              "      <td>256</td>\n",
              "      <td>0</td>\n",
              "      <td>0.0</td>\n",
              "      <td>2</td>\n",
              "      <td>2</td>\n",
              "      <td>20</td>\n",
              "      <td>73770</td>\n",
              "      <td>15642</td>\n",
              "      <td>4841</td>\n",
              "      <td>3829</td>\n",
              "      <td>4406</td>\n",
              "      <td>4</td>\n",
              "      <td>6</td>\n",
              "      <td>0</td>\n",
              "    </tr>\n",
              "    <tr>\n",
              "      <th>2</th>\n",
              "      <td>500.0</td>\n",
              "      <td>2</td>\n",
              "      <td>256</td>\n",
              "      <td>0</td>\n",
              "      <td>0.0</td>\n",
              "      <td>2</td>\n",
              "      <td>0</td>\n",
              "      <td>500</td>\n",
              "      <td>26203</td>\n",
              "      <td>53941</td>\n",
              "      <td>4229</td>\n",
              "      <td>222</td>\n",
              "      <td>4683</td>\n",
              "      <td>6</td>\n",
              "      <td>1</td>\n",
              "      <td>0</td>\n",
              "    </tr>\n",
              "    <tr>\n",
              "      <th>3</th>\n",
              "      <td>20000.0</td>\n",
              "      <td>2</td>\n",
              "      <td>256</td>\n",
              "      <td>0</td>\n",
              "      <td>0.0</td>\n",
              "      <td>2</td>\n",
              "      <td>9</td>\n",
              "      <td>21800</td>\n",
              "      <td>380</td>\n",
              "      <td>102363</td>\n",
              "      <td>648</td>\n",
              "      <td>2185</td>\n",
              "      <td>988</td>\n",
              "      <td>1</td>\n",
              "      <td>21</td>\n",
              "      <td>0</td>\n",
              "    </tr>\n",
              "    <tr>\n",
              "      <th>4</th>\n",
              "      <td>-644.0</td>\n",
              "      <td>1</td>\n",
              "      <td>256</td>\n",
              "      <td>0</td>\n",
              "      <td>0.0</td>\n",
              "      <td>2</td>\n",
              "      <td>2</td>\n",
              "      <td>644</td>\n",
              "      <td>28195</td>\n",
              "      <td>38780</td>\n",
              "      <td>4841</td>\n",
              "      <td>3829</td>\n",
              "      <td>988</td>\n",
              "      <td>4</td>\n",
              "      <td>6</td>\n",
              "      <td>0</td>\n",
              "    </tr>\n",
              "  </tbody>\n",
              "</table>\n",
              "</div>"
            ],
            "text/plain": [
              "    Amount  ChannelId  CountryCode  CurrencyCode  FraudResult  \\\n",
              "0   1000.0          2          256             0          0.0   \n",
              "1    -20.0          1          256             0          0.0   \n",
              "2    500.0          2          256             0          0.0   \n",
              "3  20000.0          2          256             0          0.0   \n",
              "4   -644.0          1          256             0          0.0   \n",
              "\n",
              "   PricingStrategy  ProductCategory  Value  Enc_TransactionId  Enc_BatchId  \\\n",
              "0                2                0   1000              76871        36123   \n",
              "1                2                2     20              73770        15642   \n",
              "2                2                0    500              26203        53941   \n",
              "3                2                9  21800                380       102363   \n",
              "4                2                2    644              28195        38780   \n",
              "\n",
              "   Enc_AccountId  Enc_SubscriptionId  Enc_CustomerId  Enc_ProviderId  \\\n",
              "0           3957                 887            4406               6   \n",
              "1           4841                3829            4406               4   \n",
              "2           4229                 222            4683               6   \n",
              "3            648                2185             988               1   \n",
              "4           4841                3829             988               4   \n",
              "\n",
              "   Enc_ProductId  Enc_TransactionStartTime  \n",
              "0             10                         0  \n",
              "1              6                         0  \n",
              "2              1                         0  \n",
              "3             21                         0  \n",
              "4              6                         0  "
            ]
          },
          "metadata": {
            "tags": []
          },
          "execution_count": 26
        }
      ]
    },
    {
      "cell_type": "code",
      "metadata": {
        "id": "z6Wyoec1u7av",
        "colab_type": "code",
        "colab": {},
        "outputId": "92e4058c-3147-40d5-9fbf-63e529c76923"
      },
      "source": [
        "df.shape"
      ],
      "execution_count": 0,
      "outputs": [
        {
          "output_type": "execute_result",
          "data": {
            "text/plain": [
              "(140681, 16)"
            ]
          },
          "metadata": {
            "tags": []
          },
          "execution_count": 27
        }
      ]
    },
    {
      "cell_type": "code",
      "metadata": {
        "id": "d2r7ykHju7a8",
        "colab_type": "code",
        "colab": {},
        "outputId": "5a7d0a42-828d-4a16-e739-2de8caff8f92"
      },
      "source": [
        "#heatmap\n",
        "corr = df.corr()\n",
        "plt.figure(figsize=(7,5))\n",
        "heat = sns.heatmap(data=corr)\n",
        "plt.title('Heatmap of Correlation')"
      ],
      "execution_count": 0,
      "outputs": [
        {
          "output_type": "execute_result",
          "data": {
            "text/plain": [
              "Text(0.5,1,'Heatmap of Correlation')"
            ]
          },
          "metadata": {
            "tags": []
          },
          "execution_count": 28
        },
        {
          "output_type": "display_data",
          "data": {
            "image/png": "[encoded data removed]",
            "text/plain": [
              "<Figure size 504x360 with 2 Axes>"
            ]
          },
          "metadata": {
            "tags": []
          }
        }
      ]
    },
    {
      "cell_type": "code",
      "metadata": {
        "id": "eewjUVs2u7ba",
        "colab_type": "code",
        "colab": {},
        "outputId": "6487a651-1bcf-441d-94ed-33e76f78a32a"
      },
      "source": [
        "cor = df.corr()\n",
        "cor"
      ],
      "execution_count": 0,
      "outputs": [
        {
          "output_type": "execute_result",
          "data": {
            "text/html": [
              "<div>\n",
              "<style scoped>\n",
              "    .dataframe tbody tr th:only-of-type {\n",
              "        vertical-align: middle;\n",
              "    }\n",
              "\n",
              "    .dataframe tbody tr th {\n",
              "        vertical-align: top;\n",
              "    }\n",
              "\n",
              "    .dataframe thead th {\n",
              "        text-align: right;\n",
              "    }\n",
              "</style>\n",
              "<table border=\"1\" class=\"dataframe\">\n",
              "  <thead>\n",
              "    <tr style=\"text-align: right;\">\n",
              "      <th></th>\n",
              "      <th>Amount</th>\n",
              "      <th>ChannelId</th>\n",
              "      <th>CountryCode</th>\n",
              "      <th>CurrencyCode</th>\n",
              "      <th>FraudResult</th>\n",
              "      <th>PricingStrategy</th>\n",
              "      <th>ProductCategory</th>\n",
              "      <th>Value</th>\n",
              "      <th>Enc_TransactionId</th>\n",
              "      <th>Enc_BatchId</th>\n",
              "      <th>Enc_AccountId</th>\n",
              "      <th>Enc_SubscriptionId</th>\n",
              "      <th>Enc_CustomerId</th>\n",
              "      <th>Enc_ProviderId</th>\n",
              "      <th>Enc_ProductId</th>\n",
              "      <th>Enc_TransactionStartTime</th>\n",
              "    </tr>\n",
              "  </thead>\n",
              "  <tbody>\n",
              "    <tr>\n",
              "      <th>Amount</th>\n",
              "      <td>1.000000</td>\n",
              "      <td>0.035237</td>\n",
              "      <td>NaN</td>\n",
              "      <td>NaN</td>\n",
              "      <td>0.557370</td>\n",
              "      <td>-0.062074</td>\n",
              "      <td>0.034813</td>\n",
              "      <td>0.968012</td>\n",
              "      <td>-0.003161</td>\n",
              "      <td>-0.013301</td>\n",
              "      <td>-0.037779</td>\n",
              "      <td>-0.038707</td>\n",
              "      <td>-0.033606</td>\n",
              "      <td>-0.041769</td>\n",
              "      <td>0.078102</td>\n",
              "      <td>0.001340</td>\n",
              "    </tr>\n",
              "    <tr>\n",
              "      <th>ChannelId</th>\n",
              "      <td>0.035237</td>\n",
              "      <td>1.000000</td>\n",
              "      <td>NaN</td>\n",
              "      <td>NaN</td>\n",
              "      <td>0.024972</td>\n",
              "      <td>0.032071</td>\n",
              "      <td>-0.145601</td>\n",
              "      <td>0.032818</td>\n",
              "      <td>0.004194</td>\n",
              "      <td>-0.050533</td>\n",
              "      <td>-0.517027</td>\n",
              "      <td>-0.345955</td>\n",
              "      <td>-0.137096</td>\n",
              "      <td>0.265515</td>\n",
              "      <td>0.196191</td>\n",
              "      <td>0.203814</td>\n",
              "    </tr>\n",
              "    <tr>\n",
              "      <th>CountryCode</th>\n",
              "      <td>NaN</td>\n",
              "      <td>NaN</td>\n",
              "      <td>NaN</td>\n",
              "      <td>NaN</td>\n",
              "      <td>NaN</td>\n",
              "      <td>NaN</td>\n",
              "      <td>NaN</td>\n",
              "      <td>NaN</td>\n",
              "      <td>NaN</td>\n",
              "      <td>NaN</td>\n",
              "      <td>NaN</td>\n",
              "      <td>NaN</td>\n",
              "      <td>NaN</td>\n",
              "      <td>NaN</td>\n",
              "      <td>NaN</td>\n",
              "      <td>NaN</td>\n",
              "    </tr>\n",
              "    <tr>\n",
              "      <th>CurrencyCode</th>\n",
              "      <td>NaN</td>\n",
              "      <td>NaN</td>\n",
              "      <td>NaN</td>\n",
              "      <td>NaN</td>\n",
              "      <td>NaN</td>\n",
              "      <td>NaN</td>\n",
              "      <td>NaN</td>\n",
              "      <td>NaN</td>\n",
              "      <td>NaN</td>\n",
              "      <td>NaN</td>\n",
              "      <td>NaN</td>\n",
              "      <td>NaN</td>\n",
              "      <td>NaN</td>\n",
              "      <td>NaN</td>\n",
              "      <td>NaN</td>\n",
              "      <td>NaN</td>\n",
              "    </tr>\n",
              "    <tr>\n",
              "      <th>FraudResult</th>\n",
              "      <td>0.557370</td>\n",
              "      <td>0.024972</td>\n",
              "      <td>NaN</td>\n",
              "      <td>NaN</td>\n",
              "      <td>1.000000</td>\n",
              "      <td>-0.033821</td>\n",
              "      <td>0.027165</td>\n",
              "      <td>0.566739</td>\n",
              "      <td>-0.001216</td>\n",
              "      <td>-0.000683</td>\n",
              "      <td>-0.026157</td>\n",
              "      <td>-0.010864</td>\n",
              "      <td>-0.004549</td>\n",
              "      <td>-0.051937</td>\n",
              "      <td>0.063452</td>\n",
              "      <td>0.013577</td>\n",
              "    </tr>\n",
              "    <tr>\n",
              "      <th>PricingStrategy</th>\n",
              "      <td>-0.062074</td>\n",
              "      <td>0.032071</td>\n",
              "      <td>NaN</td>\n",
              "      <td>NaN</td>\n",
              "      <td>-0.033821</td>\n",
              "      <td>1.000000</td>\n",
              "      <td>-0.282750</td>\n",
              "      <td>-0.014819</td>\n",
              "      <td>-0.002270</td>\n",
              "      <td>0.101490</td>\n",
              "      <td>-0.141567</td>\n",
              "      <td>0.072436</td>\n",
              "      <td>0.297128</td>\n",
              "      <td>-0.136719</td>\n",
              "      <td>-0.180257</td>\n",
              "      <td>0.024207</td>\n",
              "    </tr>\n",
              "    <tr>\n",
              "      <th>ProductCategory</th>\n",
              "      <td>0.034813</td>\n",
              "      <td>-0.145601</td>\n",
              "      <td>NaN</td>\n",
              "      <td>NaN</td>\n",
              "      <td>0.027165</td>\n",
              "      <td>-0.282750</td>\n",
              "      <td>1.000000</td>\n",
              "      <td>0.037652</td>\n",
              "      <td>0.002072</td>\n",
              "      <td>-0.027489</td>\n",
              "      <td>0.195868</td>\n",
              "      <td>0.131227</td>\n",
              "      <td>-0.097682</td>\n",
              "      <td>-0.257260</td>\n",
              "      <td>0.561827</td>\n",
              "      <td>-0.023855</td>\n",
              "    </tr>\n",
              "    <tr>\n",
              "      <th>Value</th>\n",
              "      <td>0.968012</td>\n",
              "      <td>0.032818</td>\n",
              "      <td>NaN</td>\n",
              "      <td>NaN</td>\n",
              "      <td>0.566739</td>\n",
              "      <td>-0.014819</td>\n",
              "      <td>0.037652</td>\n",
              "      <td>1.000000</td>\n",
              "      <td>-0.003534</td>\n",
              "      <td>0.005702</td>\n",
              "      <td>-0.037373</td>\n",
              "      <td>-0.010326</td>\n",
              "      <td>0.012086</td>\n",
              "      <td>-0.059213</td>\n",
              "      <td>0.093494</td>\n",
              "      <td>0.010559</td>\n",
              "    </tr>\n",
              "    <tr>\n",
              "      <th>Enc_TransactionId</th>\n",
              "      <td>-0.003161</td>\n",
              "      <td>0.004194</td>\n",
              "      <td>NaN</td>\n",
              "      <td>NaN</td>\n",
              "      <td>-0.001216</td>\n",
              "      <td>-0.002270</td>\n",
              "      <td>0.002072</td>\n",
              "      <td>-0.003534</td>\n",
              "      <td>1.000000</td>\n",
              "      <td>-0.002867</td>\n",
              "      <td>-0.000678</td>\n",
              "      <td>-0.001786</td>\n",
              "      <td>-0.002109</td>\n",
              "      <td>0.000595</td>\n",
              "      <td>0.002892</td>\n",
              "      <td>-0.003025</td>\n",
              "    </tr>\n",
              "    <tr>\n",
              "      <th>Enc_BatchId</th>\n",
              "      <td>-0.013301</td>\n",
              "      <td>-0.050533</td>\n",
              "      <td>NaN</td>\n",
              "      <td>NaN</td>\n",
              "      <td>-0.000683</td>\n",
              "      <td>0.101490</td>\n",
              "      <td>-0.027489</td>\n",
              "      <td>0.005702</td>\n",
              "      <td>-0.002867</td>\n",
              "      <td>1.000000</td>\n",
              "      <td>0.023507</td>\n",
              "      <td>0.044565</td>\n",
              "      <td>0.102578</td>\n",
              "      <td>-0.024156</td>\n",
              "      <td>-0.013553</td>\n",
              "      <td>-0.026810</td>\n",
              "    </tr>\n",
              "    <tr>\n",
              "      <th>Enc_AccountId</th>\n",
              "      <td>-0.037779</td>\n",
              "      <td>-0.517027</td>\n",
              "      <td>NaN</td>\n",
              "      <td>NaN</td>\n",
              "      <td>-0.026157</td>\n",
              "      <td>-0.141567</td>\n",
              "      <td>0.195868</td>\n",
              "      <td>-0.037373</td>\n",
              "      <td>-0.000678</td>\n",
              "      <td>0.023507</td>\n",
              "      <td>1.000000</td>\n",
              "      <td>0.326600</td>\n",
              "      <td>0.452692</td>\n",
              "      <td>-0.184068</td>\n",
              "      <td>-0.167250</td>\n",
              "      <td>-0.057465</td>\n",
              "    </tr>\n",
              "    <tr>\n",
              "      <th>Enc_SubscriptionId</th>\n",
              "      <td>-0.038707</td>\n",
              "      <td>-0.345955</td>\n",
              "      <td>NaN</td>\n",
              "      <td>NaN</td>\n",
              "      <td>-0.010864</td>\n",
              "      <td>0.072436</td>\n",
              "      <td>0.131227</td>\n",
              "      <td>-0.010326</td>\n",
              "      <td>-0.001786</td>\n",
              "      <td>0.044565</td>\n",
              "      <td>0.326600</td>\n",
              "      <td>1.000000</td>\n",
              "      <td>0.112121</td>\n",
              "      <td>-0.229710</td>\n",
              "      <td>-0.118149</td>\n",
              "      <td>-0.040826</td>\n",
              "    </tr>\n",
              "    <tr>\n",
              "      <th>Enc_CustomerId</th>\n",
              "      <td>-0.033606</td>\n",
              "      <td>-0.137096</td>\n",
              "      <td>NaN</td>\n",
              "      <td>NaN</td>\n",
              "      <td>-0.004549</td>\n",
              "      <td>0.297128</td>\n",
              "      <td>-0.097682</td>\n",
              "      <td>0.012086</td>\n",
              "      <td>-0.002109</td>\n",
              "      <td>0.102578</td>\n",
              "      <td>0.452692</td>\n",
              "      <td>0.112121</td>\n",
              "      <td>1.000000</td>\n",
              "      <td>0.006896</td>\n",
              "      <td>-0.040547</td>\n",
              "      <td>0.016757</td>\n",
              "    </tr>\n",
              "    <tr>\n",
              "      <th>Enc_ProviderId</th>\n",
              "      <td>-0.041769</td>\n",
              "      <td>0.265515</td>\n",
              "      <td>NaN</td>\n",
              "      <td>NaN</td>\n",
              "      <td>-0.051937</td>\n",
              "      <td>-0.136719</td>\n",
              "      <td>-0.257260</td>\n",
              "      <td>-0.059213</td>\n",
              "      <td>0.000595</td>\n",
              "      <td>-0.024156</td>\n",
              "      <td>-0.184068</td>\n",
              "      <td>-0.229710</td>\n",
              "      <td>0.006896</td>\n",
              "      <td>1.000000</td>\n",
              "      <td>-0.180782</td>\n",
              "      <td>0.008656</td>\n",
              "    </tr>\n",
              "    <tr>\n",
              "      <th>Enc_ProductId</th>\n",
              "      <td>0.078102</td>\n",
              "      <td>0.196191</td>\n",
              "      <td>NaN</td>\n",
              "      <td>NaN</td>\n",
              "      <td>0.063452</td>\n",
              "      <td>-0.180257</td>\n",
              "      <td>0.561827</td>\n",
              "      <td>0.093494</td>\n",
              "      <td>0.002892</td>\n",
              "      <td>-0.013553</td>\n",
              "      <td>-0.167250</td>\n",
              "      <td>-0.118149</td>\n",
              "      <td>-0.040547</td>\n",
              "      <td>-0.180782</td>\n",
              "      <td>1.000000</td>\n",
              "      <td>0.039844</td>\n",
              "    </tr>\n",
              "    <tr>\n",
              "      <th>Enc_TransactionStartTime</th>\n",
              "      <td>0.001340</td>\n",
              "      <td>0.203814</td>\n",
              "      <td>NaN</td>\n",
              "      <td>NaN</td>\n",
              "      <td>0.013577</td>\n",
              "      <td>0.024207</td>\n",
              "      <td>-0.023855</td>\n",
              "      <td>0.010559</td>\n",
              "      <td>-0.003025</td>\n",
              "      <td>-0.026810</td>\n",
              "      <td>-0.057465</td>\n",
              "      <td>-0.040826</td>\n",
              "      <td>0.016757</td>\n",
              "      <td>0.008656</td>\n",
              "      <td>0.039844</td>\n",
              "      <td>1.000000</td>\n",
              "    </tr>\n",
              "  </tbody>\n",
              "</table>\n",
              "</div>"
            ],
            "text/plain": [
              "                            Amount  ChannelId  CountryCode  CurrencyCode  \\\n",
              "Amount                    1.000000   0.035237          NaN           NaN   \n",
              "ChannelId                 0.035237   1.000000          NaN           NaN   \n",
              "CountryCode                    NaN        NaN          NaN           NaN   \n",
              "CurrencyCode                   NaN        NaN          NaN           NaN   \n",
              "FraudResult               0.557370   0.024972          NaN           NaN   \n",
              "PricingStrategy          -0.062074   0.032071          NaN           NaN   \n",
              "ProductCategory           0.034813  -0.145601          NaN           NaN   \n",
              "Value                     0.968012   0.032818          NaN           NaN   \n",
              "Enc_TransactionId        -0.003161   0.004194          NaN           NaN   \n",
              "Enc_BatchId              -0.013301  -0.050533          NaN           NaN   \n",
              "Enc_AccountId            -0.037779  -0.517027          NaN           NaN   \n",
              "Enc_SubscriptionId       -0.038707  -0.345955          NaN           NaN   \n",
              "Enc_CustomerId           -0.033606  -0.137096          NaN           NaN   \n",
              "Enc_ProviderId           -0.041769   0.265515          NaN           NaN   \n",
              "Enc_ProductId             0.078102   0.196191          NaN           NaN   \n",
              "Enc_TransactionStartTime  0.001340   0.203814          NaN           NaN   \n",
              "\n",
              "                          FraudResult  PricingStrategy  ProductCategory  \\\n",
              "Amount                       0.557370        -0.062074         0.034813   \n",
              "ChannelId                    0.024972         0.032071        -0.145601   \n",
              "CountryCode                       NaN              NaN              NaN   \n",
              "CurrencyCode                      NaN              NaN              NaN   \n",
              "FraudResult                  1.000000        -0.033821         0.027165   \n",
              "PricingStrategy             -0.033821         1.000000        -0.282750   \n",
              "ProductCategory              0.027165        -0.282750         1.000000   \n",
              "Value                        0.566739        -0.014819         0.037652   \n",
              "Enc_TransactionId           -0.001216        -0.002270         0.002072   \n",
              "Enc_BatchId                 -0.000683         0.101490        -0.027489   \n",
              "Enc_AccountId               -0.026157        -0.141567         0.195868   \n",
              "Enc_SubscriptionId          -0.010864         0.072436         0.131227   \n",
              "Enc_CustomerId              -0.004549         0.297128        -0.097682   \n",
              "Enc_ProviderId              -0.051937        -0.136719        -0.257260   \n",
              "Enc_ProductId                0.063452        -0.180257         0.561827   \n",
              "Enc_TransactionStartTime     0.013577         0.024207        -0.023855   \n",
              "\n",
              "                             Value  Enc_TransactionId  Enc_BatchId  \\\n",
              "Amount                    0.968012          -0.003161    -0.013301   \n",
              "ChannelId                 0.032818           0.004194    -0.050533   \n",
              "CountryCode                    NaN                NaN          NaN   \n",
              "CurrencyCode                   NaN                NaN          NaN   \n",
              "FraudResult               0.566739          -0.001216    -0.000683   \n",
              "PricingStrategy          -0.014819          -0.002270     0.101490   \n",
              "ProductCategory           0.037652           0.002072    -0.027489   \n",
              "Value                     1.000000          -0.003534     0.005702   \n",
              "Enc_TransactionId        -0.003534           1.000000    -0.002867   \n",
              "Enc_BatchId               0.005702          -0.002867     1.000000   \n",
              "Enc_AccountId            -0.037373          -0.000678     0.023507   \n",
              "Enc_SubscriptionId       -0.010326          -0.001786     0.044565   \n",
              "Enc_CustomerId            0.012086          -0.002109     0.102578   \n",
              "Enc_ProviderId           -0.059213           0.000595    -0.024156   \n",
              "Enc_ProductId             0.093494           0.002892    -0.013553   \n",
              "Enc_TransactionStartTime  0.010559          -0.003025    -0.026810   \n",
              "\n",
              "                          Enc_AccountId  Enc_SubscriptionId  Enc_CustomerId  \\\n",
              "Amount                        -0.037779           -0.038707       -0.033606   \n",
              "ChannelId                     -0.517027           -0.345955       -0.137096   \n",
              "CountryCode                         NaN                 NaN             NaN   \n",
              "CurrencyCode                        NaN                 NaN             NaN   \n",
              "FraudResult                   -0.026157           -0.010864       -0.004549   \n",
              "PricingStrategy               -0.141567            0.072436        0.297128   \n",
              "ProductCategory                0.195868            0.131227       -0.097682   \n",
              "Value                         -0.037373           -0.010326        0.012086   \n",
              "Enc_TransactionId             -0.000678           -0.001786       -0.002109   \n",
              "Enc_BatchId                    0.023507            0.044565        0.102578   \n",
              "Enc_AccountId                  1.000000            0.326600        0.452692   \n",
              "Enc_SubscriptionId             0.326600            1.000000        0.112121   \n",
              "Enc_CustomerId                 0.452692            0.112121        1.000000   \n",
              "Enc_ProviderId                -0.184068           -0.229710        0.006896   \n",
              "Enc_ProductId                 -0.167250           -0.118149       -0.040547   \n",
              "Enc_TransactionStartTime      -0.057465           -0.040826        0.016757   \n",
              "\n",
              "                          Enc_ProviderId  Enc_ProductId  \\\n",
              "Amount                         -0.041769       0.078102   \n",
              "ChannelId                       0.265515       0.196191   \n",
              "CountryCode                          NaN            NaN   \n",
              "CurrencyCode                         NaN            NaN   \n",
              "FraudResult                    -0.051937       0.063452   \n",
              "PricingStrategy                -0.136719      -0.180257   \n",
              "ProductCategory                -0.257260       0.561827   \n",
              "Value                          -0.059213       0.093494   \n",
              "Enc_TransactionId               0.000595       0.002892   \n",
              "Enc_BatchId                    -0.024156      -0.013553   \n",
              "Enc_AccountId                  -0.184068      -0.167250   \n",
              "Enc_SubscriptionId             -0.229710      -0.118149   \n",
              "Enc_CustomerId                  0.006896      -0.040547   \n",
              "Enc_ProviderId                  1.000000      -0.180782   \n",
              "Enc_ProductId                  -0.180782       1.000000   \n",
              "Enc_TransactionStartTime        0.008656       0.039844   \n",
              "\n",
              "                          Enc_TransactionStartTime  \n",
              "Amount                                    0.001340  \n",
              "ChannelId                                 0.203814  \n",
              "CountryCode                                    NaN  \n",
              "CurrencyCode                                   NaN  \n",
              "FraudResult                               0.013577  \n",
              "PricingStrategy                           0.024207  \n",
              "ProductCategory                          -0.023855  \n",
              "Value                                     0.010559  \n",
              "Enc_TransactionId                        -0.003025  \n",
              "Enc_BatchId                              -0.026810  \n",
              "Enc_AccountId                            -0.057465  \n",
              "Enc_SubscriptionId                       -0.040826  \n",
              "Enc_CustomerId                            0.016757  \n",
              "Enc_ProviderId                            0.008656  \n",
              "Enc_ProductId                             0.039844  \n",
              "Enc_TransactionStartTime                  1.000000  "
            ]
          },
          "metadata": {
            "tags": []
          },
          "execution_count": 29
        }
      ]
    },
    {
      "cell_type": "code",
      "metadata": {
        "id": "uYCCeO2ku7bu",
        "colab_type": "code",
        "colab": {}
      },
      "source": [
        "df = df.drop(['Amount','Enc_SubscriptionId'],axis=1)"
      ],
      "execution_count": 0,
      "outputs": []
    },
    {
      "cell_type": "markdown",
      "metadata": {
        "id": "JG5Ab351u7b1",
        "colab_type": "text"
      },
      "source": [
        "## Missing Values"
      ]
    },
    {
      "cell_type": "code",
      "metadata": {
        "id": "5ctBbUkmu7b3",
        "colab_type": "code",
        "colab": {},
        "outputId": "1c21a900-57d9-42af-f864-4b310ab4c994"
      },
      "source": [
        "data = df.select_dtypes(include=[np.number]).interpolate().dropna()\n",
        "print(sum(data.isnull().sum() != 0))"
      ],
      "execution_count": 0,
      "outputs": [
        {
          "output_type": "stream",
          "text": [
            "0\n"
          ],
          "name": "stdout"
        }
      ]
    },
    {
      "cell_type": "code",
      "metadata": {
        "id": "Ck_r9HOWu7cC",
        "colab_type": "code",
        "colab": {},
        "outputId": "13df7ad1-d747-436d-d181-6125c2ca8254"
      },
      "source": [
        "data.shape"
      ],
      "execution_count": 0,
      "outputs": [
        {
          "output_type": "execute_result",
          "data": {
            "text/plain": [
              "(140681, 14)"
            ]
          },
          "metadata": {
            "tags": []
          },
          "execution_count": 32
        }
      ]
    },
    {
      "cell_type": "code",
      "metadata": {
        "id": "7Ghcyvz2u7cX",
        "colab_type": "code",
        "colab": {}
      },
      "source": [
        "train = data[:len(df_train)]\n",
        "test = data[len(df_train):]"
      ],
      "execution_count": 0,
      "outputs": []
    },
    {
      "cell_type": "code",
      "metadata": {
        "id": "G8pQRBmOu7cn",
        "colab_type": "code",
        "colab": {},
        "outputId": "aefb29af-92a5-4702-d3d7-28a66bd00726"
      },
      "source": [
        "train.shape"
      ],
      "execution_count": 0,
      "outputs": [
        {
          "output_type": "execute_result",
          "data": {
            "text/plain": [
              "(95662, 14)"
            ]
          },
          "metadata": {
            "tags": []
          },
          "execution_count": 34
        }
      ]
    },
    {
      "cell_type": "code",
      "metadata": {
        "id": "1XQiwKQWu7c4",
        "colab_type": "code",
        "colab": {},
        "outputId": "862f9ad9-4238-499e-8382-9710fcdc7b34"
      },
      "source": [
        "test.shape"
      ],
      "execution_count": 0,
      "outputs": [
        {
          "output_type": "execute_result",
          "data": {
            "text/plain": [
              "(45019, 14)"
            ]
          },
          "metadata": {
            "tags": []
          },
          "execution_count": 35
        }
      ]
    },
    {
      "cell_type": "code",
      "metadata": {
        "id": "UBd04Jjcu7dC",
        "colab_type": "code",
        "colab": {}
      },
      "source": [
        "test = test.drop('FraudResult',axis=1)"
      ],
      "execution_count": 0,
      "outputs": []
    },
    {
      "cell_type": "code",
      "metadata": {
        "id": "2gwC2rKSu7dO",
        "colab_type": "code",
        "colab": {}
      },
      "source": [
        "train.FraudResult = train.FraudResult.astype(int)"
      ],
      "execution_count": 0,
      "outputs": []
    },
    {
      "cell_type": "code",
      "metadata": {
        "id": "Y2x9OJwPu7dY",
        "colab_type": "code",
        "colab": {},
        "outputId": "c4c4c955-7d63-4aa3-9480-eecabcd9f528"
      },
      "source": [
        "train.head()"
      ],
      "execution_count": 0,
      "outputs": [
        {
          "output_type": "execute_result",
          "data": {
            "text/html": [
              "<div>\n",
              "<style scoped>\n",
              "    .dataframe tbody tr th:only-of-type {\n",
              "        vertical-align: middle;\n",
              "    }\n",
              "\n",
              "    .dataframe tbody tr th {\n",
              "        vertical-align: top;\n",
              "    }\n",
              "\n",
              "    .dataframe thead th {\n",
              "        text-align: right;\n",
              "    }\n",
              "</style>\n",
              "<table border=\"1\" class=\"dataframe\">\n",
              "  <thead>\n",
              "    <tr style=\"text-align: right;\">\n",
              "      <th></th>\n",
              "      <th>ChannelId</th>\n",
              "      <th>CountryCode</th>\n",
              "      <th>CurrencyCode</th>\n",
              "      <th>FraudResult</th>\n",
              "      <th>PricingStrategy</th>\n",
              "      <th>ProductCategory</th>\n",
              "      <th>Value</th>\n",
              "      <th>Enc_TransactionId</th>\n",
              "      <th>Enc_BatchId</th>\n",
              "      <th>Enc_AccountId</th>\n",
              "      <th>Enc_CustomerId</th>\n",
              "      <th>Enc_ProviderId</th>\n",
              "      <th>Enc_ProductId</th>\n",
              "      <th>Enc_TransactionStartTime</th>\n",
              "    </tr>\n",
              "  </thead>\n",
              "  <tbody>\n",
              "    <tr>\n",
              "      <th>0</th>\n",
              "      <td>2</td>\n",
              "      <td>256</td>\n",
              "      <td>0</td>\n",
              "      <td>0</td>\n",
              "      <td>2</td>\n",
              "      <td>0</td>\n",
              "      <td>1000</td>\n",
              "      <td>76871</td>\n",
              "      <td>36123</td>\n",
              "      <td>3957</td>\n",
              "      <td>4406</td>\n",
              "      <td>6</td>\n",
              "      <td>10</td>\n",
              "      <td>0</td>\n",
              "    </tr>\n",
              "    <tr>\n",
              "      <th>1</th>\n",
              "      <td>1</td>\n",
              "      <td>256</td>\n",
              "      <td>0</td>\n",
              "      <td>0</td>\n",
              "      <td>2</td>\n",
              "      <td>2</td>\n",
              "      <td>20</td>\n",
              "      <td>73770</td>\n",
              "      <td>15642</td>\n",
              "      <td>4841</td>\n",
              "      <td>4406</td>\n",
              "      <td>4</td>\n",
              "      <td>6</td>\n",
              "      <td>0</td>\n",
              "    </tr>\n",
              "    <tr>\n",
              "      <th>2</th>\n",
              "      <td>2</td>\n",
              "      <td>256</td>\n",
              "      <td>0</td>\n",
              "      <td>0</td>\n",
              "      <td>2</td>\n",
              "      <td>0</td>\n",
              "      <td>500</td>\n",
              "      <td>26203</td>\n",
              "      <td>53941</td>\n",
              "      <td>4229</td>\n",
              "      <td>4683</td>\n",
              "      <td>6</td>\n",
              "      <td>1</td>\n",
              "      <td>0</td>\n",
              "    </tr>\n",
              "    <tr>\n",
              "      <th>3</th>\n",
              "      <td>2</td>\n",
              "      <td>256</td>\n",
              "      <td>0</td>\n",
              "      <td>0</td>\n",
              "      <td>2</td>\n",
              "      <td>9</td>\n",
              "      <td>21800</td>\n",
              "      <td>380</td>\n",
              "      <td>102363</td>\n",
              "      <td>648</td>\n",
              "      <td>988</td>\n",
              "      <td>1</td>\n",
              "      <td>21</td>\n",
              "      <td>0</td>\n",
              "    </tr>\n",
              "    <tr>\n",
              "      <th>4</th>\n",
              "      <td>1</td>\n",
              "      <td>256</td>\n",
              "      <td>0</td>\n",
              "      <td>0</td>\n",
              "      <td>2</td>\n",
              "      <td>2</td>\n",
              "      <td>644</td>\n",
              "      <td>28195</td>\n",
              "      <td>38780</td>\n",
              "      <td>4841</td>\n",
              "      <td>988</td>\n",
              "      <td>4</td>\n",
              "      <td>6</td>\n",
              "      <td>0</td>\n",
              "    </tr>\n",
              "  </tbody>\n",
              "</table>\n",
              "</div>"
            ],
            "text/plain": [
              "   ChannelId  CountryCode  CurrencyCode  FraudResult  PricingStrategy  \\\n",
              "0          2          256             0            0                2   \n",
              "1          1          256             0            0                2   \n",
              "2          2          256             0            0                2   \n",
              "3          2          256             0            0                2   \n",
              "4          1          256             0            0                2   \n",
              "\n",
              "   ProductCategory  Value  Enc_TransactionId  Enc_BatchId  Enc_AccountId  \\\n",
              "0                0   1000              76871        36123           3957   \n",
              "1                2     20              73770        15642           4841   \n",
              "2                0    500              26203        53941           4229   \n",
              "3                9  21800                380       102363            648   \n",
              "4                2    644              28195        38780           4841   \n",
              "\n",
              "   Enc_CustomerId  Enc_ProviderId  Enc_ProductId  Enc_TransactionStartTime  \n",
              "0            4406               6             10                         0  \n",
              "1            4406               4              6                         0  \n",
              "2            4683               6              1                         0  \n",
              "3             988               1             21                         0  \n",
              "4             988               4              6                         0  "
            ]
          },
          "metadata": {
            "tags": []
          },
          "execution_count": 38
        }
      ]
    },
    {
      "cell_type": "code",
      "metadata": {
        "id": "GjLJMOpHu7dp",
        "colab_type": "code",
        "colab": {},
        "outputId": "bbdd03b3-d47b-4454-b7a1-ed633c41548c"
      },
      "source": [
        "y = train.FraudResult\n",
        "X = train.drop(['FraudResult'], axis=1)\n",
        "X.columns"
      ],
      "execution_count": 0,
      "outputs": [
        {
          "output_type": "execute_result",
          "data": {
            "text/plain": [
              "Index(['ChannelId', 'CountryCode', 'CurrencyCode', 'PricingStrategy',\n",
              "       'ProductCategory', 'Value', 'Enc_TransactionId', 'Enc_BatchId',\n",
              "       'Enc_AccountId', 'Enc_CustomerId', 'Enc_ProviderId', 'Enc_ProductId',\n",
              "       'Enc_TransactionStartTime'],\n",
              "      dtype='object')"
            ]
          },
          "metadata": {
            "tags": []
          },
          "execution_count": 39
        }
      ]
    },
    {
      "cell_type": "markdown",
      "metadata": {
        "id": "yUbjBBMhu7dz",
        "colab_type": "text"
      },
      "source": [
        "## Partition data"
      ]
    },
    {
      "cell_type": "code",
      "metadata": {
        "id": "dp1UrzkNu7d6",
        "colab_type": "code",
        "colab": {}
      },
      "source": [
        "X_train, X_test, y_train, y_test = train_test_split(X, y, random_state=42, test_size=.20)"
      ],
      "execution_count": 0,
      "outputs": []
    },
    {
      "cell_type": "markdown",
      "metadata": {
        "id": "BV0uaDIku7eu",
        "colab_type": "text"
      },
      "source": [
        "## Modeling and Fitting "
      ]
    },
    {
      "cell_type": "code",
      "metadata": {
        "id": "On5Ao0Aiu7ez",
        "colab_type": "code",
        "colab": {}
      },
      "source": [
        "# Cross_val_score is the new class for today...\n",
        "from sklearn.model_selection import cross_val_score\n",
        "from sklearn.model_selection import train_test_split\n",
        "from sklearn import metrics\n",
        "\n",
        "from sklearn.preprocessing import StandardScaler\n",
        "from sklearn.datasets import make_moons, make_circles, make_classification\n",
        "\n",
        "# main ones to focus on for this sprint\n",
        "from sklearn.linear_model import LogisticRegression\n",
        "from sklearn.neighbors import KNeighborsClassifier\n",
        "from sklearn.naive_bayes import GaussianNB\n",
        "from sklearn.discriminant_analysis import LinearDiscriminantAnalysis\n",
        "from sklearn.discriminant_analysis import QuadraticDiscriminantAnalysis\n",
        "\n",
        "# Covered in sprint 3\n",
        "from sklearn.tree import DecisionTreeClassifier\n",
        "from sklearn.ensemble import RandomForestClassifier, AdaBoostClassifier\n",
        "\n",
        "# Covered in sprint 4\n",
        "from sklearn.gaussian_process import GaussianProcessClassifier\n",
        "from sklearn.gaussian_process.kernels import RBF\n",
        "\n",
        "# Neural Network!!\n",
        "from sklearn.neural_network import MLPClassifier\n",
        "from sklearn.ensemble import GradientBoostingClassifier\n",
        "import xgboost as xgb\n",
        "from xgboost.sklearn import XGBClassifier\n",
        "from xgboost.sklearn import XGBRegressor\n",
        "from sklearn.ensemble import GradientBoostingClassifier\n",
        "\n",
        "from sklearn.metrics import f1_score\n",
        "from sklearn.metrics import log_loss"
      ],
      "execution_count": 0,
      "outputs": []
    },
    {
      "cell_type": "code",
      "metadata": {
        "id": "iwjun_otu7e8",
        "colab_type": "code",
        "colab": {}
      },
      "source": [
        "names = ['Logistic Regression', 'Nearest Neighbors','XGBClas',\n",
        "         \"Decision Tree\",\"Random Forest\",  \"AdaBoost\"]"
      ],
      "execution_count": 0,
      "outputs": []
    },
    {
      "cell_type": "code",
      "metadata": {
        "id": "OUM6MWHGu7fN",
        "colab_type": "code",
        "colab": {}
      },
      "source": [
        "classifiers = [\n",
        "    LogisticRegression(),\n",
        "    KNeighborsClassifier(),\n",
        "    XGBClassifier(),\n",
        "    DecisionTreeClassifier(),\n",
        "    RandomForestClassifier(max_features=10, n_estimators=100),\n",
        "    AdaBoostClassifier(),\n",
        "]"
      ],
      "execution_count": 0,
      "outputs": []
    },
    {
      "cell_type": "code",
      "metadata": {
        "id": "x48fR97ou7fX",
        "colab_type": "code",
        "colab": {},
        "outputId": "0cc24991-78f9-4e14-e08a-ccfe1d602fd1"
      },
      "source": [
        "results = []\n",
        "\n",
        "models = {}\n",
        "confusion = {}\n",
        "class_report = {}\n",
        "\n",
        "\n",
        "for name, clf in zip(names, classifiers):\n",
        "    print ('Fitting {:s} model...'.format(name))\n",
        "    run_time = %timeit -q -o clf.fit(X_train, y_train)\n",
        "\n",
        "    print ('... predicting')\n",
        "    y_pred = clf.predict(X_test)\n",
        "    y_pred_test = clf.predict(X_test)\n",
        "\n",
        "    print ('... scoring')\n",
        "    accuracy  = metrics.accuracy_score(y_test, y_pred)\n",
        "    precision = metrics.precision_score(y_test, y_pred)\n",
        "    recall    = metrics.recall_score(y_test, y_pred)\n",
        "\n",
        "    f1        = metrics.f1_score(y_test, y_pred)\n",
        "    f1_test   = metrics.f1_score(y_test, y_pred_test)\n",
        "    log_los   = log_loss(y_test,y_pred)\n",
        "\n",
        "    # save the results to dictionaries\n",
        "    models[name] = clf\n",
        "    confusion[name] = metrics.confusion_matrix(y_test, y_pred)\n",
        "    class_report[name] = metrics.classification_report(y_test, y_pred)\n",
        "\n",
        "    results.append([name, accuracy, precision, recall, f1, f1_test, run_time.best, log_los])\n",
        "\n",
        "\n",
        "results = pd.DataFrame(results, columns=['Classifier', 'Accuracy', 'Precision', 'Recall', 'F1 Train', 'F1 Test', 'Train Time','log_los'])\n",
        "results.set_index('Classifier', inplace= True)"
      ],
      "execution_count": 0,
      "outputs": [
        {
          "output_type": "stream",
          "text": [
            "Fitting Logistic Regression model...\n",
            "... predicting\n",
            "... scoring\n",
            "Fitting Nearest Neighbors model...\n",
            "... predicting\n",
            "... scoring\n",
            "Fitting XGBClas model...\n",
            "... predicting\n",
            "... scoring\n",
            "Fitting Decision Tree model...\n",
            "... predicting\n",
            "... scoring\n",
            "Fitting Random Forest model...\n",
            "... predicting\n",
            "... scoring\n",
            "Fitting AdaBoost model...\n",
            "... predicting\n",
            "... scoring\n"
          ],
          "name": "stdout"
        }
      ]
    },
    {
      "cell_type": "code",
      "metadata": {
        "id": "8O1C8BBUu7fl",
        "colab_type": "code",
        "colab": {},
        "outputId": "05f530ee-92fb-4770-9d4e-e0a7dd1e4185"
      },
      "source": [
        "results.sort_values(['F1 Train','log_los'], ascending=False)"
      ],
      "execution_count": 0,
      "outputs": [
        {
          "output_type": "execute_result",
          "data": {
            "text/html": [
              "<div>\n",
              "<style scoped>\n",
              "    .dataframe tbody tr th:only-of-type {\n",
              "        vertical-align: middle;\n",
              "    }\n",
              "\n",
              "    .dataframe tbody tr th {\n",
              "        vertical-align: top;\n",
              "    }\n",
              "\n",
              "    .dataframe thead th {\n",
              "        text-align: right;\n",
              "    }\n",
              "</style>\n",
              "<table border=\"1\" class=\"dataframe\">\n",
              "  <thead>\n",
              "    <tr style=\"text-align: right;\">\n",
              "      <th></th>\n",
              "      <th>Accuracy</th>\n",
              "      <th>Precision</th>\n",
              "      <th>Recall</th>\n",
              "      <th>F1 Train</th>\n",
              "      <th>F1 Test</th>\n",
              "      <th>Train Time</th>\n",
              "      <th>log_los</th>\n",
              "    </tr>\n",
              "    <tr>\n",
              "      <th>Classifier</th>\n",
              "      <th></th>\n",
              "      <th></th>\n",
              "      <th></th>\n",
              "      <th></th>\n",
              "      <th></th>\n",
              "      <th></th>\n",
              "      <th></th>\n",
              "    </tr>\n",
              "  </thead>\n",
              "  <tbody>\n",
              "    <tr>\n",
              "      <th>Random Forest</th>\n",
              "      <td>0.999895</td>\n",
              "      <td>0.947368</td>\n",
              "      <td>1.000000</td>\n",
              "      <td>0.972973</td>\n",
              "      <td>0.972973</td>\n",
              "      <td>8.652777</td>\n",
              "      <td>0.003610</td>\n",
              "    </tr>\n",
              "    <tr>\n",
              "      <th>XGBClas</th>\n",
              "      <td>0.999791</td>\n",
              "      <td>0.970588</td>\n",
              "      <td>0.916667</td>\n",
              "      <td>0.942857</td>\n",
              "      <td>0.942857</td>\n",
              "      <td>5.295605</td>\n",
              "      <td>0.007221</td>\n",
              "    </tr>\n",
              "    <tr>\n",
              "      <th>AdaBoost</th>\n",
              "      <td>0.999791</td>\n",
              "      <td>0.970588</td>\n",
              "      <td>0.916667</td>\n",
              "      <td>0.942857</td>\n",
              "      <td>0.942857</td>\n",
              "      <td>2.525769</td>\n",
              "      <td>0.007221</td>\n",
              "    </tr>\n",
              "    <tr>\n",
              "      <th>Decision Tree</th>\n",
              "      <td>0.999686</td>\n",
              "      <td>0.916667</td>\n",
              "      <td>0.916667</td>\n",
              "      <td>0.916667</td>\n",
              "      <td>0.916667</td>\n",
              "      <td>0.189997</td>\n",
              "      <td>0.010831</td>\n",
              "    </tr>\n",
              "    <tr>\n",
              "      <th>Nearest Neighbors</th>\n",
              "      <td>0.999686</td>\n",
              "      <td>0.968750</td>\n",
              "      <td>0.861111</td>\n",
              "      <td>0.911765</td>\n",
              "      <td>0.911765</td>\n",
              "      <td>0.579795</td>\n",
              "      <td>0.010831</td>\n",
              "    </tr>\n",
              "    <tr>\n",
              "      <th>Logistic Regression</th>\n",
              "      <td>0.998484</td>\n",
              "      <td>0.888889</td>\n",
              "      <td>0.222222</td>\n",
              "      <td>0.355556</td>\n",
              "      <td>0.355556</td>\n",
              "      <td>0.963790</td>\n",
              "      <td>0.052351</td>\n",
              "    </tr>\n",
              "  </tbody>\n",
              "</table>\n",
              "</div>"
            ],
            "text/plain": [
              "                     Accuracy  Precision    Recall  F1 Train   F1 Test  \\\n",
              "Classifier                                                               \n",
              "Random Forest        0.999895   0.947368  1.000000  0.972973  0.972973   \n",
              "XGBClas              0.999791   0.970588  0.916667  0.942857  0.942857   \n",
              "AdaBoost             0.999791   0.970588  0.916667  0.942857  0.942857   \n",
              "Decision Tree        0.999686   0.916667  0.916667  0.916667  0.916667   \n",
              "Nearest Neighbors    0.999686   0.968750  0.861111  0.911765  0.911765   \n",
              "Logistic Regression  0.998484   0.888889  0.222222  0.355556  0.355556   \n",
              "\n",
              "                     Train Time   log_los  \n",
              "Classifier                                 \n",
              "Random Forest          8.652777  0.003610  \n",
              "XGBClas                5.295605  0.007221  \n",
              "AdaBoost               2.525769  0.007221  \n",
              "Decision Tree          0.189997  0.010831  \n",
              "Nearest Neighbors      0.579795  0.010831  \n",
              "Logistic Regression    0.963790  0.052351  "
            ]
          },
          "metadata": {
            "tags": []
          },
          "execution_count": 45
        }
      ]
    },
    {
      "cell_type": "markdown",
      "metadata": {
        "id": "xWelq3-pu7f7",
        "colab_type": "text"
      },
      "source": [
        "## K-Neighbor"
      ]
    },
    {
      "cell_type": "code",
      "metadata": {
        "id": "sB3yS0PQu7f-",
        "colab_type": "code",
        "colab": {},
        "outputId": "dbe2e08c-3282-428a-f88b-e27a3609321e"
      },
      "source": [
        "from sklearn import cross_validation\n",
        "from sklearn import grid_search\n",
        "import numpy as np\n",
        "\n",
        "\n",
        "model = RandomForestClassifier()\n",
        "\n",
        "params = {'n_estimators':[30, 50, 100,500],\n",
        "          'max_features':['sqrt', 'log2', 10]}\n",
        "gsv = grid_search.GridSearchCV(model, params, cv=3,n_jobs =-1,scoring='f1')\n",
        "gsv.fit(X_train, y_train)\n",
        "\n",
        "print(metrics.classification_report(y_train, gsv.best_estimator_.predict(X_train)))\n",
        "\n",
        "print(metrics.classification_report(y_test, gsv.best_estimator_.predict(X_test)))"
      ],
      "execution_count": 0,
      "outputs": [
        {
          "output_type": "stream",
          "text": [
            "             precision    recall  f1-score   support\n",
            "\n",
            "          0       1.00      1.00      1.00     76372\n",
            "          1       1.00      1.00      1.00       157\n",
            "\n",
            "avg / total       1.00      1.00      1.00     76529\n",
            "\n",
            "             precision    recall  f1-score   support\n",
            "\n",
            "          0       1.00      1.00      1.00     19097\n",
            "          1       0.95      1.00      0.97        36\n",
            "\n",
            "avg / total       1.00      1.00      1.00     19133\n",
            "\n"
          ],
          "name": "stdout"
        }
      ]
    },
    {
      "cell_type": "code",
      "metadata": {
        "id": "6Kih_4MIu7gN",
        "colab_type": "code",
        "colab": {},
        "outputId": "5db9ae41-20ae-440d-ee4d-fddfb036df9b"
      },
      "source": [
        "print(gsv.best_params_)\n",
        "print(np.mean(y_test==gsv.best_estimator_.predict(X_test)))\n",
        "print(log_loss(y_test,gsv.best_estimator_.predict(X_test)))"
      ],
      "execution_count": 0,
      "outputs": [
        {
          "output_type": "stream",
          "text": [
            "{'max_features': 10, 'n_estimators': 50}\n",
            "0.99989546856217\n",
            "0.0036104715405164303\n"
          ],
          "name": "stdout"
        }
      ]
    },
    {
      "cell_type": "markdown",
      "metadata": {
        "id": "0HbzOapZu7gm",
        "colab_type": "text"
      },
      "source": [
        "## RandomForestClass"
      ]
    },
    {
      "cell_type": "code",
      "metadata": {
        "id": "PazvHZAQu7gp",
        "colab_type": "code",
        "colab": {}
      },
      "source": [
        "# lm = XGBClassifier()"
      ],
      "execution_count": 0,
      "outputs": []
    },
    {
      "cell_type": "code",
      "metadata": {
        "id": "-RdrTLU7u7gx",
        "colab_type": "code",
        "colab": {}
      },
      "source": [
        "# lm.get_params()"
      ],
      "execution_count": 0,
      "outputs": []
    },
    {
      "cell_type": "code",
      "metadata": {
        "id": "i7A0rQVru7hE",
        "colab_type": "code",
        "colab": {}
      },
      "source": [
        "# from sklearn.model_selection import GridSearchCV\n",
        "# params = {'gamma':(0,0.5,1,3,2,3)}\n",
        "# clf = GridSearchCV(lm,params)"
      ],
      "execution_count": 0,
      "outputs": []
    },
    {
      "cell_type": "code",
      "metadata": {
        "id": "iIbESAcBu7hd",
        "colab_type": "code",
        "colab": {}
      },
      "source": [
        "# gsv.fit(X_train,y_train)"
      ],
      "execution_count": 0,
      "outputs": []
    },
    {
      "cell_type": "code",
      "metadata": {
        "scrolled": true,
        "id": "Aoc40U1Zu7hl",
        "colab_type": "code",
        "colab": {}
      },
      "source": [
        "# y_pred = clf.predict(X_test)\n",
        "# print(np.mean(y_test==y_pred))\n",
        "# print(log_loss(y_test,y_pred))\n",
        "# print(clf.best_params_)"
      ],
      "execution_count": 0,
      "outputs": []
    },
    {
      "cell_type": "code",
      "metadata": {
        "id": "oVQJyM4Uu7hx",
        "colab_type": "code",
        "colab": {}
      },
      "source": [
        "X_test_dat = test"
      ],
      "execution_count": 0,
      "outputs": []
    },
    {
      "cell_type": "code",
      "metadata": {
        "id": "HxnDsuyeu7iE",
        "colab_type": "code",
        "colab": {}
      },
      "source": [
        "pred_val = gsv.predict(X_test_dat)"
      ],
      "execution_count": 0,
      "outputs": []
    },
    {
      "cell_type": "code",
      "metadata": {
        "id": "4VC50swWu7jZ",
        "colab_type": "code",
        "colab": {}
      },
      "source": [
        "# print(clf.best_params_)\n",
        "# print(clf.best_score_)"
      ],
      "execution_count": 0,
      "outputs": []
    },
    {
      "cell_type": "code",
      "metadata": {
        "id": "RX69g646u7jl",
        "colab_type": "code",
        "colab": {}
      },
      "source": [
        "sub = pd.DataFrame()"
      ],
      "execution_count": 0,
      "outputs": []
    },
    {
      "cell_type": "code",
      "metadata": {
        "id": "zp5UAUnfu7jq",
        "colab_type": "code",
        "colab": {}
      },
      "source": [
        "sub['TransactionId']=df_test['TransactionId']"
      ],
      "execution_count": 0,
      "outputs": []
    },
    {
      "cell_type": "code",
      "metadata": {
        "id": "CCx_RgKau7j1",
        "colab_type": "code",
        "colab": {}
      },
      "source": [
        "sub['FraudResult']=pred_val"
      ],
      "execution_count": 0,
      "outputs": []
    },
    {
      "cell_type": "code",
      "metadata": {
        "id": "Mh8mUMUCu7kB",
        "colab_type": "code",
        "colab": {},
        "outputId": "6eba9797-ea16-4ea6-8cb7-d121b01876a2"
      },
      "source": [
        "sub['FraudResult'].value_counts()"
      ],
      "execution_count": 0,
      "outputs": [
        {
          "output_type": "execute_result",
          "data": {
            "text/plain": [
              "0    44945\n",
              "1       74\n",
              "Name: FraudResult, dtype: int64"
            ]
          },
          "metadata": {
            "tags": []
          },
          "execution_count": 59
        }
      ]
    },
    {
      "cell_type": "code",
      "metadata": {
        "id": "YVEl5V4ju7kf",
        "colab_type": "code",
        "colab": {}
      },
      "source": [
        "sub.to_csv('submission.csv', index=False)"
      ],
      "execution_count": 0,
      "outputs": []
    },
    {
      "cell_type": "code",
      "metadata": {
        "id": "HhDPacmPu7kq",
        "colab_type": "code",
        "colab": {}
      },
      "source": [
        ""
      ],
      "execution_count": 0,
      "outputs": []
    }
  ]
}